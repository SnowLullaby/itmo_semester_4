{
  "cells": [
    {
      "cell_type": "markdown",
      "metadata": {
        "id": "TejmrLtkLmMM"
      },
      "source": [
        "# Расчёт определённого интеграла в Python с применением к ипотеке и строительству дома.\n",
        "\n",
        "На этом занятии мы рассмотрим различные методы вычисления определенных интегралов с использованием библиотек Python, таких как SciPy, SymPy и NumPy. Мы сравним эти методы с точки зрения эффективности использования времени, памяти и точности. Наконец, мы применим эти методы к практическим задачам, таким как расчеты по ипотечным кредитам и сценарии строительства домов."
      ]
    },
    {
      "cell_type": "code",
      "metadata": {
        "id": "IqBHtz_2LmMg"
      },
      "source": [
        "%pip install --quiet scipy numpy sympy matplotlib"
      ],
      "outputs": [],
      "execution_count": null
    },
    {
      "cell_type": "markdown",
      "metadata": {
        "id": "93mTKwYXLmMi"
      },
      "source": [
        "## Задачи\n",
        "\n",
        "1. Понять, как вычислять определенные интегралы с помощью SciPy, SymPy и NumPy.\n",
        "2. Сравнить методы, основанные на эффективности использования времени, памяти и точности.\n",
        "3. Применить методы вычисления интегралов к реальным задачам."
      ]
    },
    {
      "cell_type": "markdown",
      "metadata": {
        "id": "JUMEObjhLmMj"
      },
      "source": [
        "## Список упражнений:\n",
        "- 1-4 Сравнительно простые на анализ реализаций методов\n",
        "- 5 - Простейшее упражнение на понимание ипотечного калькулятора\n",
        "- 7 - Скорее всего будет простым, расчёт стоимости материалов для строительства\n",
        "- 11-13 - Творческие задания на применение изученных методов. Основное время вероятно может уйти на эти задания.\n",
        "- Заключительное - подведение итогов\n",
        "- 6,8,9,10 - Дополнительные задания для тех, кто сделал все предыдущие и хочет углубиться в эту тему.\n",
        "\n",
        "Итого обязательные задания (10): 1,2,3,4,5,7,11,12,13 и заключительное"
      ]
    },
    {
      "cell_type": "markdown",
      "metadata": {
        "id": "GqOEDoxVLmMp"
      },
      "source": [
        "## 1. Вычисление определенных интегралов с помощью SciPy\n",
        "\n",
        "Ссылка на документацию: https://docs.scipy.org/doc/scipy/tutorial/integrate.html"
      ]
    },
    {
      "cell_type": "code",
      "metadata": {
        "jupyter": {
          "is_executing": true
        },
        "colab": {
          "base_uri": "https://localhost:8080/"
        },
        "id": "iTP8jeJiLmMr",
        "outputId": "5446aceb-c5a6-4469-e2be-da037e1ff091"
      },
      "source": [
        "from scipy.integrate import quad, trapezoid, cumulative_trapezoid, simpson, romb\n",
        "import numpy as np\n",
        "\n",
        "# Define the function to integrate\n",
        "def f(x):\n",
        "    return np.sin(x) ** 2\n",
        "\n",
        "# Calculate the definite integral of f(x) from 0 to π\n",
        "result_quad, error_quad = quad(f, -1, 1) # Integrate func from a to b using a technique from the Fortran library QUADPACK\n",
        "print(\"SciPy Result:\", result_quad)\n",
        "print(\"Estimated Error:\", error_quad)\n",
        "print(\"_____\")\n",
        "\n",
        "\n",
        "# Generate sample points\n",
        "x = np.linspace(-1, 1, 1025)\n",
        "y = f(x)\n",
        "\n",
        "result_trapezoid = trapezoid(y, x)\n",
        "result_cumulative = cumulative_trapezoid(y, x)\n",
        "result_simpson = simpson(y)\n",
        "# # Ensure the number of samples is 2^n + 1\n",
        "# n = 4  # Example: n = 4, so 2^n + 1 = 17\n",
        "# y_subset = y[:2**n + 1]  # Take the first 17 points\n",
        "result_romb = romb(y, x)  # Riemann sum, requires 2^n + 1 points\n",
        "\n",
        "print(\"SciPy Trapezoid Result:\", result_trapezoid)\n",
        "print(\"SciPy Cumulative Trapezoid Result:\", result_cumulative)\n",
        "print(\"SciPy Simpson Result:\", result_simpson)\n",
        "print(\"SciPy Romberg Result:\", result_romb)"
      ],
      "outputs": [
        {
          "output_type": "stream",
          "name": "stdout",
          "text": [
            "SciPy Result: 0.5453512865871593\n",
            "Estimated Error: 6.054615548780165e-15\n",
            "_____\n",
            "SciPy Trapezoid Result: 0.5453518647030409\n",
            "SciPy Cumulative Trapezoid Result: [0.00138122 0.00275897 0.00413323 ... 0.5425929  0.54397064 0.54535186]\n",
            "SciPy Simpson Result: 279.2198587323244\n",
            "SciPy Romberg Result: [-279.21985873 -278.67450745 -278.12915616 ...  278.12915616  278.67450745\n",
            "  279.21985873]\n"
          ]
        }
      ],
      "execution_count": 5
    },
    {
      "cell_type": "markdown",
      "metadata": {
        "id": "Z_0pomGHLmMt"
      },
      "source": [
        "### Упражнение 1\n",
        "- Измените функцию `f(x)` в **ячейке выше**, чтобы вычислить интеграл от $e^{-x^2}$ от -1 до 1.\n",
        "- Проанализируйте полученные результаты и ошибку.\n",
        "\n",
        "1. Что бы вычислять интеграл от -1 до 1 изменим строку result_quad, error_quad = quad(f, 0, np.pi) на result_quad, error_quad = quad(f, -1, 1) и x = np.linspace(0, np.pi, 1025) на x = np.linspace(-1, 1, 1025)\n",
        "2. Ошибка TypeError: simpson() takes 1 positional argument but 2 were given возникает, потому что в функции simpson() из SciPy передаются два аргумента: массив значений функции и массив точек. Однако эта функция ожидает два параметра только в случае, если используется метод Симпсона для неравномерных сеток. Для стандартной сетки (с равномерным шагом) достаточно передавать только массив значений функции, и SciPy сам определит шаг.\n",
        "3. Первые 3 метода работают верно и идут к рельному ответу около 0.545.\n",
        "\n",
        "SciPy Simpson Result: Значение 279.22 сильно отличается от ожидаемого результата, вероятно, из-за неправильного использования метода Симпсона с передачей только значений функции и отсутствием корректного шага для интеграла.\n",
        "\n",
        "SciPy Romberg Result: Также возникает ошибка. Результат для метода Ромберга неприемлемо велик (порядка 279), что связано с неверными настройками (например, неверно задана сетка)."
      ]
    },
    {
      "cell_type": "markdown",
      "metadata": {
        "id": "NEt63V41LmMz"
      },
      "source": [
        "## 2. Вычисление определенных интегралов с помощью SymPy\n",
        "\n",
        "Ссылка на документацию: https://docs.sympy.org/latest/modules/integrals/integrals.html#"
      ]
    },
    {
      "cell_type": "code",
      "metadata": {
        "colab": {
          "base_uri": "https://localhost:8080/"
        },
        "id": "93l8E52oLmM0",
        "outputId": "5a257a9f-154d-4c9e-a48f-b5937dfc9361"
      },
      "source": [
        "from sympy import symbols, integrate, sin, pi\n",
        "\n",
        "# Define the variable and function\n",
        "x = symbols('x')\n",
        "f = sin(x) ** 2\n",
        "\n",
        "# Calculate the definite integral of f(x) from 0 to π\n",
        "result = integrate(f, (x, 0, pi))\n",
        "print(\"SymPy Result:\", result)"
      ],
      "outputs": [
        {
          "output_type": "stream",
          "name": "stdout",
          "text": [
            "SymPy Result: pi/2\n"
          ]
        }
      ],
      "execution_count": 2
    },
    {
      "cell_type": "markdown",
      "metadata": {
        "id": "ElL6b3ZQLmM1"
      },
      "source": [
        "### Упражнение 2\n",
        "Измените код **в ячейке ниже**: с помощью SymPy вычислите интеграл от $x ^ 3 - 4x + 1$ от -2 до 2. Сравните результат с помощью SciPy.\n",
        "\n",
        "Ответы получились достаточно точные. Погрешноть порядка -14."
      ]
    },
    {
      "cell_type": "code",
      "metadata": {
        "colab": {
          "base_uri": "https://localhost:8080/"
        },
        "id": "YOec-fqmLmM2",
        "outputId": "1c7c82b1-2cd5-402c-e767-77c255cd8ded"
      },
      "source": [
        "from sympy import symbols, integrate\n",
        "import numpy as np\n",
        "from scipy.integrate import quad\n",
        "\n",
        "# Define the variable and function for SymPy\n",
        "x = symbols('x')\n",
        "f_sympy = x**3 - 4*x + 1\n",
        "\n",
        "# Calculate the definite integral of f(x) from -2 to 2 using SymPy\n",
        "result_sympy = integrate(f_sympy, (x, -2, 2))\n",
        "print(\"SymPy Result:\", result_sympy)\n",
        "\n",
        "# Define the same function for SciPy\n",
        "def f_scipy(x):\n",
        "    return x**3 - 4*x + 1\n",
        "\n",
        "# Calculate the definite integral of f(x) from -2 to 2 using SciPy\n",
        "result_scipy, error_scipy = quad(f_scipy, -2, 2)\n",
        "print(\"SciPy Result:\", result_scipy)\n",
        "print(\"Estimated Error (SciPy):\", error_scipy)"
      ],
      "outputs": [
        {
          "output_type": "stream",
          "name": "stdout",
          "text": [
            "SymPy Result: 4\n",
            "SciPy Result: 3.9999999999999996\n",
            "Estimated Error (SciPy): 9.282160601123169e-14\n"
          ]
        }
      ],
      "execution_count": 22
    },
    {
      "cell_type": "markdown",
      "metadata": {
        "id": "22JXU_--LmM8"
      },
      "source": [
        "## 3. Вычисление определенных интегралов с помощью NumPy\n",
        "\n",
        "Ссылка на документацию: https://numpy.org/doc/stable/reference/generated/numpy.trapezoid.html"
      ]
    },
    {
      "cell_type": "code",
      "metadata": {
        "colab": {
          "base_uri": "https://localhost:8080/",
          "height": 546
        },
        "id": "mKb5knz6LmM9",
        "outputId": "2365afd8-52e4-4337-e608-531f26a26f8d"
      },
      "source": [
        "from sympy import symbols, integrate, cos, pi\n",
        "import matplotlib.pyplot as plt\n",
        "\n",
        "# Define the function to integrate\n",
        "def f(x):\n",
        "    return np.sin(x) ** 2\n",
        "\n",
        "# Generate sample points\n",
        "x = np.linspace(0, np.pi/2, 1000)\n",
        "y = f(x)\n",
        "\n",
        "# Use the trapezoidal rule to approximate the integral\n",
        "result_np = np.trapezoid(y, x)\n",
        "print(\"NumPy Result:\", result_np)\n",
        "\n",
        "# Here we could also use the `scipy.integrate.trapezoid` method\n",
        "result_scipy = trapezoid(y, x)\n",
        "print(\"SciPy Trapezoid Result:\", result_scipy)\n",
        "print(\"difference:\", abs(result_scipy-result_np))\n",
        "\n",
        "x_sym = symbols('x')\n",
        "f_sym = cos(x_sym)\n",
        "result_sympy = integrate(f_sym, (x_sym, 0, pi/2))\n",
        "print(\"SymPy Result:\", result_sympy)\n",
        "\n",
        "# Plotting the function and the area under the curve\n",
        "plt.plot(x, y, label='f(x) = cos(x)')\n",
        "plt.fill_between(x, y, alpha=0.5, label='Area under curve')\n",
        "plt.title('Definite Integral of f(x) from 0 to π/2')\n",
        "plt.xlabel('x')\n",
        "plt.ylabel('f(x)')\n",
        "plt.legend()\n",
        "plt.grid()\n",
        "plt.show()"
      ],
      "outputs": [
        {
          "output_type": "stream",
          "name": "stdout",
          "text": [
            "NumPy Result: 0.7853981633974483\n",
            "SciPy Trapezoid Result: 0.7853981633974483\n",
            "difference: 0.0\n",
            "SymPy Result: 1\n"
          ]
        },
        {
          "output_type": "display_data",
          "data": {
            "text/plain": [
              "<Figure size 640x480 with 1 Axes>"
            ],
            "image/png": "[encoded data removed]"
          },
          "metadata": {}
        }
      ],
      "execution_count": 8
    },
    {
      "cell_type": "markdown",
      "metadata": {
        "id": "nSzjQW2xLmM-"
      },
      "source": [
        "### Упражнение 3\n",
        "- Измените **ячейку выше**: измените функцию `f(x)`, чтобы вычислить интеграл от $\\cos(x)$ от 0 до $\\pi/2$ с помощью NumPy.\n",
        "- Сравните результат с помощью SciPy и SymPy.\n",
        "\n",
        "1. Исправим строчку 6\n",
        "2. Результаты для численных методов (NumPy и SciPy) согласуются друг с другом и приближаются к теоретическому значению интеграла. Однако, результат SymPy в контексте численного интегрирования является ошибочным, так как это символический результат, а не численный. Поэтому для численного результата, правильные методы — это NumPy и SciPy, где разница между ними минимальна."
      ]
    },
    {
      "cell_type": "markdown",
      "metadata": {
        "id": "4mLZ9PkHLmM_"
      },
      "source": [
        "## Сравните различные методы для одной и той же функции."
      ]
    },
    {
      "cell_type": "code",
      "metadata": {
        "colab": {
          "base_uri": "https://localhost:8080/",
          "height": 472
        },
        "id": "-ZkEtHTgLmNE",
        "outputId": "7a16da41-30bd-44fe-ee1c-f0f7343ffed7"
      },
      "source": [
        "# Generate sample points\n",
        "x = np.linspace(0, np.pi, 1000)\n",
        "y = x**2\n",
        "# Define the function to integrate\n",
        "\n",
        "# Plotting the function and the area under the curve\n",
        "import matplotlib.pyplot as plt\n",
        "# Plot the function\n",
        "plt.plot(x, y, label='f(x) = x^2')\n",
        "plt.fill_between(x, y, alpha=0.5, label='Area under curve')\n",
        "plt.title('Definite Integral of f(x) from 0 to 1')\n",
        "plt.xlabel('x')\n",
        "plt.ylabel('f(x)')\n",
        "plt.legend()\n",
        "plt.grid()\n",
        "plt.show()"
      ],
      "outputs": [
        {
          "output_type": "display_data",
          "data": {
            "text/plain": [
              "<Figure size 640x480 with 1 Axes>"
            ],
            "image/png": "[encoded data removed]"
          },
          "metadata": {}
        }
      ],
      "execution_count": 9
    },
    {
      "cell_type": "code",
      "metadata": {
        "colab": {
          "base_uri": "https://localhost:8080/"
        },
        "id": "Sip_2y_PLmNF",
        "outputId": "0bef2d7e-fd07-4f92-a51c-0c4d798df9ba"
      },
      "source": [
        "import numpy as np\n",
        "from sympy import symbols, integrate, lambdify\n",
        "import time\n",
        "import tracemalloc\n",
        "\n",
        "import scipy.integrate as spi\n",
        "# Measure the time and memory consumption for each method.\n",
        "\n",
        "def scipy_integral():\n",
        "    f = lambda x: x**2\n",
        "    result, _ = spi.quad(f, 0, 1)\n",
        "    return result\n",
        "\n",
        "def sympy_integral():\n",
        "    x = symbols('x')\n",
        "    f = x**2\n",
        "    result = integrate(f, (x, 0, 1))\n",
        "    return float(result)\n",
        "\n",
        "def numpy_integral():\n",
        "    x = np.linspace(0, 1, 1000)\n",
        "    f = x**2\n",
        "    result = np.trapezoid(f, x)\n",
        "    return result\n",
        "\n",
        "def measure_performance(func):\n",
        "    tracemalloc.start()\n",
        "    start_time = time.time()\n",
        "    result = func()\n",
        "    end_time = time.time()\n",
        "    current, peak = tracemalloc.get_traced_memory()\n",
        "    tracemalloc.stop()\n",
        "    return result, end_time - start_time, peak / 1024  # Memory in KB\n",
        "\n",
        "scipy_perf = measure_performance(scipy_integral)\n",
        "sympy_perf = measure_performance(sympy_integral)\n",
        "numpy_perf = measure_performance(numpy_integral)\n",
        "\n",
        "print(f\"SciPy: Result={scipy_perf[0]}, Time={scipy_perf[1]:.6f}s, Memory={scipy_perf[2]:.2f}KB\")\n",
        "print(f\"SymPy: Result={sympy_perf[0]}, Time={sympy_perf[1]:.6f}s, Memory={sympy_perf[2]:.2f}KB\")\n",
        "print(f\"NumPy: Result={numpy_perf[0]}, Time={numpy_perf[1]:.6f}s, Memory={numpy_perf[2]:.2f}KB\")"
      ],
      "outputs": [
        {
          "output_type": "stream",
          "name": "stdout",
          "text": [
            "SciPy: Result=0.33333333333333337, Time=0.000202s, Memory=2.41KB\n",
            "SymPy: Result=0.3333333333333333, Time=0.045717s, Memory=60.24KB\n",
            "NumPy: Result=0.333333500333834, Time=0.000410s, Memory=40.03KB\n"
          ]
        }
      ],
      "execution_count": 10
    },
    {
      "cell_type": "code",
      "metadata": {
        "colab": {
          "base_uri": "https://localhost:8080/"
        },
        "id": "dmslL8yKLmNG",
        "outputId": "000d14f0-f4c7-4d76-a8a7-c87c804aa847"
      },
      "source": [
        "%%timeit -r 10 -n 1000\n",
        "scipy_integral()"
      ],
      "outputs": [
        {
          "output_type": "stream",
          "name": "stdout",
          "text": [
            "9.99 µs ± 2.52 µs per loop (mean ± std. dev. of 10 runs, 1000 loops each)\n"
          ]
        }
      ],
      "execution_count": 11
    },
    {
      "cell_type": "code",
      "metadata": {
        "colab": {
          "base_uri": "https://localhost:8080/"
        },
        "id": "0DF0il_HLmNL",
        "outputId": "4a29357d-51be-4ea4-e34a-2c74ec5287a5"
      },
      "source": [
        "%%timeit -r 10 -n 1000\n",
        "sympy_integral()"
      ],
      "outputs": [
        {
          "output_type": "stream",
          "name": "stdout",
          "text": [
            "7.35 ms ± 707 µs per loop (mean ± std. dev. of 10 runs, 1000 loops each)\n"
          ]
        }
      ],
      "execution_count": 12
    },
    {
      "cell_type": "code",
      "metadata": {
        "colab": {
          "base_uri": "https://localhost:8080/"
        },
        "id": "3WGjPSQvLmNM",
        "outputId": "8340e68e-b2d7-4c83-955f-d12fa8dab153"
      },
      "source": [
        "%%timeit -r 10 -n 1000\n",
        "numpy_integral()"
      ],
      "outputs": [
        {
          "output_type": "stream",
          "name": "stdout",
          "text": [
            "43.4 µs ± 13.1 µs per loop (mean ± std. dev. of 10 runs, 1000 loops each)\n"
          ]
        }
      ],
      "execution_count": 13
    },
    {
      "cell_type": "markdown",
      "metadata": {
        "id": "8233VMPBLmNN"
      },
      "source": [
        "Дополнительно вы можете прочитать о волшебных командах для профилирования в JN: https://www.geeksforgeeks.org/magic-commands-for-profiling-in-jupyter-notebook/"
      ]
    },
    {
      "cell_type": "markdown",
      "metadata": {
        "id": "F9PgWeZjLmNO"
      },
      "source": [
        "### Упражнение 4.\n",
        "\n",
        "Сравните и проанализируйте полученные результаты\n",
        "1. SciPy является самым быстрым и наиболее эффективным методом для численного интегрирования, особенно когда требуется высокая производительность и точность.\n",
        "\n",
        "2. SymPy даёт точный результат для символических вычислений, но требует значительно (очень значительно) больше времени и памяти.\n",
        "\n",
        "3. NumPy также даёт быстрые результаты, но немного менее точен из-за приближений численного метода трапеций."
      ]
    },
    {
      "cell_type": "markdown",
      "metadata": {
        "id": "diKH7dmbLmNT"
      },
      "source": [
        "## 4. Практическое применение: Ипотечный калькулятор\n",
        "\n",
        "В этом разделе мы рассчитаем общую сумму процентов, выплачиваемых по ипотеке, используя интегральные методы.\n",
        "\n",
        "На самом деле с ипотечными калькуляторами дело обстоит плохо: многие онлайн-калькуляторы для одних и тех же данных дают разные результаты. Давайте попробуем написать свой простой калькулятор.\n",
        "\n",
        "*Что ещё полезно помнить про ипотеку и почему важно знать интегралы*: несмотря на то, что месячные платежи будут постоянными (если Вы не начнёте досрочно погашать кредит), сам платёж будет состоять из суммы, которая пойдёт на погашение кредита, + суммы по процентам. При этом соотношение частей в тело и в проценты будет меняться со временем, например, вначале Ваш месячный платёж по ипотеке на 90% состоит из суммы, которая идёт на погашение процентов и только на 10% на погашение тела кредита. В конце срока, соотношение будет обратным: 10% - проценты и 90% - в тело кредита. Проценты рассчитываются от оставшегося тела кредита. Выгодно ли досрочно закрывать ипотеку? Это зависит от многих факторов, в особенности от инфляции, потому что изначально Вы покупаете недвижимость на деньги банка, а свои деньги вкладываете со временем (например через 30 лет). Однако, экономическая обстановка может быть разной и надежнее, разумеется, выплатить ипотеку раньше, чтобы иметь недвижимость в собственности, а не в залоге у банка."
      ]
    },
    {
      "cell_type": "code",
      "metadata": {
        "colab": {
          "base_uri": "https://localhost:8080/"
        },
        "id": "LXyjU1j3LmNU",
        "outputId": "fc366514-d0ef-43bc-a5a9-79e53cfc364c"
      },
      "source": [
        "# Define the mortgage payment function\n",
        "def mortgage_payment(principal, rate, time):\n",
        "    return principal * rate * np.exp(-rate * time)\n",
        "\n",
        "# Parameters\n",
        "principal = 300000  # Loan amount in dollars\n",
        "rate = 0.05         # Annual interest rate\n",
        "\n",
        "# Calculate the total interest paid over 30 years\n",
        "total_interest, error = quad(lambda t: mortgage_payment(principal, rate, t), 0, 30)\n",
        "print(\"Total Interest Paid:\", total_interest)\n",
        "\n",
        "# Parameters\n",
        "principal = 500000  # Loan amount in dollars (changed to 500,000)\n",
        "rate = 0.04         # Annual interest rate (changed to 4%)\n",
        "\n",
        "# Calculate the total interest paid over 30 years\n",
        "total_interest, error = quad(lambda t: mortgage_payment(principal, rate, t), 0, 30)\n",
        "print(\"Total Interest Paid:\", total_interest)"
      ],
      "outputs": [
        {
          "output_type": "stream",
          "name": "stdout",
          "text": [
            "Total Interest Paid: 233060.95195547104\n",
            "Total Interest Paid: 349402.8940438989\n"
          ]
        }
      ],
      "execution_count": 15
    },
    {
      "cell_type": "markdown",
      "metadata": {
        "id": "RMXMohfgLmNU"
      },
      "source": [
        "### Упражнение 5\n",
        "Измените в ячейке выше `principal\" на 500 000 долларов, а \"rate\" на 4%. Пересчитайте общую сумму процентов, выплаченных за 30 лет.\n",
        "\n",
        "О, нет. Мы заплатим больше, какой ужас."
      ]
    },
    {
      "cell_type": "markdown",
      "metadata": {
        "id": "XZhH3zoULmNV"
      },
      "source": [
        "## Упражнение 6* (дополнительное, если успели сделать все предыдущие И последующие упражнения).\n",
        "\n",
        "Посчитайте какую сумму по процентам Вы заплатите по ипотеке, если время от времени будете платить за ипотеку больше месячного платежа в уплату тела кредита. Решение представьте в ячейке ниже."
      ]
    },
    {
      "cell_type": "code",
      "metadata": {
        "id": "poA416-LLmNt"
      },
      "source": [
        "# YOUR CODE HERE"
      ],
      "outputs": [],
      "execution_count": null
    },
    {
      "cell_type": "markdown",
      "metadata": {
        "id": "SQW24YmmLmNu"
      },
      "source": [
        "## 5. Практическое применение: Сценарий строительства дома\n",
        "\n",
        "### 5.1. Общая стоимость строительства дома с течением времени\n",
        "В этом разделе мы рассчитаем общую стоимость строительства дома на основе изменения стоимости материалов с течением времени."
      ]
    },
    {
      "cell_type": "code",
      "metadata": {
        "colab": {
          "base_uri": "https://localhost:8080/"
        },
        "id": "czhHZN5QLmN0",
        "outputId": "d219b869-8a83-4437-f07e-ac33ff6e64a6"
      },
      "source": [
        "# Define the material cost function\n",
        "def material_cost(t):\n",
        "    return 100 + 10 * np.sin(0.5 * t)\n",
        "\n",
        "def material_cost_new(t):\n",
        "    return 100 + 10 * np.sin(0.5 * t) * np.exp(0.05 * t)\n",
        "\n",
        "# Calculate the total cost over 12 months\n",
        "total_cost, error = quad(material_cost, 0, 12)\n",
        "print(\"Total Material Cost:\", total_cost)\n",
        "\n",
        "# Calculate the total cost over 12 months\n",
        "total_cost, error = quad(material_cost_new, 0, 12)\n",
        "print(\"Total Material Cost:\", total_cost)"
      ],
      "outputs": [
        {
          "output_type": "stream",
          "name": "stdout",
          "text": [
            "Total Material Cost: 1200.7965942669925\n",
            "Total Material Cost: 1184.1493632847357\n"
          ]
        }
      ],
      "execution_count": 17
    },
    {
      "cell_type": "markdown",
      "metadata": {
        "id": "Gse41pfULmN3"
      },
      "source": [
        "### Упражнение 7\n",
        "Измените функцию material_cost в ячейке выше, включив в нее коэффициент экспоненциального роста. Пересчитайте общую стоимость за 12 месяцев.\n",
        "\n",
        "Стало меньше, экспонента не так быстро набирает высоту."
      ]
    },
    {
      "cell_type": "markdown",
      "metadata": {
        "id": "TAsVn-VkLmN9"
      },
      "source": [
        "### 5.3 Площадь и объем дома\n",
        "\n",
        "Логично, что площадь и объём дома можно посчитать не прибегая к интегралам для большинства случаев. Так и поступим здесь. Однако, площадь прямоугольника - это самый простейший случай определённого интеграла для постоянной функции.\n",
        "\n",
        "Так, если, например, стена Вашего дома изгибается волной, как на фото ниже, то для точного расчёта его площади без интеграла уже не обойтись.\n",
        "![image.png](attachment:image.png)\n",
        "![image-2.png](attachment:image-2.png)"
      ]
    },
    {
      "cell_type": "code",
      "metadata": {
        "colab": {
          "base_uri": "https://localhost:8080/"
        },
        "id": "Tou8D2QHLmN9",
        "outputId": "5a191c5b-89a5-44d5-d2b8-bddcb573b37c"
      },
      "source": [
        "# Define the dimensions of the house\n",
        "length = 10  # Length in meters\n",
        "width = 8    # Width in meters\n",
        "height = 3   # Height in meters\n",
        "# Calculate the area of the house\n",
        "area = length * width\n",
        "# Calculate the volume of the house\n",
        "volume = length * width * height\n",
        "# Print the results\n",
        "print(\"Area of the house:\", area, \"m^2\")\n",
        "print(\"Volume of the house:\", volume, \"m^3\")"
      ],
      "outputs": [
        {
          "output_type": "stream",
          "name": "stdout",
          "text": [
            "Area of the house: 80 m^2\n",
            "Volume of the house: 240 m^3\n"
          ]
        }
      ],
      "execution_count": 18
    },
    {
      "cell_type": "markdown",
      "metadata": {
        "id": "0HnRRpR3LmN_"
      },
      "source": [
        "## Упражнение 8* (дополнительное, если успели сделать все предыдущие И последующие упражнения)\n",
        "\n",
        "Выберите любой проект дома по картинке в интернете и посчитайте его площадь. Например для домов ниже, можно использовать метод Люстерника-Диткина.\n",
        "\n",
        "- Замените это изображение, если выбрали другой дом.\n",
        "- Замените код в ячейке ниже, чтобы рассчитать площадь дома.\n",
        "\n",
        "![image.png](attachment:image.png)\n"
      ]
    },
    {
      "cell_type": "code",
      "metadata": {
        "id": "iFec_mOiLmOA"
      },
      "source": [
        "# YOUR CODE HERE\n",
        "\n",
        "# CODE EXAMPLE 1: Calculate the area of a hexagon house\n",
        "import numpy as np\n",
        "import matplotlib.pyplot as plt\n",
        "from scipy.integrate import dblquad\n",
        "# Define the vertices of the hexagon\n",
        "vertices = np.array([[0, 0], [1, 0], [1.5, np.sqrt(3)/2], [1, np.sqrt(3)], [0, np.sqrt(3)], [-0.5, np.sqrt(3)/2]])\n",
        "# Define the area function for the hexagon\n",
        "def area_function(x, y):\n",
        "    # Example area function for a hexagon\n",
        "    # This is a placeholder; replace with the actual area function\n",
        "    return 0.5 * (x * y)  # Placeholder for the area of a hexagon\n",
        "\n",
        "area, error = dblquad(area_function, 0, 1, lambda x: 0, lambda x: np.sqrt(3) * (1 - x))\n",
        "print(\"Hexagon Area:\", area)\n",
        "\n",
        "# CODE EXAMPLE 2: Calculate the area of a hexagon house using Lusternik-Ditkin method\n",
        "vertices = np.array([[0, 0], [1, 0], [1.5, np.sqrt(3)/2], [1, np.sqrt(3)], [0, np.sqrt(3)], [-0.5, np.sqrt(3)/2]])\n",
        "# Calculate the area using the Lusternik-Ditkin method\n",
        "def lusternik_ditkin(vertices):\n",
        "    n = len(vertices)\n",
        "    area = 0.0\n",
        "    for i in range(n):\n",
        "        j = (i + 1) % n\n",
        "        area += vertices[i][0] * vertices[j][1] - vertices[j][0] * vertices[i][1]\n",
        "    return abs(area) / 2.0\n",
        "area = lusternik_ditkin(vertices)\n",
        "print(\"Hexagon Area (Lusternik-Ditkin):\", area)"
      ],
      "outputs": [],
      "execution_count": null
    },
    {
      "cell_type": "markdown",
      "metadata": {
        "id": "NoXuDee_LmOG"
      },
      "source": [
        "### 5.4 Анализ теплового потока.\n",
        "\n",
        "Здесь речь идёт о замерах продуваемости дома в различных его участках в зависимости от используемых материалов. Это важно, чтобы верно рассчитать материалы, их последовательность и углы примыкания, чтобы дома была комфортная температура, счета за электричество/отопление/охлаждение были низкими, а материалы не изнашивались из-за неподходящих климатических и температурных режимов.\n",
        "\n",
        "Аналогичные расчёты можно провести, например, для анализа освещённости. Пример показан на изображении ниже.\n",
        "![image.png](attachment:image.png)"
      ]
    },
    {
      "cell_type": "code",
      "metadata": {
        "colab": {
          "base_uri": "https://localhost:8080/",
          "height": 509
        },
        "id": "5TwT-n2ALmOG",
        "outputId": "0f077534-3aaa-4745-dd49-54925d20296a"
      },
      "source": [
        "# Define the thermal conductivity of the material (W/m·K)\n",
        "thermal_conductivity = 0.5  # Example value\n",
        "# Define the temperature difference (K)\n",
        "temperature_difference = 50  # Example value\n",
        "# Define the area through which heat flows (m^2)\n",
        "area = 2.0  # Example value\n",
        "# Calculate the heat flow (W) using Fourier's law of heat conduction\n",
        "heat_flow = thermal_conductivity * area * temperature_difference\n",
        "# Print the result\n",
        "print(\"Heat flow:\", heat_flow, \"W\")\n",
        "\n",
        "#Apply the trapezoidal rule to calculate heat flow analysis\n",
        "import numpy as np\n",
        "import matplotlib.pyplot as plt\n",
        "from scipy.integrate import trapezoid\n",
        "# Define the thermal conductivity of the material (W/m·K)\n",
        "thermal_conductivity = 0.5  # Example value\n",
        "# Define the temperature difference (K)\n",
        "temperature_difference = 50  # Example value\n",
        "# Define the area through which heat flows (m^2)\n",
        "area = 2.0  # Example value\n",
        "# Define the length of the material (m)\n",
        "length = 10  # Example value\n",
        "# Define the number of intervals for the trapezoidal rule\n",
        "num_intervals = 100\n",
        "# Create an array of x values (length of the material)\n",
        "x = np.linspace(0, length, num_intervals)\n",
        "# Calculate the temperature gradient (K/m) using a linear function\n",
        "temperature_gradient = np.linspace(0, temperature_difference, num_intervals)\n",
        "# Calculate the heat flow at each point using Fourier's law of heat conduction\n",
        "heat_flow = thermal_conductivity * area * temperature_gradient\n",
        "# Use the trapezoidal rule to calculate the total heat flow\n",
        "total_heat_flow = trapezoid(heat_flow, x)\n",
        "# Print the result\n",
        "print(\"Total heat flow using trapezoidal rule:\", total_heat_flow, \"W\")\n",
        "# Plot the heat flow distribution along the length of the material\n",
        "\n",
        "plt.plot(x, heat_flow, label=\"Heat Flow Distribution\")\n",
        "plt.xlabel(\"Length of Material (m)\")\n",
        "plt.ylabel(\"Heat Flow (W)\")\n",
        "plt.title(\"Heat Flow Distribution along Length of Material\")\n",
        "plt.legend()\n",
        "plt.grid()\n",
        "plt.show()"
      ],
      "outputs": [
        {
          "output_type": "stream",
          "name": "stdout",
          "text": [
            "Heat flow: 50.0 W\n",
            "Total heat flow using trapezoidal rule: 250.0 W\n"
          ]
        },
        {
          "output_type": "display_data",
          "data": {
            "text/plain": [
              "<Figure size 640x480 with 1 Axes>"
            ],
            "image/png": "[encoded data removed]"
          },
          "metadata": {}
        }
      ],
      "execution_count": 19
    },
    {
      "cell_type": "markdown",
      "metadata": {
        "id": "GkoRa1lSLmOH"
      },
      "source": [
        "### Упражнение 9* (дополнительное, если успели сделать все предыдущие И последующие упражнения)\n",
        "\n",
        "Рассчитайте значение теплового потока для каждого блока стены и постройте тепловую карту **в ячейке ниже**."
      ]
    },
    {
      "cell_type": "code",
      "metadata": {
        "id": "Tk7wawVgLmOP"
      },
      "source": [
        "# YOUR CODE HERE"
      ],
      "outputs": [],
      "execution_count": null
    },
    {
      "cell_type": "markdown",
      "metadata": {
        "id": "7QrmP6zjLmOP"
      },
      "source": [
        "### 5.5. Площадь крыши\n",
        "\n",
        "Расчёт площади крыши представляет из себя особенную трудность в случае, если она не плоская, и отдельно - если она не прямая.\n",
        "*Впрочем, плоская крыша - это большая головная боль для инженеров проектировщиков, строителей, а также для жильцов из-за инженерных особенностей.*\n",
        "\n",
        "Давайте попробуем рассчитать площадь простой односкатной крыши:"
      ]
    },
    {
      "cell_type": "code",
      "metadata": {
        "colab": {
          "base_uri": "https://localhost:8080/"
        },
        "id": "ftD_uY3DLmO2",
        "outputId": "8e516df8-ae6c-4346-eea9-aee04d857611"
      },
      "source": [
        "import sympy as sp\n",
        "\n",
        "# Define the variables\n",
        "x, y = sp.symbols('x y')\n",
        "\n",
        "# Define the constants for the sloped roof\n",
        "a, b, c = sp.symbols('a b c')\n",
        "\n",
        "# Define the limits of integration\n",
        "x_min, x_max = 0, 10\n",
        "y_min, y_max = 0, 5\n",
        "\n",
        "# Define the function to integrate (height of the roof)\n",
        "f = a*x + b*y + c\n",
        "\n",
        "# Set up the double integral\n",
        "integral = sp.integrate(f, (y, y_min, y_max), (x, x_min, x_max))\n",
        "\n",
        "# Display the result\n",
        "print(f\"The area of the roof is: {integral} square units\")"
      ],
      "outputs": [
        {
          "output_type": "stream",
          "name": "stdout",
          "text": [
            "The area of the roof is: 250*a + 125*b + 50*c square units\n"
          ]
        }
      ],
      "execution_count": 20
    },
    {
      "cell_type": "markdown",
      "metadata": {
        "id": "i5jGN1wNLmO3"
      },
      "source": [
        "А теперь для крыши с нелинейным скатом:"
      ]
    },
    {
      "cell_type": "code",
      "metadata": {
        "colab": {
          "base_uri": "https://localhost:8080/"
        },
        "id": "SBLp1pnNLmO9",
        "outputId": "3b6e8968-205a-4000-f237-758f401f75ed"
      },
      "source": [
        "import sympy as sp\n",
        "\n",
        "# Define the variables\n",
        "x, y = sp.symbols('x y')\n",
        "\n",
        "# Define the constants for the non-linear roof\n",
        "a, b, c = sp.symbols('a b c')\n",
        "\n",
        "# Define the limits of integration\n",
        "x_min, x_max = 0, 10\n",
        "y_min, y_max = 0, 5\n",
        "\n",
        "# Define the function to integrate (height of the roof)\n",
        "f = a*x**2 + b*y**2 + c\n",
        "\n",
        "# Set up the double integral\n",
        "integral = sp.integrate(f, (y, y_min, y_max), (x, x_min, x_max))\n",
        "\n",
        "# Display the result\n",
        "print(f\"The area of the roof is: {integral} square units\")"
      ],
      "outputs": [
        {
          "output_type": "stream",
          "name": "stdout",
          "text": [
            "The area of the roof is: 5000*a/3 + 1250*b/3 + 50*c square units\n"
          ]
        }
      ],
      "execution_count": 21
    },
    {
      "cell_type": "markdown",
      "metadata": {
        "id": "q3ODngeaLmO-"
      },
      "source": [
        "Как на счёт таких крыш?\n",
        "\n",
        "![image.png](attachment:image.png)\n",
        "\n",
        "![image-3.png](attachment:image-3.png)"
      ]
    },
    {
      "cell_type": "markdown",
      "metadata": {
        "id": "nDe9EDD1LmO-"
      },
      "source": [
        "### Упражнение 10* (дополнительное, если успели сделать все предыдущие И последующие упражнения)\n",
        "\n",
        "Поразмышляйте о том, как посчитать количество черепицы для такой крыши\n",
        "\n",
        "*ВАШ КОММЕНТАРИЙ ЗДЕСЬ*"
      ]
    },
    {
      "cell_type": "markdown",
      "metadata": {
        "id": "giKzODJYLmPE"
      },
      "source": [
        "### 5.6. Ремонт\n",
        "\n",
        "В приведённых ниже упражнениях 11-13 используйте методы численного интегрирования, изученные ранее.\n",
        "\n",
        "По собственному усмотрению можете модифицировать задания, чтобы класть плитку, красить краской, клеить сайдинг и пр. В таком случае необходимо рассчитать требуемое количество соответствующего материала."
      ]
    },
    {
      "cell_type": "markdown",
      "metadata": {
        "id": "53xwXfRPLmPF"
      },
      "source": [
        "### Упражнение 11\n",
        "\n",
        "Вы решили сделать ремонт в комнате, ширина которой 5 метров, длина 7 метров, а высота потолков 2.20м. Вы выбрали обои шириной 1.5 метра и длиной 10 метров. В комнате есть 2 окна шириной 2 метра и высотой 1 метр. Дверь в комнату имеет высоту 2 метра и ширину 1 метр. Рассчитайте необходимое количество рулонов обоев. При недостатке данных примите необходимые допущения.\n",
        "![image.png](attachment:image.png)"
      ]
    },
    {
      "cell_type": "code",
      "metadata": {
        "colab": {
          "base_uri": "https://localhost:8080/"
        },
        "id": "5VcTT5FNLmPH",
        "outputId": "6d60a6d4-e754-4f0b-b9b7-b830b3e53d97"
      },
      "source": [
        "import math\n",
        "\n",
        "def trapezoidal(f, a, b, n=1000):\n",
        "    h = (b - a) / n\n",
        "    integral = 0.5 * (f(a) + f(b))\n",
        "    for i in range(1, n):\n",
        "        integral += f(a + i * h)\n",
        "    return integral * h\n",
        "\n",
        "height = 2.2\n",
        "walls = [5, 7, 5, 7]\n",
        "total_area = sum(trapezoidal(lambda x: height, 0, L) for L in walls)\n",
        "windows_door = 2 * (2 * 1) + 1 * 2\n",
        "area_needed = (total_area - windows_door) * 1.1\n",
        "rolls = math.ceil(area_needed / (1.5 * 10))\n",
        "print(f\"Необходимое количество рулонов обоев: {rolls}\")"
      ],
      "outputs": [
        {
          "output_type": "stream",
          "name": "stdout",
          "text": [
            "Необходимое количество рулонов обоев: 4\n"
          ]
        }
      ],
      "execution_count": 40
    },
    {
      "cell_type": "markdown",
      "metadata": {
        "id": "sMs1IwPyLmPI"
      },
      "source": [
        "### Упражнение 12\n",
        "Вы решили поклеить обои в комнате на чердаке. Ширина комнаты 5 метров, длина комнаты 7 метров. Высота потолков изменяется от 1 метра до 3 метров. В комнате есть 2 окна шириной 2 метра и высотой 1 метр. Дверь в комнату имеет высоту 2 метра и ширину 1 метр. Вы выбрали обои шириной 1.5 метра и длиной 10 метров. Рассчитайте необходимое количество рулонов обоев. При недостатке данных примите необходимые допущения.\n",
        "\n",
        "![image.png](attachment:image.png)\n",
        "![image-2.png](attachment:image-2.png)\n",
        "![image-3.png](attachment:image-3.png)"
      ]
    },
    {
      "cell_type": "code",
      "metadata": {
        "colab": {
          "base_uri": "https://localhost:8080/"
        },
        "id": "KheL-vhVLmPO",
        "outputId": "0218d2a6-b6d2-4044-adc0-554c9472eee0"
      },
      "source": [
        "import numpy as np\n",
        "from scipy.integrate import quad\n",
        "\n",
        "wall_width = 1.5\n",
        "wall_length = 10\n",
        "\n",
        "def wall_height(x):\n",
        "    return 1 + (2 / 7) * x\n",
        "\n",
        "def wall_area():\n",
        "    area, _ = quad(wall_height, 0, 7)\n",
        "    return area\n",
        "\n",
        "def window_and_door_area():\n",
        "    window_area = 2 * 2 * 1\n",
        "    door_area = 1 * 2\n",
        "    return window_area + door_area\n",
        "\n",
        "def roll_area():\n",
        "    return wall_width * wall_length\n",
        "\n",
        "total_wall_area = wall_area() - window_and_door_area()\n",
        "wallpaper_area = roll_area()\n",
        "rolls = np.ceil(total_wall_area / wallpaper_area)\n",
        "print(f\"Необходимое количество рулонов обоев: {int(rolls)}\")"
      ],
      "outputs": [
        {
          "output_type": "stream",
          "name": "stdout",
          "text": [
            "Необходимое количество рулонов обоев: 1\n"
          ]
        }
      ],
      "execution_count": 49
    },
    {
      "cell_type": "markdown",
      "metadata": {
        "id": "yPjHX7DnLmPO"
      },
      "source": [
        "### Упражнение 13\n",
        "Вы решили поклеить обои в комнате, напоминающей формой дом хоббита (альтернативно, это может быть чердак дома в стиле второй империи). В комнате 2 круглые двери радиусом 0,8 метра и два окна радиусом 0,3 метра. Размеры комнаты по полу (прямоугольный) 5 метров и 7 метров. Вы выбрали обои шириной 1.5 метра и длиной 10 метров. Высота потолка в центре комнаты 2,5 метра. Рассчитайте необходимое количество рулонов, если клеить как стены, так и потолок. При недостатке данных примите необходимые допущения.\n",
        "\n",
        "![image.png](attachment:image.png)"
      ]
    },
    {
      "cell_type": "code",
      "metadata": {
        "colab": {
          "base_uri": "https://localhost:8080/"
        },
        "id": "wdAFIir4LmPP",
        "outputId": "d7271a4e-34ff-48a8-8e26-3c4e16e73f6e"
      },
      "source": [
        "import numpy as np\n",
        "from scipy.integrate import quad\n",
        "\n",
        "width = 5\n",
        "length = 7\n",
        "height = 2.5\n",
        "\n",
        "door_radius = 0.8\n",
        "window_radius = 0.3\n",
        "\n",
        "roll_width = 1.5\n",
        "roll_length = 10\n",
        "\n",
        "def ceiling_height(x):\n",
        "    return height - (4 * height / (width ** 2)) * (x - width / 2) ** 2\n",
        "\n",
        "def wall_area():\n",
        "    short_wall, _ = quad(lambda x: height, 0, width)\n",
        "    long_wall, _ = quad(lambda x: height, 0, length)\n",
        "    return 2 * (short_wall + long_wall)\n",
        "\n",
        "def ceiling_area():\n",
        "    area, _ = quad(ceiling_height, 0, length)\n",
        "    return area * width\n",
        "\n",
        "def circle_area(radius):\n",
        "    return np.pi * radius ** 2\n",
        "\n",
        "def window_and_door_area():\n",
        "    door_area = 2 * circle_area(door_radius)\n",
        "    window_area = 2 * circle_area(window_radius)\n",
        "    return door_area + window_area\n",
        "\n",
        "def roll_area():\n",
        "    return roll_width * roll_length\n",
        "\n",
        "def required_rolls():\n",
        "    total_area = wall_area() + ceiling_area() - window_and_door_area()\n",
        "    return np.ceil(total_area / roll_area())\n",
        "\n",
        "needed_rolls = required_rolls()\n",
        "print(f\"Необходимое количество рулонов обоев: {int(needed_rolls)}\")"
      ],
      "outputs": [
        {
          "output_type": "stream",
          "name": "stdout",
          "text": [
            "Необходимое количество рулонов обоев: 5\n"
          ]
        }
      ],
      "execution_count": 48
    },
    {
      "cell_type": "markdown",
      "metadata": {
        "id": "1Z-7vntnLmPV"
      },
      "source": [
        "### Заключительное упражнение\n",
        "- Обобщите свои выводы и напишите краткий отчет о том, какой метод вы бы порекомендовали для различных сценариев.\n",
        "- Что нового Вы узнали для себя на сегодняшнем занятии?\n",
        "\n",
        "1. Методы интерирования иногда излишни, но часто незаменимы в случае сложных форм\n",
        "2. Я научилась применять интерирование на практике и теперь буду считать точное количество обоев на следующий ремонт с умом (но все равно просчитаюсь)"
      ]
    }
  ],
  "metadata": {
    "kernelspec": {
      "display_name": "Python 3",
      "language": "python",
      "name": "python3"
    },
    "language_info": {
      "codemirror_mode": {
        "name": "ipython",
        "version": 3
      },
      "file_extension": ".py",
      "mimetype": "text/x-python",
      "name": "python",
      "nbconvert_exporter": "python",
      "pygments_lexer": "ipython3",
      "version": "3.11.9"
    },
    "colab": {
      "provenance": []
    }
  },
  "nbformat": 4,
  "nbformat_minor": 0
}