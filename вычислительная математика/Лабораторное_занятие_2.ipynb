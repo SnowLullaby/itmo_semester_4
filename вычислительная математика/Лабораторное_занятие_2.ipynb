{
 "cells": [
  {
   "cell_type": "markdown",
   "metadata": {},
   "source": [
    "# **Измерение мира: ошибки и аппроксимации в вычислительной математике**"
   ]
  },
  {
   "cell_type": "markdown",
   "metadata": {},
   "source": [
    "## **Инструкция для студентов**\n",
    "\n",
    "- Выполните все упражнения, помеченные **YOUR CODE HERE** или *ВАШ КОММЕНТАРИЙ ЗДЕСЬ*.\n",
    "- Убедитесь, что ваш код является оригинальным и не сгенерирован инструментами искусственного интеллекта.\n",
    "- Прокомментируйте свой код, чтобы объяснить свои рассуждения.\n",
    "- Отправьте заполненный блокнот в соответствии с приведенными рекомендациями Moodle до конца занятия."
   ]
  },
  {
   "cell_type": "code",
   "metadata": {
    "ExecuteTime": {
     "end_time": "2025-02-18T16:06:22.625029Z",
     "start_time": "2025-02-18T16:06:06.691843Z"
    }
   },
   "source": [
    "%pip install numpy\n",
    "%pip install matplotlib"
   ],
   "outputs": [
    {
     "name": "stdout",
     "output_type": "stream",
     "text": [
      "Requirement already satisfied: numpy in c:\\users\\екатерина\\appdata\\roaming\\python\\python312\\site-packages (2.2.3)Note: you may need to restart the kernel to use updated packages.\n",
      "\n",
      "Requirement already satisfied: matplotlib in c:\\users\\екатерина\\appdata\\roaming\\python\\python312\\site-packages (3.10.0)Note: you may need to restart the kernel to use updated packages.\n",
      "\n",
      "Requirement already satisfied: contourpy>=1.0.1 in c:\\users\\екатерина\\appdata\\roaming\\python\\python312\\site-packages (from matplotlib) (1.3.1)\n",
      "Requirement already satisfied: cycler>=0.10 in c:\\users\\екатерина\\appdata\\roaming\\python\\python312\\site-packages (from matplotlib) (0.12.1)\n",
      "Requirement already satisfied: fonttools>=4.22.0 in c:\\users\\екатерина\\appdata\\roaming\\python\\python312\\site-packages (from matplotlib) (4.56.0)\n",
      "Requirement already satisfied: kiwisolver>=1.3.1 in c:\\users\\екатерина\\appdata\\roaming\\python\\python312\\site-packages (from matplotlib) (1.4.8)\n",
      "Requirement already satisfied: numpy>=1.23 in c:\\users\\екатерина\\appdata\\roaming\\python\\python312\\site-packages (from matplotlib) (2.2.3)\n",
      "Requirement already satisfied: packaging>=20.0 in c:\\users\\екатерина\\.conda\\envs\\lab_1\\lib\\site-packages (from matplotlib) (24.2)\n",
      "Requirement already satisfied: pillow>=8 in c:\\users\\екатерина\\appdata\\roaming\\python\\python312\\site-packages (from matplotlib) (11.1.0)\n",
      "Requirement already satisfied: pyparsing>=2.3.1 in c:\\users\\екатерина\\appdata\\roaming\\python\\python312\\site-packages (from matplotlib) (3.2.1)\n",
      "Requirement already satisfied: python-dateutil>=2.7 in c:\\users\\екатерина\\appdata\\roaming\\python\\python312\\site-packages (from matplotlib) (2.9.0.post0)\n",
      "Requirement already satisfied: six>=1.5 in c:\\users\\екатерина\\appdata\\roaming\\python\\python312\\site-packages (from python-dateutil>=2.7->matplotlib) (1.17.0)\n"
     ]
    }
   ],
   "execution_count": 1
  },
  {
   "cell_type": "markdown",
   "metadata": {},
   "source": [
    "## **Table of Contents**\n",
    "\n",
    "1. [Введение](#introduction)\n",
    "2. [Понимание ошибок и приближений](#understanding-errors-and-approximations)\n",
    "   - [Исторический контекст](#historical-context)\n",
    "   - [Типы погрешностей](#types-of-errors)\n",
    "   - [Источники ошибок](#sources-of-errors)\n",
    "3. [Значимые цифры и точность](#significant-figures-and-precision)\n",
    "4. [Упражнения на вычисления](#computational-exercises)\n",
    "   - [Упражнение 1. Абсолютные и относительные погрешности](#exercise-1-absolute-and-relative-errors)\n",
    "   - [Упражнение 2. Аппроксимация рядами Тейлора](#exercise-2-taylor-series-approximation)\n",
    "   - [Упражнение 3: Арифметика с плавающей точкой](#exercise-3-floating-point-arithmetic)\n",
    "5. [Современные численные методы](#modern-numerical-methods)\n",
    "   - [5.1 Как современные методы могли бы помочь Мешену и Деламбру](#how-modern-methods-could-have-helped)\n",
    "     - [5.1.1 Метод наименьших квадратов](#least-squares-method)\n",
    "     - [5.1.2 Метод Монте-Карло](#monte-carlo-simulations)\n",
    "   - [Упражнение 4: Метод наименьших квадратов](#exercise-4-least-squares-method)\n",
    "   - [Упражнение 5: Метод Монте-Карло](#exercise-5-monte-carlo-simulations)\n",
    "6. Продвинутые темы по теории погрешностей\n",
    "   - [Общая формула погрешности](#general-formula-of-error)\n",
    "   - [Обратная задача теории ошибок](#inverse-problem-of-error-theory)\n",
    "   - [Теория несоответствий](#discrepancies-theory)\n",
    "   - [Парадокс береговой линии](#the-coastline-paradox)\n",
    "   - [Основы фрактальной теории](#fractal-theory-basics)\n",
    "   - [Основы теории хаоса](#basics-of-chaos-theory)\n",
    "7. [Conclusion](#conclusion)\n",
    "8. [References](#references)"
   ]
  },
  {
   "cell_type": "markdown",
   "metadata": {},
   "source": [
    "<a name=\"introduction\"></a>\n",
    "## **1. Введение**\n",
    "\n",
    "Добро пожаловать в это исследование ошибок и приближений в вычислительной математике, дополненное увлекательной историей измерения мира, рассказанной в книге Кена Алдера \"Мера всех вещей (The Measure of All Things.)\".*\n",
    "\n",
    "* \"После Французской революции два астронома, Пьер Мешен и Жан-Батист Деламбр, предприняли трудную экспедицию для измерения меридиана по всей Франции от Дюнкерка до Барселоны. Их миссия: определить метр как одну десятимиллионную часть расстояния от Северного полюса до экватора, установив универсальную единицу измерения, закрепленную в природе\".*\n",
    "\n",
    "Этот поиск был сопряжен с трудностями, которые подчеркивают критическую важность понимания ошибок при измерениях и управления ими — тема, которая сегодня находит глубокий отклик в вычислительной математике. \n",
    "\n",
    "Астрономы использовали триангуляцию для измерения дуги меридиана. Они измеряли углы между точками и использовали эти измерения для вычисления расстояний. В число используемых ими инструментов входили теодолиты и цепи, которые имели свои ограничения."
   ]
  },
  {
   "cell_type": "markdown",
   "metadata": {},
   "source": [
    "*Ученые были потрясены разнообразием мер и весов, которые они видели вокруг себя. В XVIII веке меры отличались не только от нации к нации, но и внутри самих наций. Это разнообразие затрудняло коммуникации и торговлю, а также государственное управление. Это также затрудняло ученым сравнивать свои результаты с результатами их коллег. Один англичанин, путешествовавший по Франции накануне революции, обнаружил, что тамошнее разнообразие причиняет ему мучения. “Во Франции, - жаловался он, - бесконечная запутанность принимаемых мер превосходит всякое понимание. Они различаются не только в каждой провинции, но и в каждом округе и почти в каждом городе. . ..”По оценкам современников, под прикрытием примерно восьмисот наименований Древний режим Франции использовал ошеломляющие 250 000 различных единиц веса и мер.*"
   ]
  },
  {
   "cell_type": "markdown",
   "metadata": {},
   "source": [
    "---"
   ]
  },
  {
   "cell_type": "markdown",
   "metadata": {},
   "source": [
    "<a name=\"understanding-errors-and-approximations\"></a>\n",
    "## **2. Понимание ошибок и приближений**\n",
    "\n",
    "<a name=\"historical-context\"></a>\n",
    "### **2.1 Исторический контекст**\n",
    "\n",
    "- **Проблемы миссии**: Расхождения в измерениях из-за особенностей местности, погоды и ограниченного оборудования.\n",
    "- **Дилемма Мешена**: Он обнаружил ошибки в своих измерениях, но боролся с их раскрытием, иллюстрируя глубокое влияние, которое ошибки могут оказать на научную целостность и прогресс.\n"
   ]
  },
  {
   "cell_type": "markdown",
   "metadata": {},
   "source": [
    "<a name=\"types-of-errors\"></a>\n",
    "### **2.2 Типы погрешностей**\n",
    "\n",
    "- **Абсолютная погрешность**: Разница между измеренным или приблизительным значением и истинным значением.\n",
    "- **Относительная погрешность**: Абсолютная погрешность, деленная на истинное значение, часто выражается в процентах."
   ]
  },
  {
   "cell_type": "markdown",
   "metadata": {},
   "source": [
    "*Напишите какие ещё типы погрешностей Вы знаете и как они могли бы быть полезны в этой миссии*\n",
    "\n",
    "1. Предельная абсолютная - максимальное отклонение измеренного от истинного\n",
    "2. Предельная относительная - отношение предельной абсолютной к истинному значению"
   ]
  },
  {
   "cell_type": "markdown",
   "metadata": {},
   "source": [
    "<a name=\"sources-of-errors\"></a>\n",
    "### **2.3 Источники ошибок**\n",
    "\n",
    "1. **Человеческие ошибки**: Ошибки при вводе данных, расчетах или методологические ошибки.\n",
    "2. **Инструментальные ошибки**: Ограничения или неисправности измерительных приборов.\n",
    "3. **Вычислительные ошибки**: Ошибки, вызванные численными методами или компьютерными арифметическими ограничениями."
   ]
  },
  {
   "cell_type": "markdown",
   "metadata": {},
   "source": [
    "*Напишите какие ещё источники погрешностей Вы знаете*\n",
    "\n",
    "1. Ошибки округления\n",
    "2. Ошибки начальных значений\n",
    "3. Остаточные погрешности\n",
    "4. Ошибки постановки проблемы\n",
    "\n",
    "Боль всех физиков и биологов:\n",
    "1. Выбросы значений при проведении экспериментов\n",
    "2. Шумы (значения, который перебивают результат)"
   ]
  },
  {
   "cell_type": "markdown",
   "metadata": {},
   "source": [
    "Ошибки в измерениях неизбежны. Деламбер и Мешейн столкнулись с ошибками, связанными с точностью приборов, факторами окружающей среды и человеческими ошибками. Им удалось снизить погрешность до 0,2 миллиметра, что удивительно, учитывая обстоятельства."
   ]
  },
  {
   "cell_type": "code",
   "metadata": {
    "ExecuteTime": {
     "end_time": "2025-02-18T16:40:46.659149Z",
     "start_time": "2025-02-18T16:40:46.137232Z"
    }
   },
   "source": [
    "# Example: Simulating Measurement Errors\n",
    "import numpy as np\n",
    "\n",
    "# Simulated true distance (in meters)\n",
    "true_distance = 10000\n",
    "\n",
    "# Simulated measurements with random errors\n",
    "np.random.seed(42)\n",
    "measurements = true_distance + np.random.normal(0, 0.2, 100)\n",
    "\n",
    "# Calculate mean and standard deviation of measurements\n",
    "mean_measurement = np.mean(measurements)\n",
    "std_deviation = np.std(measurements)\n",
    "\n",
    "print(f\"Mean Measurement: {mean_measurement} meters\")\n",
    "print(f\"Standard Deviation: {std_deviation} meters\")"
   ],
   "outputs": [
    {
     "name": "stdout",
     "output_type": "stream",
     "text": [
      "Mean Measurement: 9999.979230696523 meters\n",
      "Standard Deviation: 0.18072323532890344 meters\n"
     ]
    }
   ],
   "execution_count": 1
  },
  {
   "cell_type": "markdown",
   "metadata": {},
   "source": [
    "---"
   ]
  },
  {
   "cell_type": "markdown",
   "metadata": {},
   "source": [
    "<a name=\"significant-figures-and-precision\"></a>\n",
    "## **3. Значимые цифры и точность**\n",
    "\n",
    "Понимание значимых цифр имеет решающее значение для представления точности измерений и вычислений.\n",
    "\n",
    "- **Значимые цифры**: Цифры, которые несут значение, влияющее на точность измерений.\n",
    "- **Правила определения значимых цифр**:\n",
    "  - Ненулевые цифры всегда являются значимыми.\n",
    "  - Любые нули между значащими цифрами являются значимыми.\n",
    "  - Начальные нули не являются значимыми.\n",
    "  - Конечные нули в десятичном числе являются значимыми.\n"
   ]
  },
  {
   "cell_type": "markdown",
   "metadata": {},
   "source": [
    "---"
   ]
  },
  {
   "cell_type": "markdown",
   "metadata": {},
   "source": [
    "<a name=\"computational-exercises\"></a>\n",
    "## **4. Упражнения на вычисления**\n",
    "\n",
    "Эти упражнения помогут вам лучше понять ошибки и приближения при использовании Python и популярных библиотек, таких как NumPy и SciPy.\n"
   ]
  },
  {
   "cell_type": "markdown",
   "metadata": {},
   "source": [
    "---"
   ]
  },
  {
   "cell_type": "markdown",
   "metadata": {},
   "source": [
    "<a name=\"exercise-1-absolute-and-relative-errors\"></a>\n",
    "### **Упражнение 1. Абсолютные и относительные погрешности**\n",
    "\n",
    "**Контекст**: Представьте, что вы воспроизводите измерения Мешена и Деламбра с помощью современных инструментов.\n",
    "\n",
    "**Задача**:\n",
    "\n",
    "- Вычислить абсолютные и относительные погрешности серии измерений.\n",
    "- Интерпретировать значимость этих ошибок.\n",
    "\n",
    "**Инструкции**:"
   ]
  },
  {
   "cell_type": "markdown",
   "metadata": {},
   "source": [
    "- **Данные**:"
   ]
  },
  {
   "cell_type": "code",
   "metadata": {
    "ExecuteTime": {
     "end_time": "2025-02-18T16:40:46.761888Z",
     "start_time": "2025-02-18T16:40:46.753168Z"
    }
   },
   "source": [
    "# True values (in meters)\n",
    "true_lengths = np.array([1000, 2000, 3000, 4000, 5000])\n",
    "\n",
    "# Measured values (in meters)\n",
    "measured_lengths = np.array([995, 1998, 2995, 3990, 5005])"
   ],
   "outputs": [],
   "execution_count": 2
  },
  {
   "cell_type": "markdown",
   "metadata": {},
   "source": [
    "- **Вычислите абсолютную погрешность**:"
   ]
  },
  {
   "cell_type": "code",
   "metadata": {
    "ExecuteTime": {
     "end_time": "2025-02-18T16:40:46.793393Z",
     "start_time": "2025-02-18T16:40:46.785911Z"
    }
   },
   "source": [
    "# YOUR CODE HERE\n",
    "absolute_errors = np.abs(true_lengths - measured_lengths)  # пользуемся тем, что нампай работает с массивами поэлементно"
   ],
   "outputs": [],
   "execution_count": 3
  },
  {
   "cell_type": "markdown",
   "metadata": {},
   "source": [
    "- **Вычислите относительную погрешность (в процентах)**:"
   ]
  },
  {
   "cell_type": "code",
   "metadata": {
    "ExecuteTime": {
     "end_time": "2025-02-18T16:40:46.865514Z",
     "start_time": "2025-02-18T16:40:46.839409Z"
    }
   },
   "source": [
    "# YOUR CODE HERE\n",
    "relative_errors = absolute_errors/np.abs(true_lengths)*100  # *100 переводит относительную величину в проценты"
   ],
   "outputs": [],
   "execution_count": 4
  },
  {
   "cell_type": "markdown",
   "metadata": {},
   "source": [
    "---"
   ]
  },
  {
   "cell_type": "markdown",
   "metadata": {},
   "source": [
    "<a name=\"exercise-2-taylor-series-approximation\"></a>\n",
    "### **Упражнение 2. Аппроксимация ряда Тейлора**\n",
    "\n",
    "**Контекст**: Аппроксимация сложных функций и анализ ошибок усечения.\n",
    "\n",
    "**Задача**:\n",
    "\n",
    "- Аппроксимация экспоненциальной функции с использованием ряда Тейлора.\n",
    "- Вычисление ошибки усечения по сравнению с функцией math.exp в Python.\n",
    "\n",
    "**Инструкции**:\n",
    "\n",
    "- **Импорт необходимых библиотек**:"
   ]
  },
  {
   "cell_type": "code",
   "metadata": {
    "ExecuteTime": {
     "end_time": "2025-02-18T16:40:47.817504Z",
     "start_time": "2025-02-18T16:40:47.805223Z"
    }
   },
   "source": [
    "import math"
   ],
   "outputs": [],
   "execution_count": 5
  },
  {
   "cell_type": "markdown",
   "metadata": {},
   "source": [
    "- **Define the Taylor Series function**:"
   ]
  },
  {
   "cell_type": "code",
   "metadata": {
    "ExecuteTime": {
     "end_time": "2025-02-18T16:44:14.378424Z",
     "start_time": "2025-02-18T16:44:14.368602Z"
    }
   },
   "source": [
    "def taylor_exp(x, n_terms):\n",
    "    res = 0\n",
    "    for n in range(n_terms):\n",
    "        res += (x ** n) / math.factorial(n) # разложение - сумма производных порядка n / n!\n",
    "    return res"
   ],
   "outputs": [],
   "execution_count": 9
  },
  {
   "cell_type": "markdown",
   "metadata": {},
   "source": [
    "- **Calculate and compare values**:"
   ]
  },
  {
   "cell_type": "code",
   "metadata": {
    "ExecuteTime": {
     "end_time": "2025-02-18T16:44:16.445491Z",
     "start_time": "2025-02-18T16:44:16.422963Z"
    }
   },
   "source": [
    "x_value = 1\n",
    "n_terms = 5\n",
    "\n",
    "approx_value = taylor_exp(x_value, n_terms)\n",
    "true_value = math.exp(x_value)\n",
    "truncation_error = abs(true_value - approx_value)"
   ],
   "outputs": [],
   "execution_count": 10
  },
  {
   "cell_type": "markdown",
   "metadata": {},
   "source": [
    "<a name=\"exercise-3-floating-point-arithmetic\"></a>\n",
    "### **Упражнение 3: Арифметика с плавающей точкой**\n",
    "\n",
    "**Контекст**: Исследуйте, как компьютеры обрабатывают действительные числа и связанные с ними ошибки.\n",
    "\n",
    "**Задача**:\n",
    "\n",
    "- Исследуйте влияние машинного эпсилона на вычисления с плавающей точкой.\n",
    "- Анализ результатов операций, связанных с числами, сильно отличающимися по величине.\n",
    "\n",
    "**Инструкции**:\n",
    "\n",
    "- **Машинный эпсилон**:"
   ]
  },
  {
   "cell_type": "code",
   "metadata": {
    "ExecuteTime": {
     "end_time": "2025-02-18T16:45:38.813378Z",
     "start_time": "2025-02-18T16:45:38.804014Z"
    }
   },
   "source": [
    "import sys\n",
    "epsilon = sys.float_info.epsilon\n",
    "print(f\"Machine Epsilon: {epsilon}\")"
   ],
   "outputs": [
    {
     "name": "stdout",
     "output_type": "stream",
     "text": [
      "Machine Epsilon: 2.220446049250313e-16\n"
     ]
    }
   ],
   "execution_count": 14
  },
  {
   "cell_type": "markdown",
   "metadata": {},
   "source": [
    "- **Вычислительный эксперимент**:"
   ]
  },
  {
   "cell_type": "code",
   "metadata": {
    "ExecuteTime": {
     "end_time": "2025-02-18T17:00:04.569769Z",
     "start_time": "2025-02-18T17:00:04.556216Z"
    }
   },
   "source": [
    "# Large and small numbers\n",
    "large_number = 1e16\n",
    "small_number = 1\n",
    "\n",
    "# Addition\n",
    "result = large_number + small_number\n",
    "print(\"Result of addition:\", result)\n",
    "\n",
    "# Subtraction\n",
    "diff = result - large_number\n",
    "print(\"Difference after subtraction:\", diff)"
   ],
   "outputs": [
    {
     "name": "stdout",
     "output_type": "stream",
     "text": [
      "Result of addition: 9999999999999900.0\n",
      "Difference after subtraction: -100.0\n"
     ]
    }
   ],
   "execution_count": 23
  },
  {
   "cell_type": "markdown",
   "metadata": {},
   "source": [
    "**Анализ**:\n",
    "\n",
    "- Объясните, почему `diff` может быть не равен `small_number`."
   ]
  },
  {
   "cell_type": "markdown",
   "metadata": {},
   "source": [
    "Точность представления числа с плавающей точкой ограничена => если число слишком маленькое в сравнеии  - изменения не будет. А когда попытаемся вычесть - вычитать уже будет нечего.\n",
    "Пример: если возьмем ведро и капнем в него каплю - уровень воды не изменится. А забрать каплю мы уже как-то не особо можем."
   ]
  },
  {
   "cell_type": "markdown",
   "metadata": {},
   "source": [
    "---"
   ]
  },
  {
   "cell_type": "markdown",
   "metadata": {},
   "source": [
    "<a name=\"modern-numerical-methods\"></a>\n",
    "## **5. Современные численные методы**\n",
    "\n",
    "В этом разделе мы рассмотрим, как наиболее популярные численные методы, такие как метод наименьших квадратов и моделирование методом Монте-Карло, могли бы существенно помочь Мешену и Деламбру в их миссии. Эти методы решают многие проблемы, с которыми они столкнулись при измерении меридиана.\n",
    "\n",
    "---"
   ]
  },
  {
   "cell_type": "markdown",
   "metadata": {},
   "source": [
    "<a name=\"how-modern-methods-could-have-helped\"></a>\n",
    "### **5.1 Как современные методы могли бы помочь Мешену и Деламбру**\n",
    "\n",
    "<a name=\"least-squares-method\"></a>\n",
    "#### **5.1.1 Метод наименьших квадратов**\n",
    "\n",
    "- **Контекст**: Мешен и Деламбр собрали многочисленные данные астрономических наблюдений и наземных измерений, которые были подвержены различным ошибкам и неопределенности.\n",
    "\n",
    "- **Потенциальные выгоды**:\n",
    "\n",
    "  - **Подгонка данных**: Метод наименьших квадратов мог бы помочь им привести свои измерения в соответствие с наилучшей возможной моделью, сведя к минимуму влияние случайных ошибок.\n",
    "\n",
    "  - **Минимизация ошибок**: Статистически минимизируя сумму квадратов остатков (различий между наблюдаемыми и рассчитанными значениями), они могли бы повысить точность своих конечных результатов.\n",
    "\n",
    "  - **Обработка выбросов**: Это позволило бы им идентифицировать и смягчить влияние точек данных с выбросами, которые могли бы исказить их расчеты.\n",
    "\n",
    "- **Историческая параллель**:\n",
    "\n",
    "  - Хотя метод был официально утвержден после их экспедиции (Гаусс разработал его в начале 19 века), применение его принципов могло бы значительно повысить точность их измерений.\n",
    "\n",
    "**Иллюстрирующий Пример**:\n",
    "\n",
    "Предположим, что они провели несколько измерений одного и того же расстояния с небольшими отклонениями:"
   ]
  },
  {
   "cell_type": "raw",
   "metadata": {
    "vscode": {
     "languageId": "raw"
    }
   },
   "source": [
    "Measured Distances (km): 100.5, 101.0, 99.8, 100.2, 100.7\n",
    "\n",
    "Используя метод наименьших квадратов, они могли бы определить наилучшую оценку истинного расстояния, минимизировав сумму квадратов различий между каждым измерением и расчетным значением."
   ]
  },
  {
   "cell_type": "markdown",
   "metadata": {},
   "source": [
    "#### Примечание:\n",
    "Метод наименьших квадратов был независимо разработан двумя математиками: Карлом Фридрихом Гауссом и Адриеном-Мари Лежандром.\n",
    "\n",
    "- Часто считается, что Карл Фридрих Гаусс (Германия) изобрел этот метод примерно в 1795 году, когда ему было всего 18 лет. Он использовал его для изучения положения звезд и других небесных тел.\n",
    "\n",
    "- Адриен-Мари Лежандр (Франция) опубликовал свою версию метода в 1805 году.\n",
    "\n",
    "\n",
    "Неясно, были ли Пьер Мешен и Жан-Батист Деламбр непосредственно знакомы с методом наименьших квадратов во время своей работы по измерению дуги меридиана для вычисления метра. Их работа была проведена в конце 18 века, примерно в то же время, когда Карл Фридрих Гаусс и Адриен-Мари Лежандр разрабатывали этот метод. Однако Мешен и Деламбр в первую очередь сосредоточились на геодезии и практических аспектах своих измерений, а не на статистических методах."
   ]
  },
  {
   "cell_type": "markdown",
   "metadata": {},
   "source": [
    "<a name=\"monte-carlo-simulations\"></a>\n",
    "#### **5.1.2 Моделирование методом Монте-Карло**\n",
    "\n",
    "- **Контекст**: Миссия включала сложные измерения в различных условиях, что приводило к неопределенности, которую было трудно точно определить количественно.\n",
    "\n",
    "- **Потенциальные выгоды**:\n",
    "\n",
    "  - ** Анализ распространения ошибок**: Моделирование методом Монте-Карло могло бы позволить им смоделировать, как погрешности измерений распространяются в ходе их расчетов.\n",
    "\n",
    "  - **Вероятностное моделирование**: Смоделировав огромное количество сценариев со случайными вариациями в измерениях, они могли бы оценить распределение вероятностей конечной длины меридиана.\n",
    "\n",
    "  - **Принятие решений в условиях неопределенности**: Это обеспечило бы статистическую основу для оценки надежности полученных результатов и принятия обоснованных решений о принятии или пересмотре результатов измерений.\n",
    "\n",
    "- **Историческая параллель**:\n",
    "\n",
    "  - Хотя метод Монте-Карло был разработан в 20 веке, концепция использования случайной выборки для понимания неопределенностей соответствует задачам, с которыми они столкнулись.\n",
    "\n",
    "**Иллюстрирующий Пример**:\n"
   ]
  },
  {
   "cell_type": "raw",
   "metadata": {
    "vscode": {
     "languageId": "raw"
    }
   },
   "source": [
    "Представьте, что вы моделируете тысячи возможных результатов измерений с учетом всех известных ошибок.\n",
    "\n",
    "В результате получается колоколообразная кривая, показывающая наиболее вероятное значение длины меридиана и связанную с ним неопределенность."
   ]
  },
  {
   "cell_type": "markdown",
   "metadata": {},
   "source": [
    "---"
   ]
  },
  {
   "cell_type": "markdown",
   "metadata": {},
   "source": [
    "<a name=\"exercise-4-least-squares-method\"></a>\n",
    "### ** Упражнение 4: Метод наименьших квадратов**\n",
    "\n",
    "**Контекст**: Минимизация ошибок при подборе данных, что имеет решающее значение при научных измерениях.\n",
    "\n",
    "**Задача**:\n",
    "\n",
    "- Используйте метод наименьших квадратов, чтобы сопоставить линию с предоставленными данными, имитируя измерения, аналогичные тем, которые были проведены Мешейном и Деламбром.\n",
    "- Вычислите и интерпретируйте ошибки подгонки.\n",
    "\n",
    "**Инструкции**:\n",
    "\n",
    "- **Приведенные данные**:"
   ]
  },
  {
   "cell_type": "code",
   "metadata": {
    "ExecuteTime": {
     "end_time": "2025-02-18T17:10:58.561975Z",
     "start_time": "2025-02-18T17:10:58.543398Z"
    }
   },
   "source": [
    "# Simulated measurements (distance vs. angle)\n",
    "distance = np.array([0, 100, 200, 300, 400, 500])  # in kilometers\n",
    "angle_measurements = np.array([0.0, 0.9, 1.8, 2.7, 3.6, 4.5])  # in degrees with some measurement errors\n",
    "\n",
    "# Introduce measurement errors\n",
    "angle_measurements += np.random.normal(0, 0.05, size=angle_measurements.shape)"
   ],
   "outputs": [],
   "execution_count": 25
  },
  {
   "cell_type": "markdown",
   "metadata": {},
   "source": [
    "  *Примечание*: Предполагается, что истинная взаимосвязь равна `angle = 0.009 * distance`."
   ]
  },
  {
   "cell_type": "markdown",
   "metadata": {},
   "source": [
    "- **Выполните линейную регрессию**:"
   ]
  },
  {
   "cell_type": "code",
   "metadata": {
    "ExecuteTime": {
     "end_time": "2025-02-18T17:22:33.744391Z",
     "start_time": "2025-02-18T17:22:33.729920Z"
    }
   },
   "source": [
    "#пойдем через матрицы\n",
    "A = np.vstack([distance, np.ones_like(distance)]).T\n",
    "\n",
    "solution = np.linalg.lstsq(A, angle_measurements, rcond=None)[0]\n",
    "\n",
    "slope = solution[0]\n",
    "intercept = solution[1]"
   ],
   "outputs": [],
   "execution_count": 31
  },
  {
   "cell_type": "markdown",
   "metadata": {},
   "source": [
    "- **Вычислите ошибоки подгонки**:"
   ]
  },
  {
   "cell_type": "code",
   "metadata": {
    "ExecuteTime": {
     "end_time": "2025-02-18T17:20:36.554017Z",
     "start_time": "2025-02-18T17:20:36.535647Z"
    }
   },
   "source": [
    "# Predicted values\n",
    "angle_pred = slope * distance + intercept\n",
    "\n",
    "# Residuals\n",
    "residuals = angle_measurements - angle_pred\n",
    "\n",
    "# Sum of squares of residuals\n",
    "ss_res = np.sum(residuals**2)\n",
    "print(\"Sum of squares of residuals:\", ss_res)"
   ],
   "outputs": [
    {
     "name": "stdout",
     "output_type": "stream",
     "text": [
      "Sum of squares of residuals: 0.008974363532840307\n"
     ]
    }
   ],
   "execution_count": 27
  },
  {
   "cell_type": "markdown",
   "metadata": {},
   "source": [
    "- **Интерпретация**:\n",
    "\n",
    "  - Обсудите, как минимизация суммы квадратов невязок повышает точность измерений.\n",
    "  - Объясните, как этот метод мог бы помочь устранить систематические ошибки при измерении по меридиану."
   ]
  },
  {
   "cell_type": "markdown",
   "metadata": {},
   "source": [
    "Метод наименьших квадратов минимизирует сумму квадратов разностей между измеренными значениями и предсказанными моделью. Это позволяет подобрать такую прямую (или не только прямую, зависит от того, чем аппроксимировать), которая наилучшим образом аппроксимирует данные, уменьшая среднюю ошибку предсказания.\n",
    "\n",
    "Чем меньше сумма квадратов невязок, тем ближе модель к реальным данным. Это помогает уменьшить влияние случайных ошибок измерений.\n",
    "\n",
    "Метод может помочь убрать систематические накапливаемые ошибки в ходе измерений."
   ]
  },
  {
   "cell_type": "markdown",
   "metadata": {},
   "source": [
    "---"
   ]
  },
  {
   "cell_type": "markdown",
   "metadata": {},
   "source": [
    "<a name=\"exercise-5-monte-carlo-simulations\"></a>\n",
    "### **Упражнение 5: Моделирование методом Монте-Карло**\n",
    "\n",
    "**Контекст**: Понимание распространения ошибок с использованием вероятностных методов.\n",
    "\n",
    "**Задача**:\n",
    "\n",
    "- Смоделировать измерение длины меридиана с неопределенностями, используя моделирование методом Монте-Карло.\n",
    "- Проанализировать распределение вычисленных длин метров на основе ошибок измерений.\n",
    "\n",
    "**Инструкции**:\n",
    "\n",
    "- **Константы**:"
   ]
  },
  {
   "cell_type": "code",
   "metadata": {
    "ExecuteTime": {
     "end_time": "2025-02-18T17:24:48.363352Z",
     "start_time": "2025-02-18T17:24:48.350714Z"
    }
   },
   "source": [
    "# True meridian length (from pole to equator) in meters\n",
    "true_meridian_length = 10_000_000  # Definition of the meter\n",
    "\n",
    "# Number of simulations\n",
    "num_simulations = 10000"
   ],
   "outputs": [],
   "execution_count": 33
  },
  {
   "cell_type": "markdown",
   "metadata": {},
   "source": [
    "- **Имитируйте ошибки измерений**:"
   ]
  },
  {
   "cell_type": "code",
   "metadata": {
    "ExecuteTime": {
     "end_time": "2025-02-18T17:24:50.163585Z",
     "start_time": "2025-02-18T17:24:50.151101Z"
    }
   },
   "source": [
    "# Define measurement error (standard deviation in meters)\n",
    "measurement_error_sd = 10  # Simulating instrument and observational errors"
   ],
   "outputs": [],
   "execution_count": 34
  },
  {
   "cell_type": "markdown",
   "metadata": {},
   "source": [
    "- **Функция моделирования методом Монте-Карло**:"
   ]
  },
  {
   "cell_type": "code",
   "metadata": {
    "ExecuteTime": {
     "end_time": "2025-02-18T17:24:52.605106Z",
     "start_time": "2025-02-18T17:24:52.595205Z"
    }
   },
   "source": [
    "def simulate_meridian_measurements(num_simulations, true_length, error_sd):\n",
    "    simulated_lengths = np.random.normal(true_length, error_sd, num_simulations)\n",
    "    return simulated_lengths"
   ],
   "outputs": [],
   "execution_count": 35
  },
  {
   "cell_type": "markdown",
   "metadata": {},
   "source": [
    "- **Выполните моделирование и проанализируйте результаты**:"
   ]
  },
  {
   "cell_type": "code",
   "metadata": {
    "ExecuteTime": {
     "end_time": "2025-02-18T17:24:56.105477Z",
     "start_time": "2025-02-18T17:24:56.090275Z"
    }
   },
   "source": [
    "# Simulate measurements\n",
    "simulated_lengths = simulate_meridian_measurements(num_simulations, true_meridian_length, measurement_error_sd)\n",
    "\n",
    "# Compute statistical information\n",
    "mean_length = np.mean(simulated_lengths)\n",
    "std_length = np.std(simulated_lengths)\n",
    "print(f\"Mean Simulated Length: {mean_length} meters\")\n",
    "print(f\"Standard Deviation: {std_length} meters\")"
   ],
   "outputs": [
    {
     "name": "stdout",
     "output_type": "stream",
     "text": [
      "Mean Simulated Length: 9999999.99093589 meters\n",
      "Standard Deviation: 10.038644794288233 meters\n"
     ]
    }
   ],
   "execution_count": 36
  },
  {
   "cell_type": "markdown",
   "metadata": {},
   "source": [
    "- **Визуализация**:"
   ]
  },
  {
   "cell_type": "code",
   "metadata": {
    "ExecuteTime": {
     "end_time": "2025-02-18T17:25:04.891104Z",
     "start_time": "2025-02-18T17:25:01.218510Z"
    }
   },
   "source": [
    "import matplotlib.pyplot as plt\n",
    "\n",
    "# Plot histogram of simulated lengths\n",
    "plt.hist(simulated_lengths, bins=50, edgecolor='black')\n",
    "plt.title('Distribution of Simulated Meridian Lengths')\n",
    "plt.xlabel('Meridian Length (meters)')\n",
    "plt.ylabel('Frequency')\n",
    "plt.show()"
   ],
   "outputs": [
    {
     "data": {
      "text/plain": [
       "<Figure size 640x480 with 1 Axes>"
      ],
      "image/png": "[encoded data removed]"
     },
     "metadata": {},
     "output_type": "display_data"
    }
   ],
   "execution_count": 37
  },
  {
   "cell_type": "markdown",
   "metadata": {},
   "source": [
    "- **Interpretation**:\n",
    "  - Explain how the simulation provides insights into the uncertainty and variability of measurements.\n",
    "  - Discuss how this method could have assisted in assessing the confidence in their results."
   ]
  },
  {
   "cell_type": "markdown",
   "metadata": {},
   "source": [
    "---"
   ]
  },
  {
   "cell_type": "markdown",
   "metadata": {},
   "source": [
    "## **6. Продвинутые темы по теории погрешностей**\n",
    "\n",
    "В этом разделе мы рассмотрим передовые концепции, связанные с ошибками и приближениями, связав их с исторической миссией Пьера Мешена и Жан-Батиста Деламбра по измерению дуги меридиана между Дюнкерком и Барселоной. Эти темы углубят ваше понимание того, как могут распространяться ошибки, как возникают несоответствия и как сложные математические концепции, такие как фракталы и теория хаоса, могут быть связаны с измерениями и аппроксимацией.\n",
    "\n"
   ]
  },
  {
   "cell_type": "markdown",
   "metadata": {},
   "source": [
    "<a name=\"general-formula-of-error\"></a>\n",
    "### **6.1 Общая формула погрешности**\n",
    "\n",
    "**Исторический контекст**:\n",
    "\n",
    "Пьер Мешен и Жан-Батист Деламбр стремились к максимальной точности своих измерений, определяя измерительный прибор на основе доли земного меридиана. Понимание и применение общей формулы погрешности имело бы решающее значение для количественной оценки неопределенностей в их измерениях.\n",
    "\n",
    "**Теория**:\n",
    "\n",
    "Общая формула погрешности позволяет оценить максимально возможную погрешность в функции, которая зависит от нескольких переменных, каждая из которых имеет свою собственную погрешность измерения. Для функции $ f(x_1, x_2, ..., x_n) $ суммарный дифференциал дает приблизительное значение ошибки в $f$:\n",
    "\n",
    "$$ \\Delta f \\approx \\left| \\frac{\\partial f}{\\partial x_1} \\Delta x_1 \\right| + \\left| \\frac{\\partial f}{\\partial x_2} \\Delta x_2 \\right| + \\dots + \\left| \\frac{\\partial f}{\\partial x_n} \\Delta x_n \\right| $$\n",
    "\n",
    "Эта формула позволяет нам оценить, как ошибки во входных переменных влияют на конечный результат.\n",
    "\n",
    "**Применение к измерению по меридиану**:\n",
    "\n",
    "Длина измеряемой дуги меридиана зависит от углов и расстояний, каждое из которых имеет свои собственные погрешности измерения. Применение общей формулы погрешности помогло бы оценить общую неопределенность при определении показаний счетчика."
   ]
  },
  {
   "cell_type": "markdown",
   "metadata": {
    "vscode": {
     "languageId": "raw"
    }
   },
   "source": [
    "### **Упражнение 6: Общая формула ошибки**\n",
    "\n",
    "**Задача**:\n",
    "\n",
    "- Для упрощенной модели рассмотрим расчет расстояния $D$ между двумя точками с использованием триангуляции:\n",
    "\n",
    "$$\n",
    "D = \\frac{H}{\\sin(\\theta)}\n",
    "$$\n",
    "\n",
    "где:\n",
    "\n",
    "- $H$ - это базовое измерение (расстояние между двумя известными точками).\n",
    "- $\\theta$ - измеренный угол.\n",
    "\n",
    "Учитывая погрешности измерений в $H$ и $\\theta$, используйте общую формулу для определения погрешности в $D$.\n",
    "\n",
    "**Инструкции**:\n",
    "- **Данные**:"
   ]
  },
  {
   "cell_type": "code",
   "execution_count": null,
   "metadata": {},
   "outputs": [],
   "source": [
    "H = 10000  # meters\n",
    "theta_deg = 30  # degrees\n",
    "delta_H = 5     # measurement error in H (meters)\n",
    "delta_theta_deg = 0.01  # measurement error in theta (degrees)"
   ]
  },
  {
   "cell_type": "markdown",
   "metadata": {},
   "source": [
    "- **Преобразование угла в радианы**:"
   ]
  },
  {
   "cell_type": "code",
   "execution_count": null,
   "metadata": {},
   "outputs": [],
   "source": [
    "theta = np.radians(theta_deg)\n",
    "delta_theta = np.radians(delta_theta_deg)"
   ]
  },
  {
   "cell_type": "markdown",
   "metadata": {},
   "source": [
    "- **Определите функцию $D(H, \\theta)$**:"
   ]
  },
  {
   "cell_type": "code",
   "execution_count": null,
   "metadata": {},
   "outputs": [],
   "source": [
    "def D(H, theta):\n",
    "    return H / np.sin(theta)"
   ]
  },
  {
   "cell_type": "markdown",
   "metadata": {},
   "source": [
    "- **Вычислите частные производные**:"
   ]
  },
  {
   "cell_type": "code",
   "execution_count": null,
   "metadata": {},
   "outputs": [],
   "source": [
    "# Compute partial derivative with respect to H\n",
    "def partial_D_H(H, theta):\n",
    "    return 1 / np.sin(theta)\n",
    "\n",
    "\n",
    "# Compute partial derivative with respect to theta\n",
    "def partial_D_theta(H, theta):\n",
    "    return -H * np.cos(theta) / (np.sin(theta))**2"
   ]
  },
  {
   "cell_type": "markdown",
   "metadata": {},
   "source": [
    "- **Вычислите абсолютную погрешность в $D$, используя общую формулу погрешности**:"
   ]
  },
  {
   "cell_type": "code",
   "execution_count": null,
   "metadata": {},
   "outputs": [],
   "source": [
    "# Calculate partial derivatives at the given values\n",
    "partial_H = partial_D_H(H, theta)\n",
    "partial_theta = partial_D_theta(H, theta)\n",
    "\n",
    "# Calculate the total error\n",
    "delta_D = abs(partial_H * delta_H) + abs(partial_theta * delta_theta)\n",
    "\n",
    "print(f\"Estimated Error in D: {delta_D:.2f} meters\")"
   ]
  },
  {
   "cell_type": "markdown",
   "metadata": {},
   "source": [
    "- **Вычислите относительную погрешность**:"
   ]
  },
  {
   "cell_type": "code",
   "execution_count": null,
   "metadata": {},
   "outputs": [],
   "source": [
    "relative_error = delta_D / D(H, theta)\n",
    "print(f\"Relative Error: {relative_error * 100:.4f}%\")"
   ]
  },
  {
   "cell_type": "markdown",
   "metadata": {},
   "source": [
    "<a name=\"inverse-problem-of-error-theory\"></a>\n",
    "## **6.2 Обратная задача теории ошибок**\n",
    "\n",
    "**Исторический контекст**:\n",
    "\n",
    "Во время своей экспедиции Мешену и Деламбру часто приходилось отступать от результатов наблюдений, чтобы сделать вывод о начальных условиях или скорректировать измерения, особенно когда они имели дело с накопленными ошибками.\n",
    "\n",
    "**Теория**:\n",
    "\n",
    "Обратная задача теории ошибок заключается в нахождении исходных входных значений с учетом результатов измерений и модели влияния ошибок на эти измерения. Это имеет решающее значение в таких областях, как астрономия и геодезия, где широко распространены косвенные измерения.\n",
    "\n",
    "**Применение для измерения по меридиану**:\n",
    "\n",
    "Предположим, что на некоторые измерения повлияли постоянные ошибки, вызванные неправильной калибровкой прибора. Решение обратной задачи помогло бы скорректировать записанные значения, чтобы они соответствовали истинным измерениям."
   ]
  },
  {
   "cell_type": "markdown",
   "metadata": {},
   "source": [
    "### **Упражнение 7: Обратная задача теории ошибок**\n",
    "\n",
    "**Задача**:\n",
    "\n",
    "- Задано измеренное расстояние $D_{\\text{measured}}$, на которое влияет неизвестная систематическая ошибка $\\epsilon$, и модель, которая связывает их:\n",
    "\n",
    "$$\n",
    "D_{\\text{measured}} = D_{\\text{true}} (1 + \\epsilon)\n",
    "$$\n",
    "\n",
    "- Если вы знаете $D_{\\text{measured}}$ и имеете приблизительное значение $\\epsilon$, вычислите $D_{\\text{true}}$.\n",
    "\n",
    "**Инструкции**:\n",
    "\n",
    "- **Данные**:"
   ]
  },
  {
   "cell_type": "code",
   "execution_count": null,
   "metadata": {},
   "outputs": [],
   "source": [
    "D_measured = 10050  # meters\n",
    "epsilon_estimate = 0.005  # estimated systematic error (0.5%)"
   ]
  },
  {
   "cell_type": "markdown",
   "metadata": {},
   "source": [
    "- **Вычислите истинное расстояние**:"
   ]
  },
  {
   "cell_type": "code",
   "execution_count": null,
   "metadata": {},
   "outputs": [],
   "source": [
    "D_true = D_measured / (1 + epsilon_estimate)\n",
    "print(f\"Estimated True Distance: {D_true:.2f} meters\")"
   ]
  },
  {
   "cell_type": "markdown",
   "metadata": {},
   "source": [
    "<a name=\"discrepancies-theory\"></a>\n",
    "## **6.3 Теория несоответствий (discrepancies)**\n",
    "\n",
    "**Исторический контекст**:\n",
    "\n",
    "несоответствия между ожидаемыми и наблюдаемыми измерениями были обычным явлением во время экспедиции \"Меридиан\". Понимание и анализ этих расхождений помогли бы усовершенствовать методы измерений и исправить ошибки.\n",
    "\n",
    "**Теория**:\n",
    "\n",
    "Теория несоответствий предполагает изучение распределения различий между наблюдаемыми данными и ожидаемыми значениями, часто для выявления закономерностей, смещений или случайных ошибок.\n",
    "\n",
    "**Применение к измерениям по меридиану**:\n",
    "\n",
    "Проанализировав расхождения в угловых измерениях или расстояниях, Мешен и Деламбр могли бы выявить систематические ошибки или несоответствия в своих данных.\n",
    "\n",
    "### **Упражнение 8: Анализ распределения несоответствий**\n",
    "\n",
    "**Задание**:\n",
    "\n",
    "- Учитывая набор ожидаемых и наблюдаемых угловых измерений, вычислите расхождения и проанализируйте их распределение.\n",
    "\n",
    "**Инструкции**:"
   ]
  },
  {
   "cell_type": "code",
   "execution_count": 14,
   "metadata": {},
   "outputs": [],
   "source": [
    "import numpy as np\n",
    "import matplotlib.pyplot as plt"
   ]
  },
  {
   "cell_type": "markdown",
   "metadata": {},
   "source": [
    "- **Данные**:"
   ]
  },
  {
   "cell_type": "code",
   "execution_count": null,
   "metadata": {},
   "outputs": [],
   "source": [
    "expected_angles_deg = np.array([30, 45, 60, 75, 90])  # degrees\n",
    "observed_angles_deg = np.array([29.98, 44.95, 60.05, 75.02, 89.97])  # degrees\n",
    "discrepancies = observed_angles_deg - expected_angles_deg"
   ]
  },
  {
   "cell_type": "markdown",
   "metadata": {},
   "source": [
    "- **Постройте график распределения несоответствий**:"
   ]
  },
  {
   "cell_type": "code",
   "execution_count": null,
   "metadata": {},
   "outputs": [],
   "source": [
    "plt.hist(discrepancies, bins=5, edgecolor='black')\n",
    "plt.title('Discrepancies in Angle Measurements')\n",
    "plt.xlabel('Discrepancy (degrees)')\n",
    "plt.ylabel('Frequency')\n",
    "plt.show()"
   ]
  },
  {
   "cell_type": "markdown",
   "metadata": {},
   "source": [
    "- **Проанализируйте результаты**:\n",
    "\n",
    "  - Распределены ли расхождения случайным образом?\n",
    "  - Есть ли признаки систематической ошибки?\n",
    "\n",
    "  *ВАШ КОММЕНТАРИЙ ЗДЕСЬ*"
   ]
  },
  {
   "cell_type": "markdown",
   "metadata": {},
   "source": [
    "<a name=\"the-coastline-paradox\"></a>\n",
    "## **6.4 Парадокс береговой линии**\n",
    "\n",
    "**Исторический контекст**:\n",
    "\n",
    "Хотя парадокс береговой линии был официально описан гораздо позже, задача измерения неправильных форм была актуальна во времена Мешена и Деламбра, особенно при картографировании береговой линии Франции или неровной местности, что могло повлиять на их базовые измерения.\n",
    "\n",
    "**Теория**:\n",
    "\n",
    "Парадокс береговой линии связан с парадоксальным наблюдением о том, что длина береговой линии может сильно варьироваться в зависимости от используемой шкалы измерений. Это связано с тем, что береговые линии похожи на фракталы и имеют сложность в нескольких масштабах.\n",
    "\n",
    "**Применение к измерениям по меридианам**:\n",
    "\n",
    "Понимание сложности естественных границ могло бы помочь оценить ограничения методов измерения и необходимость в согласованных масштабах."
   ]
  },
  {
   "cell_type": "markdown",
   "metadata": {},
   "source": [
    "### ** Упражнение 9: Исследуем парадокс береговой линии**\n",
    "\n",
    "**Задача**:\n",
    "\n",
    "- Смоделируйте измерение фрактальной береговой линии, используя различные шкалы измерений, и понаблюдайте, как меняется общая длина.\n",
    "\n",
    "**Инструкции**:\n",
    "\n",
    "- **Определите функцию для генерации кривой Коха**:"
   ]
  },
  {
   "cell_type": "code",
   "execution_count": null,
   "metadata": {},
   "outputs": [],
   "source": [
    "def koch_curve(order, scale=1):\n",
    "    def recursive_koch(points, order):\n",
    "        if order == 0:\n",
    "            return points\n",
    "        else:\n",
    "            new_points = []\n",
    "            for i in range(len(points) - 1):\n",
    "                p0 = points[i]\n",
    "                p4 = points[i + 1]\n",
    "                delta = (p4 - p0) / 3\n",
    "                p1 = p0 + delta\n",
    "                p3 = p0 + 2 * delta\n",
    "                angle = np.pi / 3\n",
    "                rotation = np.array([[np.cos(angle), -np.sin(angle)],\n",
    "                                    [np.sin(angle),  np.cos(angle)]])\n",
    "                p2 = p1 + rotation.dot(delta)\n",
    "                new_points.extend([p0, p1, p2, p3])\n",
    "            new_points.append(points[-1])\n",
    "            return recursive_koch(np.array(new_points), order - 1)\n",
    "    initial_points = np.array([[0, 0], [scale, 0]])\n",
    "    return recursive_koch(initial_points, order)"
   ]
  },
  {
   "cell_type": "markdown",
   "metadata": {},
   "source": [
    "- **Измерьте длину с помощью различных масштабов**:"
   ]
  },
  {
   "cell_type": "code",
   "execution_count": null,
   "metadata": {},
   "outputs": [],
   "source": [
    "scales = [1, 0.5, 0.25, 0.125]  # Measurement scales\n",
    "lengths = []\n",
    "\n",
    "for s in scales:\n",
    "    order = int(np.log2(1 / s))\n",
    "    points = koch_curve(order, scale=1)\n",
    "    # Calculate segment lengths\n",
    "    distances = np.sqrt(np.sum(np.diff(points, axis=0)**2, axis=1))\n",
    "    total_length = np.sum(distances)\n",
    "    lengths.append(total_length)"
   ]
  },
  {
   "cell_type": "markdown",
   "metadata": {},
   "source": [
    "- **Постройте график длины в зависимости от масштаба**:"
   ]
  },
  {
   "cell_type": "code",
   "execution_count": null,
   "metadata": {},
   "outputs": [],
   "source": [
    "plt.figure()\n",
    "plt.plot(scales, lengths, marker='o')\n",
    "plt.xlabel('Measurement Scale')\n",
    "plt.ylabel('Total Length')\n",
    "plt.title('Coastline Length vs. Measurement Scale')\n",
    "plt.gca().invert_xaxis()\n",
    "plt.show()"
   ]
  },
  {
   "cell_type": "markdown",
   "metadata": {},
   "source": [
    "- **Проанализируйте результаты**:\n",
    "\n",
    "  - Опишите, как изменяется измеренная длина в зависимости от шкалы измерений.\n",
    "  - Соотнесите это с трудностями, связанными с точными измерениями во время экспедиции.\n",
    "\n",
    "  *ВАШ КОММЕНТАРИЙ ЗДЕСЬ*"
   ]
  },
  {
   "cell_type": "markdown",
   "metadata": {},
   "source": [
    "<a name=\"основы теории фракталов\"></a>\n",
    "## **6.5 Основы теории фракталов**\n",
    "\n",
    "**Исторический контекст**:\n",
    "\n",
    "Несмотря на то, что теория фракталов была разработана спустя столетия после экспедиции на меридиан, в мире природы существуют фрактальные структуры, которые могли повлиять на точность измерений.\n",
    "\n",
    "**Теория**:\n",
    "\n",
    "Фракталы - это сложные структуры, которые проявляют самоподобие в разных масштабах. Они имеют нецелые (фрактальные) размеры, что усложняет традиционные методы измерения.\n",
    "\n",
    "**Применение для измерения по меридианам**:\n",
    "\n",
    "Неровная местность и объекты с фрактальными характеристиками могут затруднить точное измерение расстояний с использованием прямолинейных приближений."
   ]
  },
  {
   "cell_type": "markdown",
   "metadata": {},
   "source": [
    "### **Упражнение 10: Генерация и измерение фракталов**\n",
    "\n",
    "**Задача**:\n",
    "\n",
    "- Сгенерируйте простой фрактал (например, треугольник Серпинского) и вычислите его периметр и площадь на разных уровнях итерации.\n",
    "\n",
    "**Инструкции**:\n",
    "\n",
    "- **Определите функцию для генерации треугольника Серпинского**:"
   ]
  },
  {
   "cell_type": "code",
   "execution_count": null,
   "metadata": {},
   "outputs": [],
   "source": [
    "def sierpinski_triangle(order, points):\n",
    "    if order == 0:\n",
    "        return [points]\n",
    "    else:\n",
    "        triangles = []\n",
    "        mid_points = [\n",
    "            (points[0] + points[1]) / 2,\n",
    "            (points[1] + points[2]) / 2,\n",
    "            (points[2] + points[0]) / 2\n",
    "        ]\n",
    "        triangles += sierpinski_triangle(order - 1, [points[0], mid_points[0], mid_points[2]])\n",
    "        triangles += sierpinski_triangle(order - 1, [mid_points[0], points[1], mid_points[1]])\n",
    "        triangles += sierpinski_triangle(order - 1, [mid_points[2], mid_points[1], points[2]])\n",
    "        return triangles"
   ]
  },
  {
   "cell_type": "markdown",
   "metadata": {},
   "source": [
    "- **Рассчитайте периметр и площадь**:"
   ]
  },
  {
   "cell_type": "code",
   "execution_count": null,
   "metadata": {},
   "outputs": [],
   "source": [
    "import matplotlib.pyplot as plt\n",
    "\n",
    "initial_points = np.array([[0, 0], [1, 0], [0.5, np.sqrt(3)/2]])\n",
    "\n",
    "orders = [0, 1, 2, 3]\n",
    "perimeters = []\n",
    "areas = []\n",
    "\n",
    "for order in orders:\n",
    "    triangles = sierpinski_triangle(order, initial_points)\n",
    "    perimeter = 0\n",
    "    area = 0\n",
    "    for tri in triangles:\n",
    "        # Calculate side lengths\n",
    "        a = np.linalg.norm(tri[0] - tri[1])\n",
    "        b = np.linalg.norm(tri[1] - tri[2])\n",
    "        c = np.linalg.norm(tri[2] - tri[0])\n",
    "        s = (a + b + c) / 2\n",
    "        # Calculate perimeter and area\n",
    "        perimeter += (a + b + c)\n",
    "        area += np.sqrt(s * (s - a) * (s - b) * (s - c))\n",
    "    perimeters.append(perimeter)\n",
    "    areas.append(area)"
   ]
  },
  {
   "cell_type": "markdown",
   "metadata": {},
   "source": [
    "- **Постройте график с результатами**:"
   ]
  },
  {
   "cell_type": "code",
   "execution_count": null,
   "metadata": {},
   "outputs": [],
   "source": [
    "plt.figure()\n",
    "plt.plot(orders, perimeters, marker='o')\n",
    "plt.xlabel('Order')\n",
    "plt.ylabel('Perimeter')\n",
    "plt.title('Perimeter vs. Order in Sierpinski Triangle')\n",
    "plt.show()\n",
    "\n",
    "plt.figure()\n",
    "plt.plot(orders, areas, marker='o')\n",
    "plt.xlabel('Order')\n",
    "plt.ylabel('Area')\n",
    "plt.title('Area vs. Order in Sierpinski Triangle')\n",
    "plt.show()"
   ]
  },
  {
   "cell_type": "markdown",
   "metadata": {},
   "source": [
    "- **Проанализируйте результаты**:\n",
    "\n",
    "  - Понаблюдайте, как увеличивается периметр, в то время как площадь уменьшается или остается постоянной.\n",
    "  - Обсудите последствия для точности измерений.\n",
    "\n",
    "  *ВАШ КОММЕНТАРИЙ ЗДЕСЬ*"
   ]
  },
  {
   "cell_type": "markdown",
   "metadata": {},
   "source": [
    "<a name=\"basics-of-chaos-theory\"></a>\n",
    "## **6.6 Основы теории хаоса**\n",
    "\n",
    "**Исторический контекст**:\n",
    "\n",
    "Хотя теория хаоса возникла в 20 веке, чувствительность к начальным условиям была концепцией, которая могла повлиять на повторные измерения во время экспедиции.\n",
    "\n",
    "**Теория**:\n",
    "\n",
    "Теория хаоса изучает системы, которые очень чувствительны к начальным условиям, что приводит к кажущемуся случайным и непредсказуемым поведению в детерминированных системах.\n",
    "\n",
    "**Применение к измерениям по меридиану**:\n",
    "\n",
    "Небольшие ошибки в начальных измерениях или условиях могут привести к значительным отклонениям в результатах, что подчеркивает необходимость в точности."
   ]
  },
  {
   "cell_type": "markdown",
   "metadata": {},
   "source": [
    "### **Упражнение 11: Чувствительность к начальным условиям**\n",
    "\n",
    "**Задача**:\n",
    "\n",
    "- Исследуйте простую хаотическую систему, такую как логистическая карта, чтобы проиллюстрировать чувствительность к начальным условиям.\n",
    "\n",
    "**Инструкции**:\n",
    "\n",
    "- **Определите функцию логистической карты**:"
   ]
  },
  {
   "cell_type": "code",
   "execution_count": null,
   "metadata": {},
   "outputs": [],
   "source": [
    "def logistic_map(r, x):\n",
    "    return r * x * (1 - x)"
   ]
  },
  {
   "cell_type": "markdown",
   "metadata": {},
   "source": [
    "- **Промоделируйте логистическую карту для двух близких начальных условий**:"
   ]
  },
  {
   "cell_type": "code",
   "execution_count": null,
   "metadata": {},
   "outputs": [],
   "source": [
    "r = 3.99  # Parameter value in chaotic regime\n",
    "x0 = 0.5\n",
    "x1 = x0 + 1e-8  # Slightly different initial condition\n",
    "\n",
    "iterations = 100\n",
    "x_values_0 = [x0]\n",
    "x_values_1 = [x1]\n",
    "\n",
    "for i in range(iterations):\n",
    "    x0 = logistic_map(r, x0)\n",
    "    x1 = logistic_map(r, x1)\n",
    "    x_values_0.append(x0)\n",
    "    x_values_1.append(x1)"
   ]
  },
  {
   "cell_type": "markdown",
   "metadata": {},
   "source": [
    "- **Постройте график по результатам**:"
   ]
  },
  {
   "cell_type": "code",
   "execution_count": null,
   "metadata": {},
   "outputs": [],
   "source": [
    "plt.figure()\n",
    "plt.plot(range(iterations + 1), x_values_0, label='x0')\n",
    "plt.plot(range(iterations + 1), x_values_1, label='x1')\n",
    "plt.xlabel('Iteration')\n",
    "plt.ylabel('x')\n",
    "plt.title('Sensitivity to Initial Conditions in Logistic Map')\n",
    "plt.legend()\n",
    "plt.show()"
   ]
  },
  {
   "cell_type": "markdown",
   "metadata": {},
   "source": [
    "- **Проанализируйте результаты**:\n",
    "\n",
    "  - Обсудите, как небольшие различия в начальных условиях приводят к большим расхождениям.\n",
    "  - Объясните это важностью точности измерений во время экспедиции.\n",
    "\n",
    "  *ВАШ КОММЕНТАРИЙ ЗДЕСЬ*"
   ]
  },
  {
   "cell_type": "markdown",
   "metadata": {},
   "source": [
    "---"
   ]
  },
  {
   "cell_type": "markdown",
   "metadata": {},
   "source": [
    "<a name=\"conclusion\"></a>\n",
    "Понимание ошибок и управление ими является краеугольным камнем вычислительной математики, точно так же, как это было важно для Мешена и Деламбра в их стремлении дать определение счетчику. С помощью этого блокнота вы изучили:\n",
    "\n",
    "- Типы и источники ошибок.\n",
    "- Методы вычисления и минимизации ошибок.\n",
    "- Как современные численные методы могли бы помочь историческим научным исследованиям.\n",
    "- Какое глубокое влияние ошибки могут оказать на научные достижения.\n",
    "\n",
    "По мере продвижения в учебе и карьере умение распознавать ошибки и устранять их будет иметь неоценимое значение."
   ]
  },
  {
   "cell_type": "markdown",
   "metadata": {},
   "source": [
    "---"
   ]
  },
  {
   "cell_type": "markdown",
   "metadata": {},
   "source": [
    "<a name=\"references\"></a>\n",
    "## **7. Источники**\n",
    "\n",
    "- Alder, K. (2002). *The Measure of All Things: The Seven-Year Odyssey and Hidden Error That Transformed the World*. Free Press.\n",
    "- NumPy, Matplotlib and SciPy documentation.\n",
    "- Articles on numerical methods and error analysis.\n",
    "- Gauss, C. F. (1809). *Theoria motus corporum coelestium in sectionibus conicis solem ambientium*.\n",
    "- Mandelbrot, B. (1982). *The Fractal Geometry of Nature*. W.H. Freeman.\n",
    "- Gleick, J. (1987). *Chaos: Making a New Science*. Viking."
   ]
  },
  {
   "cell_type": "markdown",
   "metadata": {},
   "source": [
    "---"
   ]
  }
 ],
 "metadata": {
  "kernelspec": {
   "display_name": "Python 3",
   "language": "python",
   "name": "python3"
  },
  "language_info": {
   "codemirror_mode": {
    "name": "ipython",
    "version": 3
   },
   "file_extension": ".py",
   "mimetype": "text/x-python",
   "name": "python",
   "nbconvert_exporter": "python",
   "pygments_lexer": "ipython3",
   "version": "3.11.9"
  }
 },
 "nbformat": 4,
 "nbformat_minor": 2
}
