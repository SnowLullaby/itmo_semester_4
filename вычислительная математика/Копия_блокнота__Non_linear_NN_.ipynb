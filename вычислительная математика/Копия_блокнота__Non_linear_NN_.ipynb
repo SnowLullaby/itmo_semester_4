{
  "metadata": {
    "kernelspec": {
      "display_name": "Python 3",
      "name": "python3"
    },
    "language_info": {
      "name": "python",
      "version": "3.10.12",
      "mimetype": "text/x-python",
      "codemirror_mode": {
        "name": "ipython",
        "version": 3
      },
      "pygments_lexer": "ipython3",
      "nbconvert_exporter": "python",
      "file_extension": ".py"
    },
    "kaggle": {
      "accelerator": "none",
      "dataSources": [],
      "dockerImageVersionId": 30918,
      "isInternetEnabled": true,
      "language": "python",
      "sourceType": "notebook",
      "isGpuEnabled": false
    },
    "colab": {
      "provenance": [],
      "gpuType": "T4"
    },
    "accelerator": "GPU"
  },
  "nbformat_minor": 0,
  "nbformat": 4,
  "cells": [
    {
      "cell_type": "markdown",
      "source": [
        "# **Использование различных оптимизаторов для минимизации весов нейронных сетей на основе набора данных MNIST**\n",
        "\n",
        "MNIST - является классических набором данных для задачи распознавания рукописных цифр."
      ],
      "metadata": {
        "id": "QiCQMrISPl6r"
      }
    },
    {
      "cell_type": "markdown",
      "source": [
        "Ваш ИСУ id и ФИО:\n",
        "\n",
        "336423 Вавилина Е.А."
      ],
      "metadata": {
        "id": "JC-a4w5cyHT1"
      }
    },
    {
      "cell_type": "markdown",
      "source": [
        "**Задание:**\n",
        "1. Обучить и измерить точность нейросетей с различными предложенными оптимизаторами из библиотеки PyTorch (done, оно доучится, я верю)\n",
        "2. Построить графики длительности обучения, точности результатов, загрузки CPU и использования оперативной памяти.\n",
        "3. Сделать анализ полученных результатов. (разде 9)\n",
        "4. Добавить собственные оптимизаторы из коллекции библиотеки Pytorch. (done, еще на первой итерации)\n",
        "5. Повторить шаги 2-3.\n",
        "6. *Можно попробовать оптимизаторы из других библиотек, но не все они могут быть совместимы с Pytorch архитектурой (см. раздел 10).\n",
        "\n",
        "Так как нейронные сети могут обучаться достаточно долго, то запускать их можно по одной, чтобы не потерять результаты.\n",
        "\n",
        "По указаной же выше причине, можно сначала поставить нейронные сети тренироваться, а в это время заняться изучением теоретической шпаргалки в разделе 1.\n",
        "\n",
        "В разделе 9, секцию А можно заполнять, пока нейронные сети ещё учатся."
      ],
      "metadata": {
        "id": "cPtnVpCkJdqR"
      }
    },
    {
      "cell_type": "code",
      "source": [
        "!pip install --upgrade torch torchvision"
      ],
      "metadata": {
        "id": "nu0ZyhN_XLTT",
        "outputId": "e6e862cc-c47c-4c43-d380-10d80a125940",
        "colab": {
          "base_uri": "https://localhost:8080/"
        },
        "collapsed": true
      },
      "execution_count": 1,
      "outputs": [
        {
          "output_type": "stream",
          "name": "stdout",
          "text": [
            "Requirement already satisfied: torch in /usr/local/lib/python3.11/dist-packages (2.6.0+cu124)\n",
            "Requirement already satisfied: torchvision in /usr/local/lib/python3.11/dist-packages (0.21.0+cu124)\n",
            "Requirement already satisfied: filelock in /usr/local/lib/python3.11/dist-packages (from torch) (3.17.0)\n",
            "Requirement already satisfied: typing-extensions>=4.10.0 in /usr/local/lib/python3.11/dist-packages (from torch) (4.12.2)\n",
            "Requirement already satisfied: networkx in /usr/local/lib/python3.11/dist-packages (from torch) (3.4.2)\n",
            "Requirement already satisfied: jinja2 in /usr/local/lib/python3.11/dist-packages (from torch) (3.1.6)\n",
            "Requirement already satisfied: fsspec in /usr/local/lib/python3.11/dist-packages (from torch) (2024.10.0)\n",
            "Collecting nvidia-cuda-nvrtc-cu12==12.4.127 (from torch)\n",
            "  Downloading nvidia_cuda_nvrtc_cu12-12.4.127-py3-none-manylinux2014_x86_64.whl.metadata (1.5 kB)\n",
            "Collecting nvidia-cuda-runtime-cu12==12.4.127 (from torch)\n",
            "  Downloading nvidia_cuda_runtime_cu12-12.4.127-py3-none-manylinux2014_x86_64.whl.metadata (1.5 kB)\n",
            "Collecting nvidia-cuda-cupti-cu12==12.4.127 (from torch)\n",
            "  Downloading nvidia_cuda_cupti_cu12-12.4.127-py3-none-manylinux2014_x86_64.whl.metadata (1.6 kB)\n",
            "Collecting nvidia-cudnn-cu12==9.1.0.70 (from torch)\n",
            "  Downloading nvidia_cudnn_cu12-9.1.0.70-py3-none-manylinux2014_x86_64.whl.metadata (1.6 kB)\n",
            "Collecting nvidia-cublas-cu12==12.4.5.8 (from torch)\n",
            "  Downloading nvidia_cublas_cu12-12.4.5.8-py3-none-manylinux2014_x86_64.whl.metadata (1.5 kB)\n",
            "Collecting nvidia-cufft-cu12==11.2.1.3 (from torch)\n",
            "  Downloading nvidia_cufft_cu12-11.2.1.3-py3-none-manylinux2014_x86_64.whl.metadata (1.5 kB)\n",
            "Collecting nvidia-curand-cu12==10.3.5.147 (from torch)\n",
            "  Downloading nvidia_curand_cu12-10.3.5.147-py3-none-manylinux2014_x86_64.whl.metadata (1.5 kB)\n",
            "Collecting nvidia-cusolver-cu12==11.6.1.9 (from torch)\n",
            "  Downloading nvidia_cusolver_cu12-11.6.1.9-py3-none-manylinux2014_x86_64.whl.metadata (1.6 kB)\n",
            "Collecting nvidia-cusparse-cu12==12.3.1.170 (from torch)\n",
            "  Downloading nvidia_cusparse_cu12-12.3.1.170-py3-none-manylinux2014_x86_64.whl.metadata (1.6 kB)\n",
            "Requirement already satisfied: nvidia-cusparselt-cu12==0.6.2 in /usr/local/lib/python3.11/dist-packages (from torch) (0.6.2)\n",
            "Requirement already satisfied: nvidia-nccl-cu12==2.21.5 in /usr/local/lib/python3.11/dist-packages (from torch) (2.21.5)\n",
            "Requirement already satisfied: nvidia-nvtx-cu12==12.4.127 in /usr/local/lib/python3.11/dist-packages (from torch) (12.4.127)\n",
            "Collecting nvidia-nvjitlink-cu12==12.4.127 (from torch)\n",
            "  Downloading nvidia_nvjitlink_cu12-12.4.127-py3-none-manylinux2014_x86_64.whl.metadata (1.5 kB)\n",
            "Requirement already satisfied: triton==3.2.0 in /usr/local/lib/python3.11/dist-packages (from torch) (3.2.0)\n",
            "Requirement already satisfied: sympy==1.13.1 in /usr/local/lib/python3.11/dist-packages (from torch) (1.13.1)\n",
            "Requirement already satisfied: mpmath<1.4,>=1.1.0 in /usr/local/lib/python3.11/dist-packages (from sympy==1.13.1->torch) (1.3.0)\n",
            "Requirement already satisfied: numpy in /usr/local/lib/python3.11/dist-packages (from torchvision) (2.0.2)\n",
            "Requirement already satisfied: pillow!=8.3.*,>=5.3.0 in /usr/local/lib/python3.11/dist-packages (from torchvision) (11.1.0)\n",
            "Requirement already satisfied: MarkupSafe>=2.0 in /usr/local/lib/python3.11/dist-packages (from jinja2->torch) (3.0.2)\n",
            "Downloading nvidia_cublas_cu12-12.4.5.8-py3-none-manylinux2014_x86_64.whl (363.4 MB)\n",
            "\u001b[2K   \u001b[90m━━━━━━━━━━━━━━━━━━━━━━━━━━━━━━━━━━━━━━━━\u001b[0m \u001b[32m363.4/363.4 MB\u001b[0m \u001b[31m4.0 MB/s\u001b[0m eta \u001b[36m0:00:00\u001b[0m\n",
            "\u001b[?25hDownloading nvidia_cuda_cupti_cu12-12.4.127-py3-none-manylinux2014_x86_64.whl (13.8 MB)\n",
            "\u001b[2K   \u001b[90m━━━━━━━━━━━━━━━━━━━━━━━━━━━━━━━━━━━━━━━━\u001b[0m \u001b[32m13.8/13.8 MB\u001b[0m \u001b[31m76.9 MB/s\u001b[0m eta \u001b[36m0:00:00\u001b[0m\n",
            "\u001b[?25hDownloading nvidia_cuda_nvrtc_cu12-12.4.127-py3-none-manylinux2014_x86_64.whl (24.6 MB)\n",
            "\u001b[2K   \u001b[90m━━━━━━━━━━━━━━━━━━━━━━━━━━━━━━━━━━━━━━━━\u001b[0m \u001b[32m24.6/24.6 MB\u001b[0m \u001b[31m62.7 MB/s\u001b[0m eta \u001b[36m0:00:00\u001b[0m\n",
            "\u001b[?25hDownloading nvidia_cuda_runtime_cu12-12.4.127-py3-none-manylinux2014_x86_64.whl (883 kB)\n",
            "\u001b[2K   \u001b[90m━━━━━━━━━━━━━━━━━━━━━━━━━━━━━━━━━━━━━━━━\u001b[0m \u001b[32m883.7/883.7 kB\u001b[0m \u001b[31m44.6 MB/s\u001b[0m eta \u001b[36m0:00:00\u001b[0m\n",
            "\u001b[?25hDownloading nvidia_cudnn_cu12-9.1.0.70-py3-none-manylinux2014_x86_64.whl (664.8 MB)\n",
            "\u001b[2K   \u001b[90m━━━━━━━━━━━━━━━━━━━━━━━━━━━━━━━━━━━━━━━━\u001b[0m \u001b[32m664.8/664.8 MB\u001b[0m \u001b[31m2.6 MB/s\u001b[0m eta \u001b[36m0:00:00\u001b[0m\n",
            "\u001b[?25hDownloading nvidia_cufft_cu12-11.2.1.3-py3-none-manylinux2014_x86_64.whl (211.5 MB)\n",
            "\u001b[2K   \u001b[90m━━━━━━━━━━━━━━━━━━━━━━━━━━━━━━━━━━━━━━━━\u001b[0m \u001b[32m211.5/211.5 MB\u001b[0m \u001b[31m5.6 MB/s\u001b[0m eta \u001b[36m0:00:00\u001b[0m\n",
            "\u001b[?25hDownloading nvidia_curand_cu12-10.3.5.147-py3-none-manylinux2014_x86_64.whl (56.3 MB)\n",
            "\u001b[2K   \u001b[90m━━━━━━━━━━━━━━━━━━━━━━━━━━━━━━━━━━━━━━━━\u001b[0m \u001b[32m56.3/56.3 MB\u001b[0m \u001b[31m12.3 MB/s\u001b[0m eta \u001b[36m0:00:00\u001b[0m\n",
            "\u001b[?25hDownloading nvidia_cusolver_cu12-11.6.1.9-py3-none-manylinux2014_x86_64.whl (127.9 MB)\n",
            "\u001b[2K   \u001b[90m━━━━━━━━━━━━━━━━━━━━━━━━━━━━━━━━━━━━━━━━\u001b[0m \u001b[32m127.9/127.9 MB\u001b[0m \u001b[31m7.4 MB/s\u001b[0m eta \u001b[36m0:00:00\u001b[0m\n",
            "\u001b[?25hDownloading nvidia_cusparse_cu12-12.3.1.170-py3-none-manylinux2014_x86_64.whl (207.5 MB)\n",
            "\u001b[2K   \u001b[90m━━━━━━━━━━━━━━━━━━━━━━━━━━━━━━━━━━━━━━━━\u001b[0m \u001b[32m207.5/207.5 MB\u001b[0m \u001b[31m5.4 MB/s\u001b[0m eta \u001b[36m0:00:00\u001b[0m\n",
            "\u001b[?25hDownloading nvidia_nvjitlink_cu12-12.4.127-py3-none-manylinux2014_x86_64.whl (21.1 MB)\n",
            "\u001b[2K   \u001b[90m━━━━━━━━━━━━━━━━━━━━━━━━━━━━━━━━━━━━━━━━\u001b[0m \u001b[32m21.1/21.1 MB\u001b[0m \u001b[31m41.9 MB/s\u001b[0m eta \u001b[36m0:00:00\u001b[0m\n",
            "\u001b[?25hInstalling collected packages: nvidia-nvjitlink-cu12, nvidia-curand-cu12, nvidia-cufft-cu12, nvidia-cuda-runtime-cu12, nvidia-cuda-nvrtc-cu12, nvidia-cuda-cupti-cu12, nvidia-cublas-cu12, nvidia-cusparse-cu12, nvidia-cudnn-cu12, nvidia-cusolver-cu12\n",
            "  Attempting uninstall: nvidia-nvjitlink-cu12\n",
            "    Found existing installation: nvidia-nvjitlink-cu12 12.5.82\n",
            "    Uninstalling nvidia-nvjitlink-cu12-12.5.82:\n",
            "      Successfully uninstalled nvidia-nvjitlink-cu12-12.5.82\n",
            "  Attempting uninstall: nvidia-curand-cu12\n",
            "    Found existing installation: nvidia-curand-cu12 10.3.6.82\n",
            "    Uninstalling nvidia-curand-cu12-10.3.6.82:\n",
            "      Successfully uninstalled nvidia-curand-cu12-10.3.6.82\n",
            "  Attempting uninstall: nvidia-cufft-cu12\n",
            "    Found existing installation: nvidia-cufft-cu12 11.2.3.61\n",
            "    Uninstalling nvidia-cufft-cu12-11.2.3.61:\n",
            "      Successfully uninstalled nvidia-cufft-cu12-11.2.3.61\n",
            "  Attempting uninstall: nvidia-cuda-runtime-cu12\n",
            "    Found existing installation: nvidia-cuda-runtime-cu12 12.5.82\n",
            "    Uninstalling nvidia-cuda-runtime-cu12-12.5.82:\n",
            "      Successfully uninstalled nvidia-cuda-runtime-cu12-12.5.82\n",
            "  Attempting uninstall: nvidia-cuda-nvrtc-cu12\n",
            "    Found existing installation: nvidia-cuda-nvrtc-cu12 12.5.82\n",
            "    Uninstalling nvidia-cuda-nvrtc-cu12-12.5.82:\n",
            "      Successfully uninstalled nvidia-cuda-nvrtc-cu12-12.5.82\n",
            "  Attempting uninstall: nvidia-cuda-cupti-cu12\n",
            "    Found existing installation: nvidia-cuda-cupti-cu12 12.5.82\n",
            "    Uninstalling nvidia-cuda-cupti-cu12-12.5.82:\n",
            "      Successfully uninstalled nvidia-cuda-cupti-cu12-12.5.82\n",
            "  Attempting uninstall: nvidia-cublas-cu12\n",
            "    Found existing installation: nvidia-cublas-cu12 12.5.3.2\n",
            "    Uninstalling nvidia-cublas-cu12-12.5.3.2:\n",
            "      Successfully uninstalled nvidia-cublas-cu12-12.5.3.2\n",
            "  Attempting uninstall: nvidia-cusparse-cu12\n",
            "    Found existing installation: nvidia-cusparse-cu12 12.5.1.3\n",
            "    Uninstalling nvidia-cusparse-cu12-12.5.1.3:\n",
            "      Successfully uninstalled nvidia-cusparse-cu12-12.5.1.3\n",
            "  Attempting uninstall: nvidia-cudnn-cu12\n",
            "    Found existing installation: nvidia-cudnn-cu12 9.3.0.75\n",
            "    Uninstalling nvidia-cudnn-cu12-9.3.0.75:\n",
            "      Successfully uninstalled nvidia-cudnn-cu12-9.3.0.75\n",
            "  Attempting uninstall: nvidia-cusolver-cu12\n",
            "    Found existing installation: nvidia-cusolver-cu12 11.6.3.83\n",
            "    Uninstalling nvidia-cusolver-cu12-11.6.3.83:\n",
            "      Successfully uninstalled nvidia-cusolver-cu12-11.6.3.83\n",
            "Successfully installed nvidia-cublas-cu12-12.4.5.8 nvidia-cuda-cupti-cu12-12.4.127 nvidia-cuda-nvrtc-cu12-12.4.127 nvidia-cuda-runtime-cu12-12.4.127 nvidia-cudnn-cu12-9.1.0.70 nvidia-cufft-cu12-11.2.1.3 nvidia-curand-cu12-10.3.5.147 nvidia-cusolver-cu12-11.6.1.9 nvidia-cusparse-cu12-12.3.1.170 nvidia-nvjitlink-cu12-12.4.127\n"
          ]
        }
      ]
    },
    {
      "cell_type": "markdown",
      "source": [
        "### **Советы для студентов**\n",
        "1. Для методов второго порядка (например, Ньютона) уменьшайте размерность данных (например, используйте `28x28 → 14x14`), чтобы гессиан не занимал слишком много памяти.\n",
        "2. Экспериментируйте с `batch_size` для баланса между памятью и скоростью.\n",
        "3. Используйте `torch.jit` для оптимизации вычислений."
      ],
      "metadata": {
        "id": "MEGHD3_uWbZi"
      }
    },
    {
      "cell_type": "markdown",
      "source": [
        "#### **1. Теоретическая шпаргалка**\n",
        "### **1. Основы методов оптимизации**\n",
        "#### **1.1 Градиентный спуск и его модификации**\n",
        "- **Формула обновления параметров**:  \n",
        "  $ \\theta_{t+1} = \\theta_t - \\eta \\nabla L(\\theta_t) $,  \n",
        "  где $ \\eta $ — learning rate, $ \\nabla L $ — градиент функции потерь.\n",
        "- **Стохастический градиентный спуск (SGD)**:  \n",
        "  Использование подвыборки (батча) для оценки градиента.  \n",
        "  Плюсы: низкая вычислительная стоимость.  \n",
        "  Минусы: шум, медленная сходимость.\n",
        "- **Метод моментов**:  \n",
        "  $ v_{t+1} = \\beta v_t + (1-\\beta) \\nabla L(\\theta_t) $,  \n",
        "  $ \\theta_{t+1} = \\theta_t - \\eta v_{t+1} $.  \n",
        "  Идея: инерция для подавления шума.\n",
        "\n",
        "#### **1.2 Методы второго порядка**\n",
        "- **Метод Ньютона**:  \n",
        "  $ \\theta_{t+1} = \\theta_t - H^{-1}(\\theta_t) \\nabla L(\\theta_t) $,  \n",
        "  где $ H $ — гессиан.  \n",
        "  Проблемы: вычисление $ H^{-1} $ для больших моделей ($ O(n^3) $).\n",
        "- **Квазиньютоновские методы (L-BFGS)**:  \n",
        "  Аппроксимация гессиана с помощью истории градиентов.  \n",
        "  Преимущества: меньше памяти, чем у полного BFGS.\n",
        "\n",
        "#### **1.3 Адаптивные методы**\n",
        "- **RMSProp**:  \n",
        "  Адаптивный шаг на основе скользящего среднего квадратов градиентов:  \n",
        "  $ E[g^2]_t = \\gamma E[g^2]_{t-1} + (1-\\gamma) g_t^2 $,  \n",
        "  $ \\theta_{t+1} = \\theta_t - \\frac{\\eta}{\\sqrt{E[g^2]_t + \\epsilon}} g_t $.  \n",
        "- **Adam**:  \n",
        "  Комбинация моментов первого и второго порядка:  \n",
        "  $ m_t = \\beta_1 m_{t-1} + (1-\\beta_1) g_t $,  \n",
        "  $ v_t = \\beta_2 v_{t-1} + (1-\\beta_2) g_t^2 $,  \n",
        "  $ \\theta_{t+1} = \\theta_t - \\frac{\\eta \\cdot \\hat{m}_t}{\\sqrt{\\hat{v}_t} + \\epsilon} $.  \n",
        "  Здесь $ \\hat{m}_t $ и $ \\hat{v}_t $ — bias-corrected оценки.\n",
        "\n",
        "---\n",
        "\n",
        "### **2. Связь с системами нелинейных уравнений**\n",
        "#### **2.1 Постановка задачи**\n",
        "- Система уравнений: $ F(\\theta) = 0 $, где $ F: \\mathbb{R}^n \\to \\mathbb{R}^n $.  \n",
        "- Для оптимизации: $ F(\\theta) = \\nabla L(\\theta) = 0 $.\n",
        "\n",
        "#### **2.2 Метод Ньютона для систем**\n",
        "- Итерация: $ \\theta_{t+1} = \\theta_t - J^{-1}(\\theta_t) F(\\theta_t) $,  \n",
        "  где $ J $ — якобиан $ F $.  \n",
        "- Для оптимизации $ J = H $ (гессиан функции потерь).\n",
        "\n",
        "#### **2.3 Квазиньютоновские методы**\n",
        "- Аппроксимация $ J^{-1} $ без явного вычисления матрицы (L-BFGS).  \n",
        "- Условие секущих: $ J_{t+1} (\\theta_{t+1} - \\theta_t) = F(\\theta_{t+1}) - F(\\theta_t) $.\n",
        "\n",
        "---\n",
        "\n",
        "### **3. Практические аспекты в глубоком обучении**\n",
        "#### **3.1 Почему метод Ньютона не используется напрямую?**\n",
        "- Вычислительная сложность: $ O(n^3) $ для обращения матрицы.  \n",
        "- Память: хранение гессиана для $ n=10^6 $ параметров требует $ 10^{12} $ элементов.  \n",
        "- Решение: квазиньютоновские методы и адаптивные оптимизаторы.\n",
        "\n",
        "#### **3.2 Сравнение методов**\n",
        "| **Метод**      | **Порядок** | **Память** | **Сходимость**       | **Гиперпараметры**   |\n",
        "|----------------|-------------|------------|----------------------|----------------------|\n",
        "| SGD            | 1-й         | $ O(n) $ | Медленная            | Learning rate        |\n",
        "| Adam           | 1-й         | $ O(n) $ | Быстрая             | $ \\beta_1, \\beta_2 $ |\n",
        "| L-BFGS         | 2-й         | $ O(mn) $ | Суперлинейная       | Размер истории ($ m $) |\n",
        "\n",
        "#### **3.3 Адаптивные методы vs. методы второго порядка**\n",
        "- **Adam/RMSProp**: Хороши для noisy gradients, не требуют точного вычисления кривизны.  \n",
        "- **L-BFGS**: Эффективен на гладких задачах, но чувствителен к шуму и требует точного линейного поиска.\n",
        "\n",
        "---\n",
        "\n",
        "### **4. Ключевые концепции для анализа**\n",
        "#### **4.1 Скорость сходимости**\n",
        "- Линейная (SGD), суперлинейная (L-BFGS), адаптивная (Adam).  \n",
        "- Теоретическая основа: условия Липшица для градиента и гессиана.\n",
        "\n",
        "#### **4.2 Память и вычислительная стоимость**\n",
        "- **Методы 1-го порядка**: $ O(n) $ — хранение градиентов.  \n",
        "- **Методы 2-го порядка**: $ O(mn) $ — хранение истории градиентов (L-BFGS).  \n",
        "- **Время на итерацию**: SGD — $ O(batch \\cdot n) $, L-BFGS — $ O(m \\cdot batch \\cdot n) $.\n",
        "\n",
        "#### **4.3 Проблемы обучения**\n",
        "- **Застревание в локальных минимумах**: Как методы с моментом (Adam) помогают их избежать.  \n",
        "- **Сглаживание шума**: Роль экспоненциального скользящего среднего в Adam.\n",
        "\n",
        "---\n",
        "\n",
        "### **5. Визуализации для понимания**\n",
        "1. **График ландшафта функции потерь**:  \n",
        "   - Как методы 1-го и 2-го порядка двигаются к минимуму.\n",
        "\n",
        "2. **Графики сходимости**:  \n",
        "   - Сравнение loss vs. итерации для SGD, Adam, L-BFGS.  \n",
        "   - Пример из [статьи](https://debuggercafe.com/wp-content/uploads/2020/06/adam_result_mnist.png):  \n",
        "     ![Optimizers Comparison](https://debuggercafe.com/wp-content/uploads/2020/06/adam_result_mnist.png) .\n",
        "\n",
        "---\n",
        "\n",
        "### **6. Рекомендуемые дополнительные источники**\n",
        "1. **Книги**:  \n",
        "   - Boyd & Vandenberghe, \"Convex Optimization\" (Глава 9 — Методы Ньютона).  \n",
        "   - Goodfellow et al., \"Deep Learning\" (Глава 8 — Оптимизация).  \n",
        "2. **Статьи**:  \n",
        "   - [Adam: A Method for Stochastic Optimization](https://arxiv.org/abs/1412.6980).  \n",
        "   - [On the Limited Memory BFGS Method for Large Scale Optimization](https://link.springer.com/article/10.1007/BF01589116).  \n",
        "3. **Лекции**:  \n",
        "   - [CS231n: Optimization](https://cs231n.github.io/optimization-1/).  "
      ],
      "metadata": {
        "id": "EfHpHRDAWbZj"
      }
    },
    {
      "cell_type": "markdown",
      "source": [
        "# **Конец теоретической шпаргалки**\n",
        "---"
      ],
      "metadata": {
        "id": "j5F6Z-I8XYPY"
      }
    },
    {
      "cell_type": "markdown",
      "source": [
        "---"
      ],
      "metadata": {
        "id": "UeZR2TN7Xbpw"
      }
    },
    {
      "cell_type": "markdown",
      "source": [
        "#### **2. Установка зависимостей**"
      ],
      "metadata": {
        "id": "WFE90OfJWbZk"
      }
    },
    {
      "cell_type": "code",
      "source": [
        "!pip install memory_profiler psutil"
      ],
      "metadata": {
        "trusted": true,
        "execution": {
          "iopub.status.busy": "2025-03-17T17:41:27.761227Z",
          "iopub.execute_input": "2025-03-17T17:41:27.761821Z",
          "iopub.status.idle": "2025-03-17T17:43:59.704721Z",
          "shell.execute_reply.started": "2025-03-17T17:41:27.76178Z",
          "shell.execute_reply": "2025-03-17T17:43:59.703263Z"
        },
        "id": "NnC4Q7TOWbZk",
        "outputId": "0deb98ef-3a4d-4632-a107-b7494ed76e37",
        "colab": {
          "base_uri": "https://localhost:8080/"
        }
      },
      "outputs": [
        {
          "output_type": "stream",
          "name": "stdout",
          "text": [
            "Collecting memory_profiler\n",
            "  Downloading memory_profiler-0.61.0-py3-none-any.whl.metadata (20 kB)\n",
            "Requirement already satisfied: psutil in /usr/local/lib/python3.11/dist-packages (5.9.5)\n",
            "Downloading memory_profiler-0.61.0-py3-none-any.whl (31 kB)\n",
            "Installing collected packages: memory_profiler\n",
            "Successfully installed memory_profiler-0.61.0\n"
          ]
        }
      ],
      "execution_count": 2
    },
    {
      "cell_type": "markdown",
      "source": [
        "---"
      ],
      "metadata": {
        "id": "9dcG5MqvWbZk"
      }
    },
    {
      "cell_type": "markdown",
      "source": [
        "#### **3. Предобработка данных MNIST**"
      ],
      "metadata": {
        "id": "4qo5MskKWbZk"
      }
    },
    {
      "cell_type": "code",
      "source": [
        "import torch\n",
        "from torchvision import datasets, transforms\n",
        "\n",
        "device = torch.device(\"cuda\")\n",
        "\n",
        "# Загрузка данных\n",
        "transform = transforms.Compose([\n",
        "    transforms.ToTensor(),  # Конвертирует PIL.Image в тензор\n",
        "    transforms.Normalize((0.5,), (0.5,))\n",
        "])\n",
        "# Загрузка данных\n",
        "train_dataset = datasets.MNIST(\n",
        "    root='./data',\n",
        "    train=True,\n",
        "    download=True,\n",
        "    transform=transform  # Применяем преобразования\n",
        ")\n",
        "\n",
        "test_dataset = datasets.MNIST(\n",
        "    root='./data',\n",
        "    train=False,\n",
        "    transform=transform\n",
        ")\n",
        "\n",
        "\n",
        "\n",
        "# Преобразование в DataLoader\n",
        "batch_size = 128\n",
        "train_loader = torch.utils.data.DataLoader(train_dataset, batch_size=batch_size, shuffle=True)\n",
        "test_loader = torch.utils.data.DataLoader(test_dataset, batch_size=batch_size, shuffle=False)"
      ],
      "metadata": {
        "trusted": true,
        "execution": {
          "iopub.status.busy": "2025-03-17T17:44:33.126067Z",
          "iopub.execute_input": "2025-03-17T17:44:33.127877Z",
          "iopub.status.idle": "2025-03-17T17:44:33.499449Z",
          "shell.execute_reply.started": "2025-03-17T17:44:33.127809Z",
          "shell.execute_reply": "2025-03-17T17:44:33.496751Z"
        },
        "id": "FzMIUL3CWbZk"
      },
      "outputs": [],
      "execution_count": 41
    },
    {
      "cell_type": "markdown",
      "source": [
        "---"
      ],
      "metadata": {
        "id": "Tmpr_hGqWbZl"
      }
    },
    {
      "cell_type": "markdown",
      "source": [
        "#### **4. Определение модели (полносвязная сеть)**"
      ],
      "metadata": {
        "id": "mcphGDsiWbZl"
      }
    },
    {
      "cell_type": "code",
      "source": [
        "import torch.nn as nn\n",
        "\n",
        "class MLP(nn.Module):\n",
        "    def __init__(self):\n",
        "        super(MLP, self).__init__()\n",
        "        self.layers = nn.Sequential(\n",
        "            nn.Flatten(),\n",
        "            nn.Linear(28*28, 512),\n",
        "            nn.ReLU(),\n",
        "            nn.Linear(512, 10)\n",
        "        )\n",
        "\n",
        "    def forward(self, x):\n",
        "        return self.layers(x)\n"
      ],
      "metadata": {
        "trusted": true,
        "execution": {
          "iopub.status.busy": "2025-03-17T17:44:07.495744Z",
          "iopub.execute_input": "2025-03-17T17:44:07.496225Z",
          "iopub.status.idle": "2025-03-17T17:44:07.502149Z",
          "shell.execute_reply.started": "2025-03-17T17:44:07.496194Z",
          "shell.execute_reply": "2025-03-17T17:44:07.50093Z"
        },
        "id": "gGaZWCEMWbZl"
      },
      "outputs": [],
      "execution_count": 42
    },
    {
      "cell_type": "markdown",
      "source": [
        "---"
      ],
      "metadata": {
        "id": "cGCs-gmPWbZl"
      }
    },
    {
      "cell_type": "markdown",
      "source": [
        "#### **5. Инструменты для мониторинга ресурсов**"
      ],
      "metadata": {
        "id": "i4USEyZ8WbZl"
      }
    },
    {
      "cell_type": "code",
      "source": [
        "import time\n",
        "import psutil\n",
        "from memory_profiler import memory_usage\n",
        "\n",
        "def monitor_resources(func):\n",
        "    def wrapper(*args, **kwargs):\n",
        "        start_time = time.time()\n",
        "        start_mem = memory_usage(-1, interval=0.1)[0]\n",
        "        process = psutil.Process()\n",
        "        cpu_percent_start = process.cpu_percent(interval=None)\n",
        "\n",
        "        result = func(*args, **kwargs)\n",
        "\n",
        "        end_time = time.time()\n",
        "        end_mem = memory_usage(-1, interval=0.1)[0]\n",
        "        cpu_percent_end = process.cpu_percent(interval=None)\n",
        "\n",
        "        metrics = {\n",
        "            \"time\": end_time - start_time,\n",
        "            \"memory\": end_mem - start_mem,\n",
        "            \"cpu\": cpu_percent_end - cpu_percent_start\n",
        "        }\n",
        "        return result, metrics\n",
        "    return wrapper\n"
      ],
      "metadata": {
        "trusted": true,
        "execution": {
          "iopub.status.busy": "2025-03-17T17:44:07.50368Z",
          "iopub.execute_input": "2025-03-17T17:44:07.504008Z",
          "iopub.status.idle": "2025-03-17T17:44:07.528673Z",
          "shell.execute_reply.started": "2025-03-17T17:44:07.503968Z",
          "shell.execute_reply": "2025-03-17T17:44:07.527443Z"
        },
        "id": "lf27tV-hWbZm"
      },
      "outputs": [],
      "execution_count": 45
    },
    {
      "cell_type": "markdown",
      "source": [
        "---"
      ],
      "metadata": {
        "id": "zdy8ypb2WbZm"
      }
    },
    {
      "cell_type": "markdown",
      "source": [
        "#### **6. Обучение модели с разными оптимизаторами**"
      ],
      "metadata": {
        "id": "BwLxASTWWbZm"
      }
    },
    {
      "cell_type": "code",
      "source": [
        "@monitor_resources\n",
        "def train_model(optimizer, model, criterion, epochs=5):\n",
        "    model.train()\n",
        "    for epoch in range(epochs):\n",
        "        for data, target in train_loader:\n",
        "            data, target = data.to(device), target.to(device)\n",
        "            def closure():\n",
        "                optimizer.zero_grad()\n",
        "                output = model(data)\n",
        "                loss = criterion(output, target)\n",
        "                loss.backward()\n",
        "                return loss\n",
        "            loss = optimizer.step(closure)\n",
        "    return model\n"
      ],
      "metadata": {
        "trusted": true,
        "execution": {
          "iopub.status.busy": "2025-03-17T17:44:07.529782Z",
          "iopub.execute_input": "2025-03-17T17:44:07.530137Z",
          "iopub.status.idle": "2025-03-17T17:44:07.539139Z",
          "shell.execute_reply.started": "2025-03-17T17:44:07.530107Z",
          "shell.execute_reply": "2025-03-17T17:44:07.538091Z"
        },
        "id": "bxPEJfIdWbZm"
      },
      "outputs": [],
      "execution_count": 46
    },
    {
      "cell_type": "code",
      "source": [
        "def evaluate_model(model, test_loader):\n",
        "    model.eval()  # Переводим модель в режим оценки\n",
        "    correct = 0\n",
        "    total = 0\n",
        "\n",
        "    with torch.no_grad():  # Отключаем вычисление градиентов\n",
        "        for data, targets in test_loader:\n",
        "            data = data.to(device)\n",
        "            targets = targets.to(device)\n",
        "\n",
        "            outputs = model(data)\n",
        "            _, predicted = torch.max(outputs.data, 1)\n",
        "\n",
        "            total += targets.size(0)\n",
        "            correct += (predicted == targets).sum().item()\n",
        "\n",
        "    accuracy = 100 * correct / total\n",
        "    return accuracy"
      ],
      "metadata": {
        "id": "qbFn0QLIW6a-"
      },
      "execution_count": 48,
      "outputs": []
    },
    {
      "cell_type": "markdown",
      "source": [
        "---"
      ],
      "metadata": {
        "id": "wjx_vJ3UWbZm"
      }
    },
    {
      "cell_type": "markdown",
      "source": [
        "#### **7. Сравнение методов**"
      ],
      "metadata": {
        "id": "RAhzISBeWbZm"
      }
    },
    {
      "cell_type": "code",
      "source": [
        "results = {}"
      ],
      "metadata": {
        "id": "hCrtlKMyGFhA"
      },
      "execution_count": 49,
      "outputs": []
    },
    {
      "cell_type": "code",
      "source": [
        "# По своему усмотрению Вы можете добавлять собственные оптимизаторы\n",
        "methods = {\n",
        "    \"Adam\": torch.optim.Adam,\n",
        "    \"L-BFGS\": torch.optim.LBFGS,\n",
        "    \"SGD\": torch.optim.SGD,\n",
        "    \"RMSProp\": torch.optim.RMSprop,\n",
        "    \"Adagrad\": torch.optim.Adagrad, # адаптивный градиентный метод\n",
        "    \"Adadelta\": torch.optim.Adadelta # улучшение Adagrad, которое не накапливает историю\n",
        "}"
      ],
      "metadata": {
        "id": "AF_CVjE8GGPw"
      },
      "execution_count": 50,
      "outputs": []
    },
    {
      "cell_type": "code",
      "source": [
        "def get_nn_score(opt):\n",
        "        model = MLP().to(device)\n",
        "        criterion = nn.CrossEntropyLoss()\n",
        "        optimizer = opt(model.parameters())\n",
        "        trained_model, metrics = train_model(optimizer, model, criterion)\n",
        "        accuracy = evaluate_model(trained_model, test_loader)\n",
        "        return {\"accuracy\": accuracy, **metrics}"
      ],
      "metadata": {
        "id": "Ef0gA9fjIECT"
      },
      "execution_count": 51,
      "outputs": []
    },
    {
      "cell_type": "code",
      "source": [
        "# Тренируем и оцениваем все варианты нейронных сетей с разными оптимизаторами (может быть долго, больше часа):\n",
        "# for name, opt in methods.items():\n",
        "    # results[name] = get_nn_score(opt)\n",
        "\n",
        "# Или запускаем модели по одной (безопаснее, если захотим перезапустить или что-то сломается в процессе, чтобы не потерять прогресс)\n",
        "results[\"Adam\"] = get_nn_score(methods[\"Adam\"])"
      ],
      "metadata": {
        "trusted": true,
        "execution": {
          "iopub.status.busy": "2025-03-17T17:47:46.037136Z",
          "iopub.execute_input": "2025-03-17T17:47:46.03754Z",
          "iopub.status.idle": "2025-03-17T17:47:46.212008Z",
          "shell.execute_reply.started": "2025-03-17T17:47:46.037506Z",
          "shell.execute_reply": "2025-03-17T17:47:46.210474Z"
        },
        "id": "CpxaGQYeWbZm"
      },
      "outputs": [],
      "execution_count": 53
    },
    {
      "cell_type": "code",
      "source": [
        "results[\"L-BFGS\"] = get_nn_score(methods[\"L-BFGS\"])"
      ],
      "metadata": {
        "id": "WaZIbguUJQ1-"
      },
      "execution_count": 58,
      "outputs": []
    },
    {
      "cell_type": "code",
      "source": [
        "results[\"SGD\"] = get_nn_score(methods[\"SGD\"])"
      ],
      "metadata": {
        "id": "F-h6mAAkJO0v"
      },
      "execution_count": 54,
      "outputs": []
    },
    {
      "cell_type": "code",
      "source": [
        "results[\"RMSProp\"] = get_nn_score(methods[\"RMSProp\"])"
      ],
      "metadata": {
        "id": "Brf-3JMFIqZa"
      },
      "execution_count": 55,
      "outputs": []
    },
    {
      "cell_type": "code",
      "source": [
        "results[\"Adagrad\"] = get_nn_score(methods[\"Adagrad\"])"
      ],
      "metadata": {
        "id": "1_DRBvvhAU4o"
      },
      "execution_count": 56,
      "outputs": []
    },
    {
      "cell_type": "code",
      "source": [
        "results[\"Adadelta\"] = get_nn_score(methods[\"Adadelta\"])"
      ],
      "metadata": {
        "id": "sat8BVVwAUl7"
      },
      "execution_count": 57,
      "outputs": []
    },
    {
      "cell_type": "markdown",
      "source": [
        "Пока обучаются нейронные сети, можете переходить в раздел 9 к секции А, она не требует результатов запуска нейронных сетей."
      ],
      "metadata": {
        "id": "D0G2b3tHNSQx"
      }
    },
    {
      "cell_type": "markdown",
      "source": [
        "---"
      ],
      "metadata": {
        "id": "Zh_J-PSeWbZm"
      }
    },
    {
      "cell_type": "markdown",
      "source": [
        "#### **8. Визуализация результатов**\n",
        "- **График точности**:"
      ],
      "metadata": {
        "id": "9i8pA59-WbZn"
      }
    },
    {
      "cell_type": "code",
      "source": [
        "  import matplotlib.pyplot as plt\n",
        "\n",
        "  plt.bar(results.keys(), [v[\"accuracy\"] for v in results.values()])\n",
        "  plt.title(\"Accuracy Comparison\")"
      ],
      "metadata": {
        "trusted": true,
        "execution": {
          "iopub.status.busy": "2025-03-17T17:44:07.769564Z",
          "iopub.status.idle": "2025-03-17T17:44:07.769918Z",
          "shell.execute_reply": "2025-03-17T17:44:07.769795Z"
        },
        "id": "7J4FpgGFWbZn",
        "colab": {
          "base_uri": "https://localhost:8080/",
          "height": 469
        },
        "outputId": "9b8c7141-b27a-4536-e356-52a9e6dc5d70"
      },
      "outputs": [
        {
          "output_type": "execute_result",
          "data": {
            "text/plain": [
              "Text(0.5, 1.0, 'Accuracy Comparison')"
            ]
          },
          "metadata": {},
          "execution_count": 59
        },
        {
          "output_type": "display_data",
          "data": {
            "text/plain": [
              "<Figure size 640x480 with 1 Axes>"
            ],
            "image/png": "[encoded data removed]"
          },
          "metadata": {}
        }
      ],
      "execution_count": 59
    },
    {
      "cell_type": "markdown",
      "source": [
        "- **Графики времени обучения**:"
      ],
      "metadata": {
        "id": "ANXKgB_XWbZn"
      }
    },
    {
      "cell_type": "code",
      "source": [
        "  plt.bar(results.keys(), [v[\"time\"] for v in results.values()])\n",
        "  plt.title(\"Training time Comparison\")"
      ],
      "metadata": {
        "trusted": true,
        "id": "a7U_0BMfWbZn",
        "colab": {
          "base_uri": "https://localhost:8080/",
          "height": 469
        },
        "outputId": "06bf11da-f44f-42c3-ae67-ea6e4f437480"
      },
      "outputs": [
        {
          "output_type": "execute_result",
          "data": {
            "text/plain": [
              "Text(0.5, 1.0, 'Training time Comparison')"
            ]
          },
          "metadata": {},
          "execution_count": 60
        },
        {
          "output_type": "display_data",
          "data": {
            "text/plain": [
              "<Figure size 640x480 with 1 Axes>"
            ],
            "image/png": "[encoded data removed]"
          },
          "metadata": {}
        }
      ],
      "execution_count": 60
    },
    {
      "cell_type": "markdown",
      "source": [
        "- **Графики пямяти**:"
      ],
      "metadata": {
        "id": "sp5jrPClzO0x"
      }
    },
    {
      "cell_type": "code",
      "source": [
        "  plt.bar(results.keys(), [v[\"memory\"] for v in results.values()])\n",
        "  plt.title(\"Training RAM usage Comparison\")"
      ],
      "metadata": {
        "colab": {
          "base_uri": "https://localhost:8080/",
          "height": 469
        },
        "id": "yPtdwlFfzdAr",
        "outputId": "7a45d695-d4e2-46c9-bb1a-c55f303d83d7"
      },
      "execution_count": 61,
      "outputs": [
        {
          "output_type": "execute_result",
          "data": {
            "text/plain": [
              "Text(0.5, 1.0, 'Training RAM usage Comparison')"
            ]
          },
          "metadata": {},
          "execution_count": 61
        },
        {
          "output_type": "display_data",
          "data": {
            "text/plain": [
              "<Figure size 640x480 with 1 Axes>"
            ],
            "image/png": "[encoded data removed]"
          },
          "metadata": {}
        }
      ]
    },
    {
      "cell_type": "markdown",
      "source": [
        "- **График потребления CPU**"
      ],
      "metadata": {
        "id": "vXVSBQ-fzkw-"
      }
    },
    {
      "cell_type": "code",
      "source": [
        "  plt.bar(results.keys(), [v[\"cpu\"] for v in results.values()])\n",
        "  plt.title(\"Training CPU usage Comparison\")"
      ],
      "metadata": {
        "colab": {
          "base_uri": "https://localhost:8080/",
          "height": 469
        },
        "id": "INfsPFArzvLO",
        "outputId": "ea582306-ff9f-46d0-b4bb-8b36f33fb575"
      },
      "execution_count": 62,
      "outputs": [
        {
          "output_type": "execute_result",
          "data": {
            "text/plain": [
              "Text(0.5, 1.0, 'Training CPU usage Comparison')"
            ]
          },
          "metadata": {},
          "execution_count": 62
        },
        {
          "output_type": "display_data",
          "data": {
            "text/plain": [
              "<Figure size 640x480 with 1 Axes>"
            ],
            "image/png": "[encoded data removed]"
          },
          "metadata": {}
        }
      ]
    },
    {
      "cell_type": "markdown",
      "source": [
        "---"
      ],
      "metadata": {
        "id": "YigkYqzsWbZn"
      }
    },
    {
      "cell_type": "markdown",
      "source": [
        "#### **9. Анализ полученных результатов:**\n",
        "\n",
        "### **А. Математические основы методов**\n",
        "1. **Связь с изученными методами**  \n",
        "   - Какой из оптимизаторов (напр., L-BFGS, Adam) ближе всего к методу Ньютона? В чём их сходство и различия?  \n",
        "   - Почему в Adam используется адаптивный шаг, и как это связано с идеями метода градиентного спуска?  \n",
        "   - Для методов второго порядка (например, L-BFGS):  \n",
        "     - Как вычисляется приближение гессиана, и почему это важно для сходимости?  \n",
        "     - Почему полный метод Ньютона редко применяется в глубоком обучении?  \n",
        "\n",
        "- Наиболее близким среди всего используемого должен быть L-BFGS, т.к. используетя приближение к Гессиану, как и в методе Ньютона. L-BFGS при этом работает с аппроксимацией Гессиана. Это позволяет значительно снизить вычислительные затраты по сравнению с методом Ньютона. + L-BFGS использует ограниченную память, что лучше для задач с кучей параметров.\n",
        "- Adam использует адаптивный шаг, который регулируется для каждого параметра независимо, что является расширением идеи метода градиентного спуска. Адаптивный шаг помгает побороть слишком большие или маленькие шаги на разных частях пространства, которые ухудшают метод градиентного спуска. Ну и с масштабируемостью, колебаниями и так далее очень помогает адаптивность.\n",
        "- В L-BFGS приближение гессиана вычисляется с учетом изменений градиента между итерациями. Метод использует информацию о предыдущих шагах и градиентах, чтобы аппроксимировать гессиан, не вычисляя его. Как итог - снижаем вычислительную нагрузку, потому что для большого числа параметров считать гессиан ресурсозатратно. Это важно для сходимости, так как мы можем адаптировать шаги обновления параметров более точно.\n",
        "- Долго, дорого, ресурсоемко! Вычисление и инвертирование гессиана занимают ооочень много вычислительной сложности.\n",
        "\n",
        "\n",
        "2. **Алгоритмические особенности**  \n",
        "   - Чем отличается стохастический градиентный спуск (SGD) от полного градиентного спуска? Как это влияет на сходимость?  \n",
        "   - Как метод L-BFGS балансирует между использованием информации о кривизне функции и вычислительной сложностью?  \n",
        "\n",
        "- Полный градиентный спуск использует всю обучающую выборку для вычисления градиента и обновления параметров модели. Стохастический градиентный спуск, в отличие от полного, обновляет параметры на каждой итерации, используя градиент, рассчитанный только на одном мини-баче. Сходимость полного градиентного спуска более стабильно, но ресурсов надо больше. Сходимость стохастического градиентного спуска менее стабильно, но работает быстрее (особенно для больших моделей данных)\n",
        "- Аппроксимацией Гессиана (не считаем - вот и оптимизация). Но при этом метод сохраняет несколько последних обновлений градиента и шагов оптимизации. Т.е. совсем далеко мы не отрываемся.\n"
      ],
      "metadata": {
        "id": "Sm9cDVb_LEwk"
      }
    },
    {
      "cell_type": "markdown",
      "source": [
        "### **Б. Анализ скорости сходимости**\n",
        "3. **Графики потерь и точности**  \n",
        "   - Почему Adam часто сходится быстрее, чем SGD, несмотря на стохастичность?  \n",
        "   - Если L-BFGS показал медленную сходимость на первых итерациях, но затем резко улучшил результат, чем это может быть объяснено?\n",
        "\n",
        "- В отличие от SGD, который использует один и тот же шаг для всех параметров, Adam может использовать адаптивный шаг в зависимости от дисперсии, например, что улучшает стабильность и скорость сходимости. Это и перевешивает стохастчность.\n",
        "- Информация о кривизне накапливается -> точность растет -> сходимость ускоряется. (когда я это писала, нейронка с этим оптимизатором еще не доучилась, прошло 30 минут)\n",
        "\n",
        "4. **Роль гиперпараметров**  \n",
        "   - Как выбор learning rate влияет на методы:  \n",
        "     - С адаптивным шагом (Adam, RMSProp)?  \n",
        "     - Без адаптивного шага (SGD, L-BFGS)?  \n",
        "   - Почему для L-BFGS часто требуется меньше эпох, но больше времени на одну эпоху?\n",
        "\n",
        "- Для адаптивного шага: learning rate влияет на скорость сходимости (но, по идее, меньше, чем для товарищей без адаптивного шага). Если при этом слишком завысить learning rate - получим нестабильность, поэтому не жадничаем. А если слишком занизим - сходится будет очень медленно, поэтому тоже не жадничаем.\n",
        "- Без адаптивного шага: learning rate будет одним из важнейших параметров, определяющим размер шага для SGD. Для L-BFGS при этом learning rate играет менее важную роль в силу аппроксимации. При завышенном или слишком заниженном learning rate будет в целом то же, что и с методами с адаптивным шагом (особенно на ранних эпохах).\n",
        "- Вычисление приближения Гессиана делает процесс обучения крайне затратным, поэтому и каждая эпоха будет длиннее. А вот информация о кривизне функции позволяет делать более точные шаги, как следствие, количество эпох уменьшается.\n",
        "По опыту обучения модели выше - сокращение количества эпох не очень помогло, времени на одну эпоху уходит слишком много (несравнимо больше, чем на другие методы)."
      ],
      "metadata": {
        "id": "RTi0ITFcM8PL"
      }
    },
    {
      "cell_type": "markdown",
      "source": [
        "### **5. Связь с теорией нелинейных систем**\n",
        "9. **Интерпретация методов**  \n",
        "   - Как метод Ньютона для систем нелинейных уравнений связан с оптимизацией в глубоком обучении?  \n",
        "   - Почему в SGD используется приближённый градиент, и как это влияет на устойчивость метода?\n",
        "\n",
        "- В некоторых случаях можно использовать аналогичные методу Ньютона идеи для ускорения сходимости в оптимизации нейронных сетей. Например, L-BFGS - суть приближенный метод Ньютона. Но в глубоком обучении при этом сам метод Ньтона используется редко, что уже обсуждалось чуть вые в ноутбуке.\n",
        "- Что бы сделать метод более быстрым при вычислении (ценой шума в градиенте, который появляется в силу того, что берутся мини-бачи). Но из-за этого шаги при вычислении могут быть неровномерными, что может дать нестабильность сходимости. При этом SGD все еще может эффективно двигаться в сторону минимума, что делает его более устойчивым при обучении на больших данных и сложных функциях потерь.\n",
        "\n",
        "10. **Проблемы реализации**  \n",
        "    - Какие численные проблемы возникают при вычислении гессиана в методах второго порядка (например, L-BFGS)?  \n",
        "    - Как методы вроде Adam избегают проблем \"застревания\" в локальных минимумах?  \n",
        "- Большая вычислительная сложность, хранение гессианов (если они большие или их достаточно много), ограниченная точность представления данных (и как следствие - ошибки в приближении Гессиана).\n",
        "- Адаптивный шаг (не опять, а снова). Когда функция потерь становится плоской или достигает локального минимума (где градиент маленький), метод увеличивает шаг для таких параметров, что позволяет выходить из этих точек."
      ],
      "metadata": {
        "id": "t_83ZYv4N0ht"
      }
    },
    {
      "cell_type": "markdown",
      "source": [
        "#### **10. Что ещё можно попробовать для этого набора данных?**\n",
        "- Метод [forward gradient descent](https://github.com/orobix/fwdgrad).\n",
        "- Оптимизаторы из других библиотек, например, [SciPy](https://docs.scipy.org/doc/scipy/reference/generated/scipy.optimize.minimize.html), [TensorFlow / Keras](https://www.tensorflow.org/api_docs/python/tf/keras/optimizers)."
      ],
      "metadata": {
        "id": "XfF6g6G5WbZn"
      }
    }
  ]
}