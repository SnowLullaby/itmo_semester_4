{
  "cells": [
    {
      "cell_type": "markdown",
      "id": "1e9cded8",
      "metadata": {
        "id": "1e9cded8"
      },
      "source": [
        "# Практическое занятие 14: Умножение матриц и оптимизация математического кода"
      ]
    },
    {
      "cell_type": "markdown",
      "id": "8f494ae0",
      "metadata": {
        "id": "8f494ae0"
      },
      "source": [
        "**Задача: используйте все доступные средства, чтобы ускорить умножение матриц** (AI, научные и технические статьи, профилировщики, фреймворки, всё что угодно).\n",
        "\n",
        "Вы можете переписывать код на другие алгоритмы, использовать разные библиотеки, компилировать Python код, использовать фреймворк CUDA, другие интерпретаторы, переписывать на другие языки программирования (например C/C++), всё что угодно. Процесс конспектируйте в этот ноутбук (включая общение с AI). Если решили изменить язык программирования или ядро (Jupyter kernel) ноутбука, указывайте их в виде текста, пожалуйста.\n",
        "\n",
        "Промежуточные результаты отправляйте в таблицу, используя метод `send_results`.\n",
        "\n",
        "*Помните, что AI пока не очень хороши в оптимизации и ускорении кода, но вот с теорией разобраться помогут.*\n",
        "\n",
        "Разумеется, я понимаю, что начать может быть трудно, но принцип learn by practice никто не отменял: нельзя научиться играть на пианино, изучая только ноты, нельзя разобраться в математике, заучивая формулы, не применяя их на практике, нельзя научиться оптимизировать код, не пробуя сделать это руками. 🥰Вы обязательно со всем справитесь, но нужно пробовать и быть смелее!"
      ]
    },
    {
      "cell_type": "code",
      "execution_count": 3,
      "id": "5a3bf905",
      "metadata": {
        "id": "5a3bf905",
        "colab": {
          "base_uri": "https://localhost:8080/"
        },
        "outputId": "35ee12f2-c6b6-433d-ad28-02e1c1cce4a8"
      },
      "outputs": [
        {
          "output_type": "stream",
          "name": "stdout",
          "text": [
            "Requirement already satisfied: gspread in /usr/local/lib/python3.11/dist-packages (6.2.0)\n",
            "Requirement already satisfied: google-auth>=1.12.0 in /usr/local/lib/python3.11/dist-packages (from gspread) (2.38.0)\n",
            "Requirement already satisfied: google-auth-oauthlib>=0.4.1 in /usr/local/lib/python3.11/dist-packages (from gspread) (1.2.2)\n",
            "Requirement already satisfied: cachetools<6.0,>=2.0.0 in /usr/local/lib/python3.11/dist-packages (from google-auth>=1.12.0->gspread) (5.5.2)\n",
            "Requirement already satisfied: pyasn1-modules>=0.2.1 in /usr/local/lib/python3.11/dist-packages (from google-auth>=1.12.0->gspread) (0.4.2)\n",
            "Requirement already satisfied: rsa<5,>=3.1.4 in /usr/local/lib/python3.11/dist-packages (from google-auth>=1.12.0->gspread) (4.9.1)\n",
            "Requirement already satisfied: requests-oauthlib>=0.7.0 in /usr/local/lib/python3.11/dist-packages (from google-auth-oauthlib>=0.4.1->gspread) (2.0.0)\n",
            "Requirement already satisfied: pyasn1<0.7.0,>=0.6.1 in /usr/local/lib/python3.11/dist-packages (from pyasn1-modules>=0.2.1->google-auth>=1.12.0->gspread) (0.6.1)\n",
            "Requirement already satisfied: oauthlib>=3.0.0 in /usr/local/lib/python3.11/dist-packages (from requests-oauthlib>=0.7.0->google-auth-oauthlib>=0.4.1->gspread) (3.2.2)\n",
            "Requirement already satisfied: requests>=2.0.0 in /usr/local/lib/python3.11/dist-packages (from requests-oauthlib>=0.7.0->google-auth-oauthlib>=0.4.1->gspread) (2.32.3)\n",
            "Requirement already satisfied: charset-normalizer<4,>=2 in /usr/local/lib/python3.11/dist-packages (from requests>=2.0.0->requests-oauthlib>=0.7.0->google-auth-oauthlib>=0.4.1->gspread) (3.4.2)\n",
            "Requirement already satisfied: idna<4,>=2.5 in /usr/local/lib/python3.11/dist-packages (from requests>=2.0.0->requests-oauthlib>=0.7.0->google-auth-oauthlib>=0.4.1->gspread) (3.10)\n",
            "Requirement already satisfied: urllib3<3,>=1.21.1 in /usr/local/lib/python3.11/dist-packages (from requests>=2.0.0->requests-oauthlib>=0.7.0->google-auth-oauthlib>=0.4.1->gspread) (2.4.0)\n",
            "Requirement already satisfied: certifi>=2017.4.17 in /usr/local/lib/python3.11/dist-packages (from requests>=2.0.0->requests-oauthlib>=0.7.0->google-auth-oauthlib>=0.4.1->gspread) (2025.4.26)\n"
          ]
        }
      ],
      "source": [
        "!pip install gspread"
      ]
    },
    {
      "cell_type": "code",
      "execution_count": 5,
      "id": "bd0cf559",
      "metadata": {
        "id": "bd0cf559"
      },
      "outputs": [],
      "source": [
        "import datetime\n",
        "import gspread\n",
        "from google.auth import default\n",
        "from google.colab import auth\n",
        "\n",
        "auth.authenticate_user()\n",
        "creds, _ = default()\n",
        "\n",
        "gc = gspread.authorize(creds)\n",
        "\n",
        "# Пожалуйста, укажите свой реальный номер ИСУ.\n",
        "# Вне зависимости от полученных Вами значений, важен прогресс, на баллах за практику значения алгоритма не скажутся, но отсутствие прогресса - скажется.\n",
        "# Не бойтесь чаще делиться прогрессом, давайте посмотрим, чего мы можем добиться все вместе!\n",
        "my_isu_id = \"336423\"\n",
        "\n",
        "spreadsheet = gc.open_by_key('1D60V_sOW3SvMiquZXmM2zFAqQq_ViAbRdmu_nNNNqKg')\n",
        "# Если Вы решили пойти дальше и решение у Вас локально и на другом ЯП, напишите мне, я пришлю Вам полную ссылку для записи результатов\n",
        "worksheet = spreadsheet.get_worksheet(0)\n",
        "\n",
        "\n",
        "def send_results(computation_time, comment):\n",
        "    if my_isu_id == \"CHANGE_ME\": # Да, вот такая примитивная проверка, которую Вы разумеется можете обойти, но зачем? Так ведь не интересно!\n",
        "        print(\"Please set your ISU ID in the script.\")\n",
        "    else:\n",
        "        # А данные я вовсе не проверяю, всё Вам на доверии.\n",
        "        # В качестве тестовой матрицы давайте договоримся использовать n=1000\n",
        "        # С данными о времени исполнения отправьте , пожалуйста, комментарий, что Вы делали, чтобы получить его, это может быть полезно и Вам в качестве лога.\n",
        "        submission_data = [my_isu_id, computation_time, comment, datetime.datetime.now(datetime.timezone.utc).isoformat()]\n",
        "        worksheet.append_row(submission_data)\n"
      ]
    },
    {
      "cell_type": "markdown",
      "source": [
        "Пример использования функции отправки результатов:"
      ],
      "metadata": {
        "id": "0OPdgy5S9ejG"
      },
      "id": "0OPdgy5S9ejG"
    },
    {
      "cell_type": "code",
      "source": [
        "import time\n",
        "\n",
        "a = time.time()\n",
        "time.sleep(100)\n",
        "b = time.time()\n",
        "\n",
        "computation_time = b - a\n",
        "send_results(computation_time, \"test\")"
      ],
      "metadata": {
        "id": "3uvWVTqz7Ouk"
      },
      "id": "3uvWVTqz7Ouk",
      "execution_count": 3,
      "outputs": []
    },
    {
      "cell_type": "markdown",
      "source": [
        "### Статьи:\n",
        "- [Matrix Multiplication: 2020 Update](https://martin-thoma.com/matrix-multiplication-2020/)\n",
        "- [Discovering faster matrix multiplication algorithms with reinforcement learning](https://www.nature.com/articles/s41586-022-05172-4#data-availability)\n",
        "- [Ускоряем анализ данных в 170 000 раз с помощью Python](https://habr.com/ru/companies/ncloudtech/articles/790370/)\n",
        "- [Книга: High Performance Python](https://disk.yandex.ru/i/GNbAQkPgbK07VQ)\n",
        "- [Книга: Introduction to High Performance Computing for Scientists](https://disk.yandex.ru/i/H6pFi9ydA2pbbg)\n",
        "- [Книга: Scientific Computing with Python High-performance scientific computing with NumPy, SciPy, and pandas](https://disk.yandex.ru/i/xaBdcbN5yx9gaA)\n",
        "- [Книга: Matrix computations](https://disk.yandex.ru/i/RfL8Ca9Q0341vA)\n",
        "- [Статья 2021: Selecting Algorithms for Black Box Matrices: Checking for\n",
        "Matrix Properties That Can Simplify Computations](https://disk.yandex.ru/i/oTMSLOJd1xZBXQ)\n",
        "- [Cтатья 2024 от Alman и Williams: A refined Laser Method and Faster Matrix Muliplication](https://disk.yandex.ru/i/bNxAS2M3-OoM_Q)\n",
        "- [Статья: Anatomy of High-Performance Matrix Multiplication](https://disk.yandex.ru/i/bBnyORYiXFwsFw)\n",
        "- [Статья 1997: Implementation of Strassen's Algorithm for Matrix Multiplication](https://disk.yandex.ru/i/nvlvKJciVuOwmw)\n",
        "- [Numerical algorithms for high-performance computational science](https://disk.yandex.ru/i/9nhTq2ZbSjyCxw)\n",
        "- [Статья Nature 2021: Discovering faster matrix multiplication\n",
        "algorithms with reinforcement learning](https://disk.yandex.ru/i/Lu6A9BNzlV-wWg)\n",
        "- [Книга: Optimisation of a modern numerical library: a bottom-up approach](https://disk.yandex.ru/i/czZCCiV7TLf68w)\n",
        "- [Книга: A Primer on Scientific Programming with Python](https://disk.yandex.ru/i/2409GOx6pcLS_w)\n",
        "- [Слайды: High-performance Matrix Computations](https://disk.yandex.ru/i/XqOAFw-nDskoEw)\n",
        "- [Слайды: Strassen’s Algorithm for Matrix Multiplication, QuickSelect, and Median of Medians](https://disk.yandex.ru/i/cJB-2JCqr216Tg)\n",
        "- [Слайды: Communication-Avoiding Algorithms for Linear Algebra, Machine Learning and Beyond](https://disk.yandex.ru/i/xuaa9LITj6SKUw) + [видео](https://www.youtube.com/watch?v=JwCWPteaih4)"
      ],
      "metadata": {
        "id": "mpSzXCTTGwe5"
      },
      "id": "mpSzXCTTGwe5"
    },
    {
      "cell_type": "markdown",
      "id": "fb101e5f",
      "metadata": {
        "id": "fb101e5f"
      },
      "source": [
        "\n",
        "\n",
        "\n",
        "### Инструменты (профилировщики):\n",
        "*разумеется, нет необходимости использовать их все, выбирайте необходимый инструмент для Вашей задачи*\n",
        "- [line profiler](https://kernprof.readthedocs.io/en/latest/) : line-by-line profiling of functions\n",
        "- [Scalene](https://github.com/plasma-umass/scalene) : A CPU+GPU+memory sampling based profiler.\n",
        "- [PyInstrument](https://github.com/joerick/pyinstrument) : A call stack profiler\n",
        "- [Yappi](https://github.com/sumerc/yappi) : A tracing profiler that is multithreading, asyncio and gevent aware.\n",
        "- [profile / cProfile](https://docs.python.org/3/library/profile.html) : The builtin profile module.\n",
        "- [SnakeViz](https://jiffyclub.github.io/snakeviz/) : vizualise of cProfile output.\n",
        "- [timeit](https://docs.python.org/3/library/timeit.html) : The builtin timeit module for profiling single statements\n",
        "- [timerit](https://github.com/Erotemic/timerit) : A multi-statements alternative to the builtin timeit module.\n",
        "- [torch.profiler](https://docs.pytorch.org/docs/stable/profiler.html) : tools for profiling torch code\n",
        "\n",
        "### Интерпретаторы и компиляторы\n",
        "- [Python 3.11.3](https://www.python.org/downloads/release/python-3113/)\n",
        "- [PyPy](https://pypy.org/)\n",
        "- [Другие трасляторы и их бенчмарки](https://pybenchmarks.org/)\n",
        "- [Список ядер для Jupyter Notebook под разные ЯП](https://github.com/jupyter/jupyter/wiki/Jupyter-kernels)"
      ]
    },
    {
      "cell_type": "markdown",
      "source": [
        "Наивная ijk реализация алгоритма"
      ],
      "metadata": {
        "id": "9UE6JWSy-O96"
      },
      "id": "9UE6JWSy-O96"
    },
    {
      "cell_type": "code",
      "execution_count": 6,
      "id": "7faa30e2",
      "metadata": {
        "id": "7faa30e2"
      },
      "outputs": [],
      "source": [
        "import numpy as np\n",
        "import time\n",
        "\n",
        "n = 10000\n",
        "x = np.random.randn(n,n)\n",
        "\n",
        "def matrix_mult(A, B):\n",
        "    \"\"\"Multiplies two matrices A and B.\"\"\"\n",
        "    if len(A[0]) != len(B):\n",
        "        raise ValueError(\"Number of columns in A must be equal to number of rows in B\")\n",
        "\n",
        "    result = []\n",
        "    for i in range(len(A)):\n",
        "        row = []\n",
        "        for j in range(len(B[0])):\n",
        "            sum = 0\n",
        "            for k in range(len(B)):\n",
        "                sum += A[i][k] * B[k][j]\n",
        "            row.append(sum)\n",
        "        result.append(row)\n",
        "    return result"
      ]
    },
    {
      "cell_type": "markdown",
      "source": [
        "Установите необходимые библиотеки, профилировщики и прочее."
      ],
      "metadata": {
        "id": "jXceWK8_0LYj"
      },
      "id": "jXceWK8_0LYj"
    },
    {
      "cell_type": "code",
      "source": [
        "! pip install numba line_profiler"
      ],
      "metadata": {
        "id": "whIBYUkL0GkP",
        "colab": {
          "base_uri": "https://localhost:8080/"
        },
        "outputId": "f11d247f-8e0a-4642-8836-0e26eb4a9e5c"
      },
      "id": "whIBYUkL0GkP",
      "execution_count": 5,
      "outputs": [
        {
          "output_type": "stream",
          "name": "stdout",
          "text": [
            "Requirement already satisfied: numba in /usr/local/lib/python3.11/dist-packages (0.60.0)\n",
            "Collecting line_profiler\n",
            "  Downloading line_profiler-4.2.0-cp311-cp311-manylinux_2_17_x86_64.manylinux2014_x86_64.whl.metadata (34 kB)\n",
            "Requirement already satisfied: llvmlite<0.44,>=0.43.0dev0 in /usr/local/lib/python3.11/dist-packages (from numba) (0.43.0)\n",
            "Requirement already satisfied: numpy<2.1,>=1.22 in /usr/local/lib/python3.11/dist-packages (from numba) (2.0.2)\n",
            "Downloading line_profiler-4.2.0-cp311-cp311-manylinux_2_17_x86_64.manylinux2014_x86_64.whl (750 kB)\n",
            "\u001b[2K   \u001b[90m━━━━━━━━━━━━━━━━━━━━━━━━━━━━━━━━━━━━━━━━\u001b[0m \u001b[32m750.2/750.2 kB\u001b[0m \u001b[31m10.7 MB/s\u001b[0m eta \u001b[36m0:00:00\u001b[0m\n",
            "\u001b[?25hInstalling collected packages: line_profiler\n",
            "Successfully installed line_profiler-4.2.0\n"
          ]
        }
      ]
    },
    {
      "cell_type": "markdown",
      "source": [
        "# Ваш ноутбук - это Ваше пространство!\n",
        "Смело экспериментируйте со способами оптимизации кода перемножения матриц! Список ниже - это просто идеи, но Вы не обязаны ему следовать и можете идти по собственному пути. Вставляйте любые нужные на Ваш взгляд ячейки, журналы принятых решений и общения с AI, дубликации кода для его версионирования - выразите себя в достижении цели!\n",
        "\n",
        "Не забывайте пользоваться профилировщиками кода, они помогут выявить проблемные места.🕵️\n",
        "\n",
        "Следующие методы используются в реальных системах и дают хороший простор для практики в оптимизации кода:\n",
        "\n",
        "### 1. 🔁 **Blocked (Tiled) Matrix Multiplication**\n",
        "\n",
        "#### 📌 What:\n",
        "\n",
        "* Divide matrices into **cache-sized blocks**.\n",
        "* Multiply blocks instead of individual elements to improve **cache locality**.\n",
        "\n",
        "#### 💡 Optimization Focus:\n",
        "\n",
        "* Loop tiling\n",
        "* Memory alignment\n",
        "* Cache usage (L1/L2)\n",
        "* Multi-threading (OpenMP, TBB)\n",
        "\n",
        "#### 🧪 Try This:"
      ],
      "metadata": {
        "id": "1ETYYWf107Jw"
      },
      "id": "1ETYYWf107Jw"
    },
    {
      "cell_type": "code",
      "source": [
        "# Use block sizes like 32, 64, or 128 depending on CPU cache\n",
        "# Numba or Cython can help speed up nested loops\n",
        "\n",
        "import numpy as np\n",
        "import time\n",
        "from numba import njit\n",
        "\n",
        "n = 1000\n",
        "BLOCK_SIZE = 64\n",
        "\n",
        "@njit(fastmath=True, cache=True)\n",
        "def blocked_matrix_mult(A, B):\n",
        "    n = A.shape[0]\n",
        "    C = np.zeros((n, n), dtype=A.dtype)\n",
        "\n",
        "    for ii in range(0, n, BLOCK_SIZE):\n",
        "        for jj in range(0, n, BLOCK_SIZE):\n",
        "            for kk in range(0, n, BLOCK_SIZE):\n",
        "                i_end = min(ii + BLOCK_SIZE, n)\n",
        "                j_end = min(jj + BLOCK_SIZE, n)\n",
        "                k_end = min(kk + BLOCK_SIZE, n)\n",
        "\n",
        "                for i in range(ii, i_end):\n",
        "                    for j in range(jj, j_end):\n",
        "                        for k in range(kk, k_end):\n",
        "                            C[i, j] += A[i, k] * B[k, j]\n",
        "\n",
        "    return C\n",
        "\n",
        "# Генерация данных\n",
        "A = np.random.randn(n, n).astype(np.float32)\n",
        "B = np.random.randn(n, n).astype(np.float32)\n",
        "\n",
        "small_A = np.random.randn(2, 2).astype(np.float32)\n",
        "small_B = np.random.randn(2, 2).astype(np.float32)\n",
        "blocked_matrix_mult(small_A, small_B)\n",
        "\n",
        "start = time.time()\n",
        "result = blocked_matrix_mult(A, B)\n",
        "computation_time = time.time() - start\n",
        "\n",
        "# Проверка результата\n",
        "np_result = A @ B\n",
        "if np.allclose(result, np_result, rtol=1e-5, atol=1e-8):\n",
        "    print(\"Результат корректен\")\n",
        "else:\n",
        "    print(\"Ошибка в вычислениях\")\n",
        "    diff = np.abs(result - np_result)\n",
        "    print(f\"Максимальная разница: {np.max(diff)}\")\n",
        "    print(f\"Средняя разница: {np.mean(diff)}\")\n",
        "\n",
        "# Вывод результатов\n",
        "comment = f\"Numba-optimized | Block={BLOCK_SIZE} | float32\"\n",
        "print(f\"Время выполнения: {computation_time:.2f} сек\")\n",
        "print(comment)\n",
        "\n",
        "send_results(computation_time, comment)"
      ],
      "metadata": {
        "id": "o8sL8Nxe4JS8",
        "colab": {
          "base_uri": "https://localhost:8080/"
        },
        "outputId": "cb1b6891-7e7e-4899-d0cd-400e0c9798b9"
      },
      "id": "o8sL8Nxe4JS8",
      "execution_count": 26,
      "outputs": [
        {
          "output_type": "stream",
          "name": "stdout",
          "text": [
            "Ошибка в вычислениях\n",
            "Максимальная разница: 0.00020599365234375\n",
            "Средняя разница: 1.277844603464473e-05\n",
            "Время выполнения: 1.92 сек\n",
            "Numba-optimized | Block=64 | float32\n"
          ]
        }
      ]
    },
    {
      "cell_type": "markdown",
      "source": [
        "Пыталась добавить многопоточность, но ловлю ошибку и не понимаю, что делаю не так. Сделала без нее, кажется рабоатет.\n",
        "\n",
        "И как-то ошибка при вычислениях это не круто (хотя она и маленькая)"
      ],
      "metadata": {
        "id": "7NMPEZlvgo-J"
      },
      "id": "7NMPEZlvgo-J"
    },
    {
      "cell_type": "markdown",
      "source": [
        "---"
      ],
      "metadata": {
        "id": "-1nIG_LH4MDH"
      },
      "id": "-1nIG_LH4MDH"
    },
    {
      "cell_type": "markdown",
      "source": [
        "### 2. 🧮 **Strassen’s Algorithm**\n",
        "\n",
        "#### 📌 What:\n",
        "\n",
        "* Reduces mults from $n^3$ to $n^{2.81}$\n",
        "* Uses **recursion** + **addition/multiplication combination**\n",
        "\n",
        "#### 💡 Optimization Focus:\n",
        "\n",
        "* Recursive cutoff tuning (switch to naive at small size)\n",
        "* Memory reuse\n",
        "* Parallel recursion\n",
        "\n",
        "#### 🧪 Try This:\n"
      ],
      "metadata": {
        "id": "0mS2KaUB351L"
      },
      "id": "0mS2KaUB351L"
    },
    {
      "cell_type": "code",
      "source": [
        "# Implement with NumPy or PyTorch, but also try with Numba\n",
        "# Explore combining with blocked matmul\n",
        "\n",
        "import numpy as np\n",
        "import time\n",
        "from numba import njit\n",
        "\n",
        "n = 1024\n",
        "CUTOFF = 64\n",
        "\n",
        "@njit(fastmath=True, cache=True)\n",
        "def naive_mult(A, B):\n",
        "    n = A.shape[0]\n",
        "    C = np.zeros((n, n), dtype=A.dtype)\n",
        "    for i in range(n):\n",
        "        for j in range(n):\n",
        "            for k in range(n):\n",
        "                C[i, j] += A[i, k] * B[k, j]\n",
        "    return C\n",
        "\n",
        "@njit(fastmath=True, cache=True)\n",
        "def strassen(A, B):\n",
        "    n = A.shape[0]\n",
        "    if n <= CUTOFF:\n",
        "        return naive_mult(A, B)\n",
        "\n",
        "    mid = n // 2\n",
        "    # Явное копирование подматриц для Numba\n",
        "    A11 = A[:mid, :mid].copy()\n",
        "    A12 = A[:mid, mid:].copy()\n",
        "    A21 = A[mid:, :mid].copy()\n",
        "    A22 = A[mid:, mid:].copy()\n",
        "    B11 = B[:mid, :mid].copy()\n",
        "    B12 = B[:mid, mid:].copy()\n",
        "    B21 = B[mid:, :mid].copy()\n",
        "    B22 = B[mid:, mid:].copy()\n",
        "\n",
        "    # M1–M7 с явными временными массивами\n",
        "    temp1 = A11 + A22\n",
        "    temp2 = B11 + B22\n",
        "    M1 = strassen(temp1, temp2)\n",
        "\n",
        "    temp1 = A21 + A22\n",
        "    M2 = strassen(temp1, B11)\n",
        "\n",
        "    temp2 = B12 - B22\n",
        "    M3 = strassen(A11, temp2)\n",
        "\n",
        "    temp2 = B21 - B11\n",
        "    M4 = strassen(A22, temp2)\n",
        "\n",
        "    temp1 = A11 + A12\n",
        "    M5 = strassen(temp1, B22)\n",
        "\n",
        "    temp1 = A21 - A11\n",
        "    temp2 = B11 + B12\n",
        "    M6 = strassen(temp1, temp2)\n",
        "\n",
        "    temp1 = A12 - A22\n",
        "    temp2 = B21 + B22\n",
        "    M7 = strassen(temp1, temp2)\n",
        "\n",
        "    # Вычисление C\n",
        "    C = np.zeros((n, n), dtype=A.dtype)\n",
        "    C[:mid, :mid] = M1 + M4 - M5 + M7\n",
        "    C[:mid, mid:] = M3 + M5\n",
        "    C[mid:, :mid] = M2 + M4\n",
        "    C[mid:, mid:] = M1 - M2 + M3 + M6\n",
        "\n",
        "    return C\n",
        "\n",
        "# Генерация данных\n",
        "A = np.random.randn(n, n).astype(np.float64)\n",
        "B = np.random.randn(n, n).astype(np.float64)\n",
        "\n",
        "small_A = np.random.randn(2, 2).astype(np.float64)\n",
        "small_B = np.random.randn(2, 2).astype(np.float64)\n",
        "strassen(small_A, small_B)\n",
        "\n",
        "start = time.time()\n",
        "result = strassen(A, B)\n",
        "computation_time = time.time() - start\n",
        "\n",
        "# Проверка результата\n",
        "np_result = A @ B\n",
        "if np.allclose(result, np_result, rtol=1e-5, atol=1e-8):\n",
        "    print(\"Результат корректен\")\n",
        "else:\n",
        "    print(\"Ошибка в вычислениях\")\n",
        "    diff = np.abs(result - np_result)\n",
        "    print(f\"Максимальная разница: {np.max(diff)}\")\n",
        "    print(f\"Средняя разница: {np.mean(diff)}\")\n",
        "\n",
        "# Вывод результатов\n",
        "comment = f\"Strassen | n={n} | float64 | Cutoff={CUTOFF}\"\n",
        "print(f\"Время выполнения: {computation_time:.2f} сек\")\n",
        "print(comment)\n",
        "\n",
        "send_results(computation_time, comment)"
      ],
      "metadata": {
        "id": "gi4ykexO3_5j",
        "colab": {
          "base_uri": "https://localhost:8080/"
        },
        "outputId": "3910add7-a506-4d48-815a-6309208f1936"
      },
      "id": "gi4ykexO3_5j",
      "execution_count": 27,
      "outputs": [
        {
          "output_type": "stream",
          "name": "stdout",
          "text": [
            "Результат корректен\n",
            "Время выполнения: 0.74 сек\n",
            "Strassen | n=1024 | float64 | Cutoff=64\n"
          ]
        }
      ]
    },
    {
      "cell_type": "markdown",
      "source": [
        "Работать стало быстрее. Даже результат попал."
      ],
      "metadata": {
        "id": "m39F1ni0h7IC"
      },
      "id": "m39F1ni0h7IC"
    },
    {
      "cell_type": "markdown",
      "source": [
        "---"
      ],
      "metadata": {
        "id": "7rLrYfaL4OAV"
      },
      "id": "7rLrYfaL4OAV"
    },
    {
      "cell_type": "markdown",
      "source": [
        "### 3. 🧱 **SIMD-Optimized Matrix Multiply**\n",
        "\n",
        "#### 📌 What:\n",
        "\n",
        "* Leverage **SIMD intrinsics** (SSE, AVX, Neon) to multiply rows/columns in parallel.\n",
        "\n",
        "#### 💡 Optimization Focus:\n",
        "\n",
        "* Vectorization\n",
        "* Loop unrolling\n",
        "* Instruction scheduling\n",
        "\n",
        "#### 🧪 Try This:"
      ],
      "metadata": {
        "id": "cga-Nh483yK7"
      },
      "id": "cga-Nh483yK7"
    },
    {
      "cell_type": "code",
      "source": [
        "import numpy as np\n",
        "import time\n",
        "from numba import njit, prange\n",
        "\n",
        "n = 1000\n",
        "UNROLL_FACTOR = 4  # Фактор размотки цикла\n",
        "\n",
        "@njit(fastmath=True, cache=True, parallel=True)\n",
        "def simd_matrix_mult(A, B):\n",
        "    n = A.shape[0]\n",
        "    C = np.zeros((n, n), dtype=A.dtype)\n",
        "\n",
        "    for i in prange(n):\n",
        "        for j in range(n):\n",
        "            # Внутренний цикл с ручной размоткой\n",
        "            sum0 = 0.0\n",
        "            sum1 = 0.0\n",
        "            sum2 = 0.0\n",
        "            sum3 = 0.0\n",
        "            for k in range(0, n, UNROLL_FACTOR):\n",
        "                # Размотка на 4 итерации\n",
        "                if k + 3 < n:\n",
        "                    sum0 += A[i, k] * B[k, j]\n",
        "                    sum1 += A[i, k + 1] * B[k + 1, j]\n",
        "                    sum2 += A[i, k + 2] * B[k + 2, j]\n",
        "                    sum3 += A[i, k + 3] * B[k + 3, j]\n",
        "                else:\n",
        "                    # Остаток цикла\n",
        "                    for kk in range(k, n):\n",
        "                        sum0 += A[i, kk] * B[kk, j]\n",
        "                    break\n",
        "            C[i, j] = sum0 + sum1 + sum2 + sum3\n",
        "\n",
        "    return C\n",
        "\n",
        "# Генерация данных\n",
        "A = np.random.randn(n, n).astype(np.float32)\n",
        "B = np.random.randn(n, n).astype(np.float32)\n",
        "\n",
        "small_A = np.random.randn(2, 2).astype(np.float32)\n",
        "small_B = np.random.randn(2, 2).astype(np.float32)\n",
        "simd_matrix_mult(small_A, small_B)\n",
        "\n",
        "start = time.time()\n",
        "result = simd_matrix_mult(A, B)\n",
        "computation_time = time.time() - start\n",
        "\n",
        "# Проверка результата\n",
        "np_result = A @ B\n",
        "if np.allclose(result, np_result, rtol=1e-4, atol=1e-7):\n",
        "    print(\"Результат корректен\")\n",
        "else:\n",
        "    print(\"Ошибка в вычислениях\")\n",
        "    diff = np.abs(result - np_result)\n",
        "    print(f\"Максимальная разница: {np.max(diff)}\")\n",
        "    print(f\"Средняя разница: {np.mean(diff)}\")\n",
        "\n",
        "# Вывод результатов\n",
        "comment = f\"SIMD-optimized | n={n} | float32 | Unroll={UNROLL_FACTOR}\"\n",
        "print(f\"Время выполнения: {computation_time:.2f} сек\")\n",
        "print(comment)\n",
        "\n",
        "send_results(computation_time, comment)"
      ],
      "metadata": {
        "id": "I54onLWs3zBc",
        "colab": {
          "base_uri": "https://localhost:8080/"
        },
        "outputId": "18e047b6-eb8f-428e-9095-99bcb7687af1"
      },
      "id": "I54onLWs3zBc",
      "execution_count": 28,
      "outputs": [
        {
          "output_type": "stream",
          "name": "stdout",
          "text": [
            "Ошибка в вычислениях\n",
            "Максимальная разница: 7.62939453125e-05\n",
            "Средняя разница: 7.113193532859441e-06\n",
            "Время выполнения: 7.52 сек\n",
            "SIMD-optimized | n=1000 | float32 | Unroll=4\n"
          ]
        }
      ]
    },
    {
      "cell_type": "markdown",
      "source": [
        "Увеличилось время поиска. Не очень хорошо. Вероятно это из-за того, что я не особо использовала векторизацию. Нейронки говорят, что надо добавить Cython, но не уверена, что с ним в коллабе окей и не разобралась как его прикрутить, к сожалению.\n",
        "\n",
        "Ошибка некритичная"
      ],
      "metadata": {
        "id": "UMHYRwrFjCd9"
      },
      "id": "UMHYRwrFjCd9"
    },
    {
      "cell_type": "markdown",
      "source": [
        "---\n"
      ],
      "metadata": {
        "id": "nwxpBGRP3uG1"
      },
      "id": "nwxpBGRP3uG1"
    },
    {
      "cell_type": "markdown",
      "source": [
        "### 4. ⚡ **Multithreaded Matrix Multiply (OpenMP / TBB / Rayon)**\n",
        "\n",
        "#### 📌 What:\n",
        "\n",
        "* Distribute computation across multiple CPU cores.\n",
        "\n",
        "#### 💡 Optimization Focus:\n",
        "\n",
        "* Data partitioning\n",
        "* Load balancing\n",
        "* Avoiding false sharing / cache line contention\n",
        "\n",
        "#### 🧪 Try This:"
      ],
      "metadata": {
        "id": "ETyLg8YI3lPE"
      },
      "id": "ETyLg8YI3lPE"
    },
    {
      "cell_type": "code",
      "source": [
        "import numpy as np\n",
        "import time\n",
        "from numba import jit, prange\n",
        "\n",
        "n = 1000\n",
        "BLOCK_SIZE = 64\n",
        "\n",
        "@jit(nopython=True, parallel=True, fastmath=True)\n",
        "def matrix_multiply(A, B, C, N):\n",
        "    for ii in prange(0, N, BLOCK_SIZE):\n",
        "        for jj in range(0, N, BLOCK_SIZE):\n",
        "            for kk in range(0, N, BLOCK_SIZE):\n",
        "                i_end = min(ii + BLOCK_SIZE, N)\n",
        "                j_end = min(jj + BLOCK_SIZE, N)\n",
        "                k_end = min(kk + BLOCK_SIZE, N)\n",
        "                for i in range(ii, i_end):\n",
        "                    for j in range(jj, j_end):\n",
        "                        temp = 0.0  # Временная переменная для кэш-локальности\n",
        "                        for k in range(kk, k_end):\n",
        "                            temp += A[i, k] * B[k, j]\n",
        "                        C[i, j] += temp\n",
        "\n",
        "# Генерация данных\n",
        "A = np.random.randn(n, n).astype(np.float32)\n",
        "B = np.random.randn(n, n).astype(np.float32)\n",
        "C = np.zeros((n, n), dtype=np.float32)\n",
        "\n",
        "small_A = np.random.randn(2, 2).astype(np.float32)\n",
        "small_B = np.random.randn(2, 2).astype(np.float32)\n",
        "small_C = np.zeros((2, 2), dtype=np.float32)\n",
        "matrix_multiply(small_A, small_B, small_C, 2)\n",
        "\n",
        "start = time.time()\n",
        "matrix_multiply(A, B, C, n)\n",
        "computation_time = time.time() - start\n",
        "\n",
        "# Проверка результата\n",
        "np_result = A @ B\n",
        "if np.allclose(C, np_result, rtol=1e-4, atol=1e-7):\n",
        "    print(\"Результат корректен\")\n",
        "else:\n",
        "    print(\"Ошибка в вычислениях\")\n",
        "    diff = np.abs(C - np_result)\n",
        "    print(f\"Максимальная разница: {np.max(diff)}\")\n",
        "    print(f\"Средняя разница: {np.mean(diff)}\")\n",
        "\n",
        "# Вывод результатов\n",
        "comment = f\"Multithreaded | n={n} | float32 | Block={BLOCK_SIZE}\"\n",
        "print(f\"Время выполнения: {computation_time:.2f} сек\")\n",
        "print(comment)"
      ],
      "metadata": {
        "id": "AusoX0Hr3GZU",
        "colab": {
          "base_uri": "https://localhost:8080/",
          "height": 485
        },
        "outputId": "1fca0816-0817-4383-8ff3-c60c7108c6b4"
      },
      "id": "AusoX0Hr3GZU",
      "execution_count": 20,
      "outputs": [
        {
          "output_type": "error",
          "ename": "UnsupportedRewriteError",
          "evalue": "Failed in nopython mode pipeline (step: convert to parfors)\nOnly constant step size is supported for prange\n\nFile \"<ipython-input-20-67b1e3a432d3>\", line 11:\ndef matrix_multiply(A, B, C, N):\n    for ii in prange(0, N, BLOCK_SIZE):\n    ^\n",
          "traceback": [
            "\u001b[0;31m---------------------------------------------------------------------------\u001b[0m",
            "\u001b[0;31mUnsupportedRewriteError\u001b[0m                   Traceback (most recent call last)",
            "\u001b[0;32m<ipython-input-20-67b1e3a432d3>\u001b[0m in \u001b[0;36m<cell line: 0>\u001b[0;34m()\u001b[0m\n\u001b[1;32m     31\u001b[0m \u001b[0msmall_B\u001b[0m \u001b[0;34m=\u001b[0m \u001b[0mnp\u001b[0m\u001b[0;34m.\u001b[0m\u001b[0mrandom\u001b[0m\u001b[0;34m.\u001b[0m\u001b[0mrandn\u001b[0m\u001b[0;34m(\u001b[0m\u001b[0;36m2\u001b[0m\u001b[0;34m,\u001b[0m \u001b[0;36m2\u001b[0m\u001b[0;34m)\u001b[0m\u001b[0;34m.\u001b[0m\u001b[0mastype\u001b[0m\u001b[0;34m(\u001b[0m\u001b[0mnp\u001b[0m\u001b[0;34m.\u001b[0m\u001b[0mfloat32\u001b[0m\u001b[0;34m)\u001b[0m\u001b[0;34m\u001b[0m\u001b[0;34m\u001b[0m\u001b[0m\n\u001b[1;32m     32\u001b[0m \u001b[0msmall_C\u001b[0m \u001b[0;34m=\u001b[0m \u001b[0mnp\u001b[0m\u001b[0;34m.\u001b[0m\u001b[0mzeros\u001b[0m\u001b[0;34m(\u001b[0m\u001b[0;34m(\u001b[0m\u001b[0;36m2\u001b[0m\u001b[0;34m,\u001b[0m \u001b[0;36m2\u001b[0m\u001b[0;34m)\u001b[0m\u001b[0;34m,\u001b[0m \u001b[0mdtype\u001b[0m\u001b[0;34m=\u001b[0m\u001b[0mnp\u001b[0m\u001b[0;34m.\u001b[0m\u001b[0mfloat32\u001b[0m\u001b[0;34m)\u001b[0m\u001b[0;34m\u001b[0m\u001b[0;34m\u001b[0m\u001b[0m\n\u001b[0;32m---> 33\u001b[0;31m \u001b[0mmatrix_multiply\u001b[0m\u001b[0;34m(\u001b[0m\u001b[0msmall_A\u001b[0m\u001b[0;34m,\u001b[0m \u001b[0msmall_B\u001b[0m\u001b[0;34m,\u001b[0m \u001b[0msmall_C\u001b[0m\u001b[0;34m,\u001b[0m \u001b[0;36m2\u001b[0m\u001b[0;34m)\u001b[0m\u001b[0;34m\u001b[0m\u001b[0;34m\u001b[0m\u001b[0m\n\u001b[0m\u001b[1;32m     34\u001b[0m \u001b[0;34m\u001b[0m\u001b[0m\n\u001b[1;32m     35\u001b[0m \u001b[0;31m# Замер времени\u001b[0m\u001b[0;34m\u001b[0m\u001b[0;34m\u001b[0m\u001b[0m\n",
            "\u001b[0;32m/usr/local/lib/python3.11/dist-packages/numba/core/dispatcher.py\u001b[0m in \u001b[0;36m_compile_for_args\u001b[0;34m(self, *args, **kws)\u001b[0m\n\u001b[1;32m    424\u001b[0m         \u001b[0;32mexcept\u001b[0m \u001b[0merrors\u001b[0m\u001b[0;34m.\u001b[0m\u001b[0mUnsupportedError\u001b[0m \u001b[0;32mas\u001b[0m \u001b[0me\u001b[0m\u001b[0;34m:\u001b[0m\u001b[0;34m\u001b[0m\u001b[0;34m\u001b[0m\u001b[0m\n\u001b[1;32m    425\u001b[0m             \u001b[0;31m# Something unsupported is present in the user code, add help info\u001b[0m\u001b[0;34m\u001b[0m\u001b[0;34m\u001b[0m\u001b[0m\n\u001b[0;32m--> 426\u001b[0;31m             \u001b[0merror_rewrite\u001b[0m\u001b[0;34m(\u001b[0m\u001b[0me\u001b[0m\u001b[0;34m,\u001b[0m \u001b[0;34m'unsupported_error'\u001b[0m\u001b[0;34m)\u001b[0m\u001b[0;34m\u001b[0m\u001b[0;34m\u001b[0m\u001b[0m\n\u001b[0m\u001b[1;32m    427\u001b[0m         except (errors.NotDefinedError, errors.RedefinedError,\n\u001b[1;32m    428\u001b[0m                 errors.VerificationError) as e:\n",
            "\u001b[0;32m/usr/local/lib/python3.11/dist-packages/numba/core/dispatcher.py\u001b[0m in \u001b[0;36merror_rewrite\u001b[0;34m(e, issue_type)\u001b[0m\n\u001b[1;32m    362\u001b[0m                 \u001b[0;32mraise\u001b[0m \u001b[0me\u001b[0m\u001b[0;34m\u001b[0m\u001b[0;34m\u001b[0m\u001b[0m\n\u001b[1;32m    363\u001b[0m             \u001b[0;32melse\u001b[0m\u001b[0;34m:\u001b[0m\u001b[0;34m\u001b[0m\u001b[0;34m\u001b[0m\u001b[0m\n\u001b[0;32m--> 364\u001b[0;31m                 \u001b[0;32mraise\u001b[0m \u001b[0me\u001b[0m\u001b[0;34m.\u001b[0m\u001b[0mwith_traceback\u001b[0m\u001b[0;34m(\u001b[0m\u001b[0;32mNone\u001b[0m\u001b[0;34m)\u001b[0m\u001b[0;34m\u001b[0m\u001b[0;34m\u001b[0m\u001b[0m\n\u001b[0m\u001b[1;32m    365\u001b[0m \u001b[0;34m\u001b[0m\u001b[0m\n\u001b[1;32m    366\u001b[0m         \u001b[0margtypes\u001b[0m \u001b[0;34m=\u001b[0m \u001b[0;34m[\u001b[0m\u001b[0;34m]\u001b[0m\u001b[0;34m\u001b[0m\u001b[0;34m\u001b[0m\u001b[0m\n",
            "\u001b[0;31mUnsupportedRewriteError\u001b[0m: Failed in nopython mode pipeline (step: convert to parfors)\nOnly constant step size is supported for prange\n\nFile \"<ipython-input-20-67b1e3a432d3>\", line 11:\ndef matrix_multiply(A, B, C, N):\n    for ii in prange(0, N, BLOCK_SIZE):\n    ^\n"
          ]
        }
      ]
    },
    {
      "cell_type": "markdown",
      "source": [
        "Вот она, та самая ошибка, которую я ловлю а многопоточке. Среда стоит правильная, фиксить я это пыталась долго, особо не помогло.\n",
        "\n",
        "Не придумала, что делать. Возножно происходит тупейшая ошибка, но я в упор не вижу."
      ],
      "metadata": {
        "id": "A9f_auWYoCEz"
      },
      "id": "A9f_auWYoCEz"
    },
    {
      "cell_type": "markdown",
      "source": [
        "---"
      ],
      "metadata": {
        "id": "Ge9fwYOZ3mJq"
      },
      "id": "Ge9fwYOZ3mJq"
    },
    {
      "cell_type": "markdown",
      "source": [
        "### 5. 🧠 **BLAS-Like API Wrappers / Custom Kernels**\n",
        "\n",
        "#### 📌 What:\n",
        "\n",
        "* Write or tune custom matrix kernels (e.g., SGEMM, DGEMM) as drop-in BLAS replacements.\n",
        "\n",
        "#### 💡 Optimization Focus:\n",
        "\n",
        "* Micro-kernel tuning\n",
        "* Assembly-level optimization\n",
        "* Prefetching\n",
        "\n",
        "#### 🧪 Try This:\n",
        "\n",
        "* Look into **OpenBLAS**, **BLIS**, or **Intel MKL** source\n",
        "* Try replacing small kernels with your own variants\n",
        "---"
      ],
      "metadata": {
        "id": "hwtIauiT2gtm"
      },
      "id": "hwtIauiT2gtm"
    },
    {
      "cell_type": "code",
      "source": [
        "import numpy as np\n",
        "import time\n",
        "from numba import jit, prange\n",
        "\n",
        "n = 1000\n",
        "BLOCK_SIZE = 64\n",
        "\n",
        "@jit(nopython=True, parallel=True, fastmath=True)\n",
        "def sgemm(A, B, C, alpha=1.0, beta=0.0, N=None):\n",
        "    if N is None:\n",
        "        N = A.shape[0]\n",
        "\n",
        "    # Применяем beta к C заранее\n",
        "    if beta != 1.0:\n",
        "        for i in prange(N):\n",
        "            for j in range(N):\n",
        "                C[i, j] *= beta\n",
        "\n",
        "    # Накопление A @ B\n",
        "    num_blocks = (N + BLOCK_SIZE - 1) // BLOCK_SIZE\n",
        "    for ii in prange(num_blocks):\n",
        "        i_start = ii * BLOCK_SIZE\n",
        "        i_end = min(i_start + BLOCK_SIZE, N)\n",
        "        for jj in range(0, N, BLOCK_SIZE):\n",
        "            j_end = min(jj + BLOCK_SIZE, N)\n",
        "            for kk in range(0, N, BLOCK_SIZE):\n",
        "                k_end = min(kk + BLOCK_SIZE, N)\n",
        "                for i in range(i_start, i_end):\n",
        "                    for j in range(jj, j_end):\n",
        "                        temp = 0.0\n",
        "                        for k in range(kk, k_end):\n",
        "                            temp += A[i, k] * B[k, j]\n",
        "                        C[i, j] += alpha * temp  # Накопление\n",
        "\n",
        "# Генерация данных\n",
        "A = np.random.randn(n, n).astype(np.float32)\n",
        "B = np.random.randn(n, n).astype(np.float32)\n",
        "C = np.random.randn(n, n).astype(np.float32)\n",
        "C_original = C.copy()\n",
        "\n",
        "small_A = np.random.randn(2, 2).astype(np.float32)\n",
        "small_B = np.random.randn(2, 2).astype(np.float32)\n",
        "small_C = np.random.randn(2, 2).astype(np.float32)\n",
        "sgemm(small_A, small_B, small_C, alpha=1.0, beta=0.0, N=2)\n",
        "\n",
        "alpha = 1.0\n",
        "beta = 0.5\n",
        "start = time.time()\n",
        "sgemm(A, B, C, alpha, beta, n)\n",
        "computation_time = time.time() - start\n",
        "\n",
        "# Проверка результата\n",
        "np_result = alpha * (A @ B) + beta * C_original\n",
        "if np.allclose(C, np_result, rtol=1e-4, atol=1e-7):\n",
        "    print(\"Результат корректен\")\n",
        "else:\n",
        "    print(\"Ошибка в вычислениях\")\n",
        "    diff = np.abs(C - np_result)\n",
        "    print(f\"Максимальная разница: {np.max(diff)}\")\n",
        "    print(f\"Средняя разница: {np.mean(diff)}\")\n",
        "\n",
        "# Вывод результатов\n",
        "comment = f\"SGEMM (Numba) | n={n} | float32 | Block={BLOCK_SIZE}\"\n",
        "print(f\"Время выполнения: {computation_time:.2f} сек\")\n",
        "print(comment)\n",
        "\n",
        "send_results(computation_time, comment)"
      ],
      "metadata": {
        "colab": {
          "base_uri": "https://localhost:8080/"
        },
        "id": "l_LLLMTtok2l",
        "outputId": "65b087cd-5b42-4ce2-d68f-f3509d912524"
      },
      "id": "l_LLLMTtok2l",
      "execution_count": 29,
      "outputs": [
        {
          "output_type": "stream",
          "name": "stdout",
          "text": [
            "Ошибка в вычислениях\n",
            "Максимальная разница: 8.255243301391602e-05\n",
            "Средняя разница: 7.324625585169997e-06\n",
            "Время выполнения: 1.57 сек\n",
            "SGEMM (Numba) | n=1000 | float32 | Block=64\n"
          ]
        }
      ]
    },
    {
      "cell_type": "markdown",
      "source": [
        "В первый заход ошибка какая-то супер большая. Да и ускорения я особо не добилась.\n",
        "\n",
        "Во второй заход стало сильно лучше в плане ошибок."
      ],
      "metadata": {
        "id": "qHIb2NYUolT3"
      },
      "id": "qHIb2NYUolT3"
    },
    {
      "cell_type": "markdown",
      "source": [
        "### 6. 🧪 **GPU Matrix Multiply (CUDA / ROCm)**\n",
        "\n",
        "#### 📌 What:\n",
        "\n",
        "* Use GPU threads to parallelize matrix operations massively.\n",
        "\n",
        "#### 💡 Optimization Focus:\n",
        "\n",
        "* Thread/block scheduling\n",
        "* Shared memory reuse\n",
        "* Warp-level primitives (WMMA for tensor cores)\n",
        "\n",
        "#### 🧪 Try This:"
      ],
      "metadata": {
        "id": "M9ZpuSHF2J99"
      },
      "id": "M9ZpuSHF2J99"
    },
    {
      "cell_type": "code",
      "source": [
        "# Try writing a CUDA (or CuPy) kernel from scratch\n",
        "# Then optimize with shared memory and tiling"
      ],
      "metadata": {
        "id": "1ugWtch92MNF"
      },
      "id": "1ugWtch92MNF",
      "execution_count": null,
      "outputs": []
    },
    {
      "cell_type": "markdown",
      "source": [
        "---"
      ],
      "metadata": {
        "id": "5vA1EZ_z2YED"
      },
      "id": "5vA1EZ_z2YED"
    },
    {
      "cell_type": "markdown",
      "source": [
        "### 7. 🔄 **Low-Precision / Quantized MatMul**\n",
        "\n",
        "#### 📌 What:\n",
        "\n",
        "* Reduce precision to FP16, INT8, or even binary for speedup.\n",
        "\n",
        "#### 💡 Optimization Focus:\n",
        "\n",
        "* Saturating arithmetic\n",
        "* Vectorized packing/unpacking\n",
        "* Quantization-aware fusion (scaling factors, zero-points)\n",
        "\n",
        "#### 🧪 Try This:\n",
        "\n",
        "* Use **TensorRT**, **ONNX Runtime**, or **custom C++/Python code**"
      ],
      "metadata": {
        "id": "V80BYnHZ12RV"
      },
      "id": "V80BYnHZ12RV"
    },
    {
      "cell_type": "markdown",
      "source": [
        "---"
      ],
      "metadata": {
        "id": "9EloEsnh19x1"
      },
      "id": "9EloEsnh19x1"
    },
    {
      "cell_type": "markdown",
      "source": [
        "### 8. 🧩 **Sparse Matrix Multiplication (SpMM)**\n",
        "\n",
        "#### 📌 What:\n",
        "\n",
        "* Efficiently multiply when one or both matrices are sparse.\n",
        "\n",
        "#### 💡 Optimization Focus:\n",
        "\n",
        "* Sparse data structures (CSR, CSC)\n",
        "* Loop skipping and pointer arithmetic\n",
        "* Tiling with sparsity-awareness\n",
        "\n",
        "#### 🧪 Try This:"
      ],
      "metadata": {
        "id": "TCxkgEij1rer"
      },
      "id": "TCxkgEij1rer"
    },
    {
      "cell_type": "code",
      "source": [
        "from scipy.sparse import csr_matrix\n",
        "A = csr_matrix(...)\n",
        "C = A @ B  # Sparse x Dense or Sparse x Sparse"
      ],
      "metadata": {
        "id": "Np-e1Nwb1iPG"
      },
      "id": "Np-e1Nwb1iPG",
      "execution_count": null,
      "outputs": []
    },
    {
      "cell_type": "markdown",
      "source": [
        "## 🛠️ Toolchains & Languages for Optimization\n",
        "\n",
        "| Tool / Language        | Best Use Case                  |\n",
        "| ---------------------- | ------------------------------ |\n",
        "| **NumPy + Numba**      | High-level, rapid prototyping  |\n",
        "| **C/C++ + OpenMP**     | Low-level CPU optimization     |\n",
        "| **CUDA / OpenCL**      | GPU acceleration               |\n",
        "| **Rust + Rayon**       | Safe parallel matrix code      |\n",
        "| **Assembly (x86/ARM)** | For hardcore SIMD tuning       |\n",
        "| **Python + Cython**    | Balance between ease and speed |\n",
        "\n",
        "---\n",
        "\n",
        "## 🎓 Summary Table\n",
        "\n",
        "| Method                  | Speed  | Difficulty | Teachable?  | Optimizable? |\n",
        "| ----------------------- | ------ | ---------- | ----------- | ------------ |\n",
        "| Blocked MatMul          | ✅ High | 🟢 Easy    | ✅ Yes       | ✅ Yes        |\n",
        "| Strassen                | ✅ Med  | 🟡 Medium  | ✅ Yes       | ✅ Yes        |\n",
        "| SIMD MatMul             | ✅ High | 🔴 Hard    | ✅ Yes       | ✅ Yes        |\n",
        "| Multithreaded           | ✅ High | 🟡 Medium  | ✅ Yes       | ✅ Yes        |\n",
        "| GPU                     | ✅✅     | 🔴 Hard    | ✅ Yes       | ✅ Yes        |\n",
        "| Quantized/Low-Precision | ✅ High | 🟡 Medium  | 🟢 Somewhat | ✅ Yes        |\n",
        "| Sparse MatMul           | ✅ Med  | 🟡 Medium  | ✅ Yes       | ✅ Yes        |"
      ],
      "metadata": {
        "id": "vfYVYK571ei-"
      },
      "id": "vfYVYK571ei-"
    },
    {
      "cell_type": "markdown",
      "id": "ef11f470",
      "metadata": {
        "id": "ef11f470"
      },
      "source": [
        "---"
      ]
    },
    {
      "cell_type": "markdown",
      "source": [
        "# Заключение\n",
        "\n",
        "Расскажите, какой опыт Вы сегодня получили для себя? Как Вы оцениваете свой прогресс? Как можно было бы улучшить сегодняшнее занятие по Вашему мнению?\n",
        "\n",
        "У меня с оптимизацией всегда проблемы, так что сегодняшнее занятие - 100% выход из зоны комфорта. Верните меня обратно, пожалуйста (((\n",
        "\n",
        "Ну и как-то успела сильно не все, хотелось бы чуть больше времени. Достаточно тяжело слепить теорию и практику."
      ],
      "metadata": {
        "id": "rYkqCaN_X4TC"
      },
      "id": "rYkqCaN_X4TC"
    }
  ],
  "metadata": {
    "language_info": {
      "name": "python"
    },
    "colab": {
      "provenance": [],
      "gpuType": "T4"
    },
    "kernelspec": {
      "name": "python3",
      "display_name": "Python 3"
    },
    "accelerator": "GPU"
  },
  "nbformat": 4,
  "nbformat_minor": 5
}